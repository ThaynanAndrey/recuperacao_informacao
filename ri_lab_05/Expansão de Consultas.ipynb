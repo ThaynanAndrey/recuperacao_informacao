{
 "cells": [
  {
   "cell_type": "markdown",
   "metadata": {},
   "source": [
    "## Expansão de Consultas para a coleção de artigos obtidos no site Carta Capital"
   ]
  },
  {
   "cell_type": "markdown",
   "metadata": {},
   "source": [
    "### Importando-se os pacotes necessários para a atividade"
   ]
  },
  {
   "cell_type": "code",
   "execution_count": 1,
   "metadata": {},
   "outputs": [],
   "source": [
    "import pandas as pd\n",
    "import re\n",
    "import operator\n",
    "import time\n",
    "import sys\n",
    "from math import log\n",
    "from collections import Counter\n",
    "from unicodedata import normalize"
   ]
  },
  {
   "cell_type": "markdown",
   "metadata": {},
   "source": [
    "### Obtendo-se coleção do site Carta Capital"
   ]
  },
  {
   "cell_type": "code",
   "execution_count": 2,
   "metadata": {},
   "outputs": [],
   "source": [
    "data_frame = pd.read_csv(\"results.csv\")\n",
    "documentos = data_frame[\"text\"].tolist()"
   ]
  },
  {
   "cell_type": "markdown",
   "metadata": {},
   "source": [
    "### Gerando índices invertidos (feito no último lab)"
   ]
  },
  {
   "cell_type": "markdown",
   "metadata": {},
   "source": [
    "#### Algoritmo \"parse\" para obter os tokens de um determinado documento"
   ]
  },
  {
   "cell_type": "code",
   "execution_count": 102,
   "metadata": {},
   "outputs": [],
   "source": [
    "def is_pontuacao(token):\n",
    "    '''\n",
    "        Retorna-se um booleano indicando se o token passado por parâmetro é uma pontuação.\n",
    "    '''\n",
    "    lista_pontuacoes = [\",\", \".\", \"!\", \"?\", \":\", \"/\", \"#\", \"*\", \"(\", \")\", \";\", \"\"]\n",
    "    return token.strip() in lista_pontuacoes\n",
    "\n",
    "def remove_acentuacoes(token):\n",
    "    '''\n",
    "        Remove as acentuações de um token.\n",
    "    '''\n",
    "    token_unicode = unicode(token, \"utf-8\")\n",
    "    return normalize('NFKD', token_unicode).encode('ASCII','ignore')\n",
    "\n",
    "def parse(texto):\n",
    "    '''\n",
    "        Transforma o texto em uma lista de tokens, eliminando espaços vazios, acentuações e pontuações, e\n",
    "        tranforma todas as palavras em letras minúsculas.\n",
    "    '''\n",
    "    texto = re.sub(r'[,.!?:*();]', ' ', str(texto))\n",
    "    texto = re.sub(r'\\n', ' ', texto)\n",
    "    lista_texto = texto.split(' ')\n",
    "\n",
    "    tokens = []\n",
    "    for palavra in lista_texto:\n",
    "        token = palavra.lower()\n",
    "        token = token.strip()\n",
    "        token = remove_acentuacoes(token)\n",
    "\n",
    "        if(not is_pontuacao(token)):\n",
    "            tokens.append(token)\n",
    "    \n",
    "    return tokens"
   ]
  },
  {
   "cell_type": "markdown",
   "metadata": {},
   "source": [
    "#### Algoritmo para obtenção dos índices invertidos"
   ]
  },
  {
   "cell_type": "code",
   "execution_count": 103,
   "metadata": {},
   "outputs": [],
   "source": [
    "stop_words = [\"para\", \"como\", \"esta\", \"mais\", \"pelo\", \"pela\", \"sobre\", \"isso\", \"essa\", \"esse\", \"essa\", \"aquele\", \"aquilo\",\n",
    "             \"seus\", \"suas\", \"nosso\", \"nossos\", \"nossas\", \"entao\", \"assim\", \"ainda\", \"porem\"]\n",
    "\n",
    "def get_indices_invertidos(documentos):\n",
    "    '''\n",
    "        Obtém uma lista de índices invertidos a partir de uma lista de documentos.\n",
    "    '''\n",
    "    indices_invertidos = {}\n",
    "    for i in range(len(documentos)):\n",
    "        doc = parse(documentos[i])\n",
    "        documento_counter = Counter(doc)\n",
    "        \n",
    "        for indice in documento_counter.keys():\n",
    "            if(len(indice) > 3 and indice not in stop_words): # Evita stop words\n",
    "                if(indice in indices_invertidos):\n",
    "                    indices_invertidos[indice][i] = documento_counter[indice]\n",
    "                else:\n",
    "                    indices_invertidos[indice] = { i: documento_counter[indice] }\n",
    "    \n",
    "    return indices_invertidos"
   ]
  },
  {
   "cell_type": "markdown",
   "metadata": {},
   "source": [
    "#### Obtendo-se os índices invertidos a partir dos documentos obtidos do Carta Capital"
   ]
  },
  {
   "cell_type": "code",
   "execution_count": 104,
   "metadata": {},
   "outputs": [],
   "source": [
    "indices_invertidos = get_indices_invertidos(documentos)"
   ]
  },
  {
   "cell_type": "markdown",
   "metadata": {},
   "source": [
    "### 1) Calcule as top-10 palavras mais associadas a cada uma dessas 5 palavras de acordo com as 4 métricas que vimos na aula. Você deve produzir uma tabela similar à tabela 6.3 do capítulo 6 do livro texto (pág. 204). Qual métrica você acha que obteve os melhores resultados? Por que?"
   ]
  },
  {
   "cell_type": "markdown",
   "metadata": {},
   "source": [
    "### Palavras escolhidas na questão 2.1 do  lab anterior\n",
    "\n",
    "1. bolsonaro\n",
    "2. brasil\n",
    "3. casa\n",
    "4. nome\n",
    "5. vida"
   ]
  },
  {
   "cell_type": "markdown",
   "metadata": {},
   "source": [
    "### Algoritmos para métricas"
   ]
  },
  {
   "cell_type": "markdown",
   "metadata": {},
   "source": [
    "#### Mutual Information MIM"
   ]
  },
  {
   "cell_type": "code",
   "execution_count": 105,
   "metadata": {},
   "outputs": [],
   "source": [
    "def mim(na, nb, nab):\n",
    "    '''\n",
    "        Calcula o Mutual Information (MIM)\n",
    "    '''\n",
    "    return nab / float(na*nb)"
   ]
  },
  {
   "cell_type": "markdown",
   "metadata": {},
   "source": [
    "#### Expected Mutual Information (EMIM)"
   ]
  },
  {
   "cell_type": "code",
   "execution_count": 106,
   "metadata": {},
   "outputs": [],
   "source": [
    "def emim(na, nb, nab, N):\n",
    "    '''\n",
    "        Calcula o Expected Mutual Information (EMIM)\n",
    "    '''\n",
    "    if nab == 0:\n",
    "        return 0\n",
    "    return nab * log(N * nab / float(na*nb))"
   ]
  },
  {
   "cell_type": "markdown",
   "metadata": {},
   "source": [
    "#### Chi-Square (X²)"
   ]
  },
  {
   "cell_type": "code",
   "execution_count": 107,
   "metadata": {},
   "outputs": [],
   "source": [
    "def chi_square(na, nb, nab, N):\n",
    "    '''\n",
    "        Calcula o Chi-Square (X²)\n",
    "    '''    \n",
    "    numerador = (nab - (na*nb)/N) ** 2\n",
    "    denominador = float(na * nb)\n",
    "    return numerador / denominador"
   ]
  },
  {
   "cell_type": "markdown",
   "metadata": {},
   "source": [
    "#### Dice's Coefficient (Dice)"
   ]
  },
  {
   "cell_type": "code",
   "execution_count": 108,
   "metadata": {},
   "outputs": [],
   "source": [
    "def dice(na, nb, nab):\n",
    "    '''\n",
    "        Calcula o Dice's Coefficient (Dice)\n",
    "    '''\n",
    "    return nab / float(na + nb)"
   ]
  },
  {
   "cell_type": "markdown",
   "metadata": {},
   "source": [
    "### Calcular coeficientes"
   ]
  },
  {
   "cell_type": "code",
   "execution_count": 109,
   "metadata": {},
   "outputs": [],
   "source": [
    "def getInterecaoListaPalavras(lista_ids_palavra_1, lista_ids_palavra_2):\n",
    "    '''\n",
    "        Obtém a interseção entre duas listas\n",
    "    '''\n",
    "    intersecao = []\n",
    "    for id1 in lista_ids_palavra_1:\n",
    "        for id2 in lista_ids_palavra_2:\n",
    "            if id1 == id2:\n",
    "                intersecao.append(id1)\n",
    "    return intersecao\n",
    "\n",
    "def getKey(item):\n",
    "    '''\n",
    "        Obtém a chave de cada item\n",
    "    '''\n",
    "    return item[1]\n",
    "\n",
    "palavras_escolhidas = [\"bolsonaro\", \"brasil\", \"casa\", \"nome\", \"vida\"]\n",
    "\n",
    "rankings = {\"bolsonaro\": {\"mim\": [], \"emim\": [], \"x2\": [], \"dice\": []},\n",
    "            \"brasil\": {\"mim\": [], \"emim\": [], \"x2\": [], \"dice\": []},\n",
    "            \"casa\": {\"mim\": [], \"emim\": [], \"x2\": [], \"dice\": []},\n",
    "            \"nome\": {\"mim\": [], \"emim\": [], \"x2\": [], \"dice\": []},\n",
    "            \"vida\": {\"mim\": [], \"emim\": [], \"x2\": [], \"dice\": []}}\n",
    "\n",
    "for palavra in palavras_escolhidas:\n",
    "    N = len(indices_invertidos.keys())\n",
    "    na = len(indices_invertidos[palavra])\n",
    "    \n",
    "    for indice in indices_invertidos.keys():\n",
    "        if(indice != palavra):\n",
    "            nb = len(indices_invertidos[indice])\n",
    "            nab = len(getInterecaoListaPalavras(indices_invertidos[palavra].keys(), indices_invertidos[indice].keys()))\n",
    "            \n",
    "            if(nab > 0): # Se não tem interseção, então são independentes e não entram nas contas\n",
    "                calc_mim = mim(na, nb, nab)\n",
    "                calc_emim = emim(na, nb, nab, N)\n",
    "                calc_chi_square = chi_square(na, nb, nab, N)\n",
    "                calc_dice = dice(na, nb, nab)\n",
    "                \n",
    "                rankings[palavra][\"mim\"].append((indice, calc_mim))\n",
    "                rankings[palavra][\"emim\"].append((indice, calc_emim))\n",
    "                rankings[palavra][\"x2\"].append((indice, calc_chi_square))\n",
    "                rankings[palavra][\"dice\"].append((indice, calc_dice))\n",
    "            \n",
    "    rankings[palavra][\"mim\"] = sorted(rankings[palavra][\"mim\"], reverse=True, key=getKey)[:10]\n",
    "    rankings[palavra][\"emim\"] = sorted(rankings[palavra][\"emim\"], reverse=True, key=getKey)[:10]\n",
    "    rankings[palavra][\"x2\"] = sorted(rankings[palavra][\"x2\"], reverse=True, key=getKey)[:10]\n",
    "    rankings[palavra][\"dice\"] = sorted(rankings[palavra][\"dice\"], reverse=True, key=getKey)[:10]"
   ]
  },
  {
   "cell_type": "markdown",
   "metadata": {},
   "source": [
    "#### Tabela para as palavras mais associadas a bolsonaro"
   ]
  },
  {
   "cell_type": "code",
   "execution_count": 110,
   "metadata": {},
   "outputs": [
    {
     "data": {
      "text/html": [
       "<div>\n",
       "<style scoped>\n",
       "    .dataframe tbody tr th:only-of-type {\n",
       "        vertical-align: middle;\n",
       "    }\n",
       "\n",
       "    .dataframe tbody tr th {\n",
       "        vertical-align: top;\n",
       "    }\n",
       "\n",
       "    .dataframe thead th {\n",
       "        text-align: right;\n",
       "    }\n",
       "</style>\n",
       "<table border=\"1\" class=\"dataframe\">\n",
       "  <thead>\n",
       "    <tr style=\"text-align: right;\">\n",
       "      <th></th>\n",
       "      <th>MIM</th>\n",
       "      <th>EMIM</th>\n",
       "      <th>X²</th>\n",
       "      <th>Dice</th>\n",
       "    </tr>\n",
       "  </thead>\n",
       "  <tbody>\n",
       "    <tr>\n",
       "      <th>0</th>\n",
       "      <td>sucateamento</td>\n",
       "      <td>presidente</td>\n",
       "      <td>jair</td>\n",
       "      <td>jair</td>\n",
       "    </tr>\n",
       "    <tr>\n",
       "      <th>1</th>\n",
       "      <td>bloqueou</td>\n",
       "      <td>tambem</td>\n",
       "      <td>presidente</td>\n",
       "      <td>presidente</td>\n",
       "    </tr>\n",
       "    <tr>\n",
       "      <th>2</th>\n",
       "      <td>scola</td>\n",
       "      <td>governo</td>\n",
       "      <td>brasil</td>\n",
       "      <td>brasil</td>\n",
       "    </tr>\n",
       "    <tr>\n",
       "      <th>3</th>\n",
       "      <td>capoeira</td>\n",
       "      <td>brasil</td>\n",
       "      <td>governo</td>\n",
       "      <td>governo</td>\n",
       "    </tr>\n",
       "    <tr>\n",
       "      <th>4</th>\n",
       "      <td>linterpol</td>\n",
       "      <td>jair</td>\n",
       "      <td>tambem</td>\n",
       "      <td>tambem</td>\n",
       "    </tr>\n",
       "    <tr>\n",
       "      <th>5</th>\n",
       "      <td>minimizaria</td>\n",
       "      <td>anos</td>\n",
       "      <td>deputado</td>\n",
       "      <td>contra</td>\n",
       "    </tr>\n",
       "    <tr>\n",
       "      <th>6</th>\n",
       "      <td>membros</td>\n",
       "      <td>disse</td>\n",
       "      <td>contra</td>\n",
       "      <td>mesmo</td>\n",
       "    </tr>\n",
       "    <tr>\n",
       "      <th>7</th>\n",
       "      <td>fuera</td>\n",
       "      <td>contra</td>\n",
       "      <td>campanha</td>\n",
       "      <td>disse</td>\n",
       "    </tr>\n",
       "    <tr>\n",
       "      <th>8</th>\n",
       "      <td>anulou</td>\n",
       "      <td>entre</td>\n",
       "      <td>disse</td>\n",
       "      <td>quando</td>\n",
       "    </tr>\n",
       "    <tr>\n",
       "      <th>9</th>\n",
       "      <td>guardados</td>\n",
       "      <td>mesmo</td>\n",
       "      <td>mesmo</td>\n",
       "      <td>anos</td>\n",
       "    </tr>\n",
       "  </tbody>\n",
       "</table>\n",
       "</div>"
      ],
      "text/plain": [
       "            MIM        EMIM          X²        Dice\n",
       "0  sucateamento  presidente        jair        jair\n",
       "1      bloqueou      tambem  presidente  presidente\n",
       "2         scola     governo      brasil      brasil\n",
       "3      capoeira      brasil     governo     governo\n",
       "4     linterpol        jair      tambem      tambem\n",
       "5   minimizaria        anos    deputado      contra\n",
       "6       membros       disse      contra       mesmo\n",
       "7         fuera      contra    campanha       disse\n",
       "8        anulou       entre       disse      quando\n",
       "9     guardados       mesmo       mesmo        anos"
      ]
     },
     "execution_count": 110,
     "metadata": {},
     "output_type": "execute_result"
    }
   ],
   "source": [
    "colunas = [\"MIM\", \"EMIM\", \"X²\", \"Dice\"]\n",
    "\n",
    "palavras_associadas_mim_bolsonaro = [palavra for palavra, pontuacao in rankings[\"bolsonaro\"][\"mim\"]]\n",
    "palavras_associadas_emim_bolsonaro = [palavra for palavra, pontuacao in rankings[\"bolsonaro\"][\"emim\"]]\n",
    "palavras_associadas_x2_bolsonaro = [palavra for palavra, pontuacao in rankings[\"bolsonaro\"][\"x2\"]]\n",
    "palavras_associadas_dice_bolsonaro = [palavra for palavra, pontuacao in rankings[\"bolsonaro\"][\"dice\"]]\n",
    "\n",
    "tabela_palavras_associadas_bolsonaro = pd.DataFrame({\"MIM\": palavras_associadas_mim_bolsonaro, \n",
    "                                 \"EMIM\": palavras_associadas_emim_bolsonaro,\n",
    "                                 \"X²\": palavras_associadas_x2_bolsonaro,\n",
    "                                 \"Dice\": palavras_associadas_dice_bolsonaro})\n",
    "tabela_palavras_associadas_bolsonaro = tabela_palavras_associadas_bolsonaro.reindex(columns=colunas)\n",
    "\n",
    "tabela_palavras_associadas_bolsonaro"
   ]
  },
  {
   "cell_type": "markdown",
   "metadata": {},
   "source": [
    "#### Tabela para as palavras mais associadas a brasil"
   ]
  },
  {
   "cell_type": "code",
   "execution_count": 111,
   "metadata": {},
   "outputs": [
    {
     "data": {
      "text/html": [
       "<div>\n",
       "<style scoped>\n",
       "    .dataframe tbody tr th:only-of-type {\n",
       "        vertical-align: middle;\n",
       "    }\n",
       "\n",
       "    .dataframe tbody tr th {\n",
       "        vertical-align: top;\n",
       "    }\n",
       "\n",
       "    .dataframe thead th {\n",
       "        text-align: right;\n",
       "    }\n",
       "</style>\n",
       "<table border=\"1\" class=\"dataframe\">\n",
       "  <thead>\n",
       "    <tr style=\"text-align: right;\">\n",
       "      <th></th>\n",
       "      <th>MIM</th>\n",
       "      <th>EMIM</th>\n",
       "      <th>X²</th>\n",
       "      <th>Dice</th>\n",
       "    </tr>\n",
       "  </thead>\n",
       "  <tbody>\n",
       "    <tr>\n",
       "      <th>0</th>\n",
       "      <td>sucateamento</td>\n",
       "      <td>tambem</td>\n",
       "      <td>tambem</td>\n",
       "      <td>tambem</td>\n",
       "    </tr>\n",
       "    <tr>\n",
       "      <th>1</th>\n",
       "      <td>bloqueou</td>\n",
       "      <td>governo</td>\n",
       "      <td>pais</td>\n",
       "      <td>pais</td>\n",
       "    </tr>\n",
       "    <tr>\n",
       "      <th>2</th>\n",
       "      <td>francesco</td>\n",
       "      <td>pais</td>\n",
       "      <td>bolsonaro</td>\n",
       "      <td>bolsonaro</td>\n",
       "    </tr>\n",
       "    <tr>\n",
       "      <th>3</th>\n",
       "      <td>prestadoras</td>\n",
       "      <td>presidente</td>\n",
       "      <td>governo</td>\n",
       "      <td>governo</td>\n",
       "    </tr>\n",
       "    <tr>\n",
       "      <th>4</th>\n",
       "      <td>scola</td>\n",
       "      <td>anos</td>\n",
       "      <td>presidente</td>\n",
       "      <td>presidente</td>\n",
       "    </tr>\n",
       "    <tr>\n",
       "      <th>5</th>\n",
       "      <td>atingia</td>\n",
       "      <td>segundo</td>\n",
       "      <td>anos</td>\n",
       "      <td>anos</td>\n",
       "    </tr>\n",
       "    <tr>\n",
       "      <th>6</th>\n",
       "      <td>capoeira</td>\n",
       "      <td>entre</td>\n",
       "      <td>entre</td>\n",
       "      <td>entre</td>\n",
       "    </tr>\n",
       "    <tr>\n",
       "      <th>7</th>\n",
       "      <td>entrevistadas</td>\n",
       "      <td>bolsonaro</td>\n",
       "      <td>segundo</td>\n",
       "      <td>segundo</td>\n",
       "    </tr>\n",
       "    <tr>\n",
       "      <th>8</th>\n",
       "      <td>linterpol</td>\n",
       "      <td>foram</td>\n",
       "      <td>politica</td>\n",
       "      <td>mesmo</td>\n",
       "    </tr>\n",
       "    <tr>\n",
       "      <th>9</th>\n",
       "      <td>minimizaria</td>\n",
       "      <td>disse</td>\n",
       "      <td>quando</td>\n",
       "      <td>quando</td>\n",
       "    </tr>\n",
       "  </tbody>\n",
       "</table>\n",
       "</div>"
      ],
      "text/plain": [
       "             MIM        EMIM          X²        Dice\n",
       "0   sucateamento      tambem      tambem      tambem\n",
       "1       bloqueou     governo        pais        pais\n",
       "2      francesco        pais   bolsonaro   bolsonaro\n",
       "3    prestadoras  presidente     governo     governo\n",
       "4          scola        anos  presidente  presidente\n",
       "5        atingia     segundo        anos        anos\n",
       "6       capoeira       entre       entre       entre\n",
       "7  entrevistadas   bolsonaro     segundo     segundo\n",
       "8      linterpol       foram    politica       mesmo\n",
       "9    minimizaria       disse      quando      quando"
      ]
     },
     "execution_count": 111,
     "metadata": {},
     "output_type": "execute_result"
    }
   ],
   "source": [
    "colunas = [\"MIM\", \"EMIM\", \"X²\", \"Dice\"]\n",
    "\n",
    "palavras_associadas_mim_brasil = [palavra for palavra, pontuacao in rankings[\"brasil\"][\"mim\"]]\n",
    "palavras_associadas_emim_brasil = [palavra for palavra, pontuacao in rankings[\"brasil\"][\"emim\"]]\n",
    "palavras_associadas_x2_brasil = [palavra for palavra, pontuacao in rankings[\"brasil\"][\"x2\"]]\n",
    "palavras_associadas_dice_brasil = [palavra for palavra, pontuacao in rankings[\"brasil\"][\"dice\"]]\n",
    "\n",
    "tabela_palavras_associadas_brasil = pd.DataFrame({\"MIM\": palavras_associadas_mim_brasil, \n",
    "                                 \"EMIM\": palavras_associadas_emim_brasil,\n",
    "                                 \"X²\": palavras_associadas_x2_brasil,\n",
    "                                 \"Dice\": palavras_associadas_dice_brasil})\n",
    "tabela_palavras_associadas_brasil = tabela_palavras_associadas_brasil.reindex(columns=colunas)\n",
    "\n",
    "tabela_palavras_associadas_brasil"
   ]
  },
  {
   "cell_type": "markdown",
   "metadata": {},
   "source": [
    "#### Tabela para as palavras mais associadas a casa"
   ]
  },
  {
   "cell_type": "code",
   "execution_count": 112,
   "metadata": {},
   "outputs": [
    {
     "data": {
      "text/html": [
       "<div>\n",
       "<style scoped>\n",
       "    .dataframe tbody tr th:only-of-type {\n",
       "        vertical-align: middle;\n",
       "    }\n",
       "\n",
       "    .dataframe tbody tr th {\n",
       "        vertical-align: top;\n",
       "    }\n",
       "\n",
       "    .dataframe thead th {\n",
       "        text-align: right;\n",
       "    }\n",
       "</style>\n",
       "<table border=\"1\" class=\"dataframe\">\n",
       "  <thead>\n",
       "    <tr style=\"text-align: right;\">\n",
       "      <th></th>\n",
       "      <th>MIM</th>\n",
       "      <th>EMIM</th>\n",
       "      <th>X²</th>\n",
       "      <th>Dice</th>\n",
       "    </tr>\n",
       "  </thead>\n",
       "  <tbody>\n",
       "    <tr>\n",
       "      <th>0</th>\n",
       "      <td>minimizaria</td>\n",
       "      <td>presidente</td>\n",
       "      <td>branca</td>\n",
       "      <td>branca</td>\n",
       "    </tr>\n",
       "    <tr>\n",
       "      <th>1</th>\n",
       "      <td>membros</td>\n",
       "      <td>tambem</td>\n",
       "      <td>presidente</td>\n",
       "      <td>outra</td>\n",
       "    </tr>\n",
       "    <tr>\n",
       "      <th>2</th>\n",
       "      <td>anulou</td>\n",
       "      <td>governo</td>\n",
       "      <td>lorenzoni</td>\n",
       "      <td>deputado</td>\n",
       "    </tr>\n",
       "    <tr>\n",
       "      <th>3</th>\n",
       "      <td>guardador</td>\n",
       "      <td>segundo</td>\n",
       "      <td>outra</td>\n",
       "      <td>tinha</td>\n",
       "    </tr>\n",
       "    <tr>\n",
       "      <th>4</th>\n",
       "      <td>derrotado</td>\n",
       "      <td>quando</td>\n",
       "      <td>quando</td>\n",
       "      <td>presidente</td>\n",
       "    </tr>\n",
       "    <tr>\n",
       "      <th>5</th>\n",
       "      <td>dialoga</td>\n",
       "      <td>entre</td>\n",
       "      <td>deputado</td>\n",
       "      <td>quem</td>\n",
       "    </tr>\n",
       "    <tr>\n",
       "      <th>6</th>\n",
       "      <td>promovemos</td>\n",
       "      <td>desde</td>\n",
       "      <td>desde</td>\n",
       "      <td>camara</td>\n",
       "    </tr>\n",
       "    <tr>\n",
       "      <th>7</th>\n",
       "      <td>declaracao colocando</td>\n",
       "      <td>mesmo</td>\n",
       "      <td>mesmo</td>\n",
       "      <td>quando</td>\n",
       "    </tr>\n",
       "    <tr>\n",
       "      <th>8</th>\n",
       "      <td>planices</td>\n",
       "      <td>disse</td>\n",
       "      <td>quem</td>\n",
       "      <td>fazer</td>\n",
       "    </tr>\n",
       "    <tr>\n",
       "      <th>9</th>\n",
       "      <td>chamava</td>\n",
       "      <td>depois</td>\n",
       "      <td>depois</td>\n",
       "      <td>desde</td>\n",
       "    </tr>\n",
       "  </tbody>\n",
       "</table>\n",
       "</div>"
      ],
      "text/plain": [
       "                    MIM        EMIM          X²        Dice\n",
       "0           minimizaria  presidente      branca      branca\n",
       "1               membros      tambem  presidente       outra\n",
       "2                anulou     governo   lorenzoni    deputado\n",
       "3             guardador     segundo       outra       tinha\n",
       "4             derrotado      quando      quando  presidente\n",
       "5               dialoga       entre    deputado        quem\n",
       "6            promovemos       desde       desde      camara\n",
       "7  declaracao colocando       mesmo       mesmo      quando\n",
       "8              planices       disse        quem       fazer\n",
       "9               chamava      depois      depois       desde"
      ]
     },
     "execution_count": 112,
     "metadata": {},
     "output_type": "execute_result"
    }
   ],
   "source": [
    "colunas = [\"MIM\", \"EMIM\", \"X²\", \"Dice\"]\n",
    "\n",
    "palavras_associadas_mim_casa = [palavra for palavra, pontuacao in rankings[\"casa\"][\"mim\"]]\n",
    "palavras_associadas_emim_casa = [palavra for palavra, pontuacao in rankings[\"casa\"][\"emim\"]]\n",
    "palavras_associadas_x2_casa = [palavra for palavra, pontuacao in rankings[\"casa\"][\"x2\"]]\n",
    "palavras_associadas_dice_casa = [palavra for palavra, pontuacao in rankings[\"casa\"][\"dice\"]]\n",
    "\n",
    "tabela_palavras_associadas_casa = pd.DataFrame({\"MIM\": palavras_associadas_mim_casa, \n",
    "                                 \"EMIM\": palavras_associadas_emim_casa,\n",
    "                                 \"X²\": palavras_associadas_x2_casa,\n",
    "                                 \"Dice\": palavras_associadas_dice_casa})\n",
    "tabela_palavras_associadas_casa = tabela_palavras_associadas_casa.reindex(columns=colunas)\n",
    "\n",
    "tabela_palavras_associadas_casa"
   ]
  },
  {
   "cell_type": "markdown",
   "metadata": {},
   "source": [
    "#### Tabela para as palavras mais associadas a nome"
   ]
  },
  {
   "cell_type": "code",
   "execution_count": 113,
   "metadata": {},
   "outputs": [
    {
     "data": {
      "text/html": [
       "<div>\n",
       "<style scoped>\n",
       "    .dataframe tbody tr th:only-of-type {\n",
       "        vertical-align: middle;\n",
       "    }\n",
       "\n",
       "    .dataframe tbody tr th {\n",
       "        vertical-align: top;\n",
       "    }\n",
       "\n",
       "    .dataframe thead th {\n",
       "        text-align: right;\n",
       "    }\n",
       "</style>\n",
       "<table border=\"1\" class=\"dataframe\">\n",
       "  <thead>\n",
       "    <tr style=\"text-align: right;\">\n",
       "      <th></th>\n",
       "      <th>MIM</th>\n",
       "      <th>EMIM</th>\n",
       "      <th>X²</th>\n",
       "      <th>Dice</th>\n",
       "    </tr>\n",
       "  </thead>\n",
       "  <tbody>\n",
       "    <tr>\n",
       "      <th>0</th>\n",
       "      <td>prestadoras</td>\n",
       "      <td>tambem</td>\n",
       "      <td>tambem</td>\n",
       "      <td>epoca</td>\n",
       "    </tr>\n",
       "    <tr>\n",
       "      <th>1</th>\n",
       "      <td>lenco</td>\n",
       "      <td>brasil</td>\n",
       "      <td>brasil</td>\n",
       "      <td>movimento</td>\n",
       "    </tr>\n",
       "    <tr>\n",
       "      <th>2</th>\n",
       "      <td>capoeira</td>\n",
       "      <td>disse</td>\n",
       "      <td>blog</td>\n",
       "      <td>conta</td>\n",
       "    </tr>\n",
       "    <tr>\n",
       "      <th>3</th>\n",
       "      <td>membros</td>\n",
       "      <td>governo</td>\n",
       "      <td>disse</td>\n",
       "      <td>numero</td>\n",
       "    </tr>\n",
       "    <tr>\n",
       "      <th>4</th>\n",
       "      <td>guardador</td>\n",
       "      <td>presidente</td>\n",
       "      <td>bolsonaro</td>\n",
       "      <td>republica</td>\n",
       "    </tr>\n",
       "    <tr>\n",
       "      <th>5</th>\n",
       "      <td>planices</td>\n",
       "      <td>bolsonaro</td>\n",
       "      <td>apos</td>\n",
       "      <td>nada</td>\n",
       "    </tr>\n",
       "    <tr>\n",
       "      <th>6</th>\n",
       "      <td>ex-militares</td>\n",
       "      <td>apos</td>\n",
       "      <td>conta</td>\n",
       "      <td>jornal</td>\n",
       "    </tr>\n",
       "    <tr>\n",
       "      <th>7</th>\n",
       "      <td>surgiam</td>\n",
       "      <td>afirmou</td>\n",
       "      <td>afirmou</td>\n",
       "      <td>gabinete</td>\n",
       "    </tr>\n",
       "    <tr>\n",
       "      <th>8</th>\n",
       "      <td>rompem</td>\n",
       "      <td>anos</td>\n",
       "      <td>epoca</td>\n",
       "      <td>apos</td>\n",
       "    </tr>\n",
       "    <tr>\n",
       "      <th>9</th>\n",
       "      <td>boleto</td>\n",
       "      <td>foram</td>\n",
       "      <td>movimento</td>\n",
       "      <td>dezembro</td>\n",
       "    </tr>\n",
       "  </tbody>\n",
       "</table>\n",
       "</div>"
      ],
      "text/plain": [
       "            MIM        EMIM         X²       Dice\n",
       "0   prestadoras      tambem     tambem      epoca\n",
       "1         lenco      brasil     brasil  movimento\n",
       "2      capoeira       disse       blog      conta\n",
       "3       membros     governo      disse     numero\n",
       "4     guardador  presidente  bolsonaro  republica\n",
       "5      planices   bolsonaro       apos       nada\n",
       "6  ex-militares        apos      conta     jornal\n",
       "7       surgiam     afirmou    afirmou   gabinete\n",
       "8        rompem        anos      epoca       apos\n",
       "9        boleto       foram  movimento   dezembro"
      ]
     },
     "execution_count": 113,
     "metadata": {},
     "output_type": "execute_result"
    }
   ],
   "source": [
    "colunas = [\"MIM\", \"EMIM\", \"X²\", \"Dice\"]\n",
    "\n",
    "palavras_associadas_mim_nome = [palavra for palavra, pontuacao in rankings[\"nome\"][\"mim\"]]\n",
    "palavras_associadas_emim_nome = [palavra for palavra, pontuacao in rankings[\"nome\"][\"emim\"]]\n",
    "palavras_associadas_x2_nome = [palavra for palavra, pontuacao in rankings[\"nome\"][\"x2\"]]\n",
    "palavras_associadas_dice_nome = [palavra for palavra, pontuacao in rankings[\"nome\"][\"dice\"]]\n",
    "\n",
    "tabela_palavras_associadas_nome = pd.DataFrame({\"MIM\": palavras_associadas_mim_nome, \n",
    "                                 \"EMIM\": palavras_associadas_emim_nome,\n",
    "                                 \"X²\": palavras_associadas_x2_nome,\n",
    "                                 \"Dice\": palavras_associadas_dice_nome})\n",
    "tabela_palavras_associadas_nome = tabela_palavras_associadas_nome.reindex(columns=colunas)\n",
    "\n",
    "tabela_palavras_associadas_nome"
   ]
  },
  {
   "cell_type": "markdown",
   "metadata": {},
   "source": [
    "#### Tabela para as palavras mais associadas a nome"
   ]
  },
  {
   "cell_type": "code",
   "execution_count": 114,
   "metadata": {},
   "outputs": [
    {
     "data": {
      "text/html": [
       "<div>\n",
       "<style scoped>\n",
       "    .dataframe tbody tr th:only-of-type {\n",
       "        vertical-align: middle;\n",
       "    }\n",
       "\n",
       "    .dataframe tbody tr th {\n",
       "        vertical-align: top;\n",
       "    }\n",
       "\n",
       "    .dataframe thead th {\n",
       "        text-align: right;\n",
       "    }\n",
       "</style>\n",
       "<table border=\"1\" class=\"dataframe\">\n",
       "  <thead>\n",
       "    <tr style=\"text-align: right;\">\n",
       "      <th></th>\n",
       "      <th>MIM</th>\n",
       "      <th>EMIM</th>\n",
       "      <th>X²</th>\n",
       "      <th>Dice</th>\n",
       "    </tr>\n",
       "  </thead>\n",
       "  <tbody>\n",
       "    <tr>\n",
       "      <th>0</th>\n",
       "      <td>sucateamento</td>\n",
       "      <td>tambem</td>\n",
       "      <td>tambem</td>\n",
       "      <td>quando</td>\n",
       "    </tr>\n",
       "    <tr>\n",
       "      <th>1</th>\n",
       "      <td>lenco</td>\n",
       "      <td>quando</td>\n",
       "      <td>quando</td>\n",
       "      <td>onde</td>\n",
       "    </tr>\n",
       "    <tr>\n",
       "      <th>2</th>\n",
       "      <td>scola</td>\n",
       "      <td>anos</td>\n",
       "      <td>todos</td>\n",
       "      <td>todos</td>\n",
       "    </tr>\n",
       "    <tr>\n",
       "      <th>3</th>\n",
       "      <td>entrevistadas</td>\n",
       "      <td>presidente</td>\n",
       "      <td>mesmo</td>\n",
       "      <td>tempo</td>\n",
       "    </tr>\n",
       "    <tr>\n",
       "      <th>4</th>\n",
       "      <td>linterpol</td>\n",
       "      <td>brasil</td>\n",
       "      <td>onde</td>\n",
       "      <td>pode</td>\n",
       "    </tr>\n",
       "    <tr>\n",
       "      <th>5</th>\n",
       "      <td>minimizaria</td>\n",
       "      <td>mesmo</td>\n",
       "      <td>pode</td>\n",
       "      <td>quem</td>\n",
       "    </tr>\n",
       "    <tr>\n",
       "      <th>6</th>\n",
       "      <td>membros</td>\n",
       "      <td>foram</td>\n",
       "      <td>quem</td>\n",
       "      <td>mesmo</td>\n",
       "    </tr>\n",
       "    <tr>\n",
       "      <th>7</th>\n",
       "      <td>guardador</td>\n",
       "      <td>governo</td>\n",
       "      <td>anos</td>\n",
       "      <td>todo</td>\n",
       "    </tr>\n",
       "    <tr>\n",
       "      <th>8</th>\n",
       "      <td>guardados</td>\n",
       "      <td>segundo</td>\n",
       "      <td>tempo</td>\n",
       "      <td>enquanto</td>\n",
       "    </tr>\n",
       "    <tr>\n",
       "      <th>9</th>\n",
       "      <td>apelidos</td>\n",
       "      <td>pode</td>\n",
       "      <td>minha</td>\n",
       "      <td>agora</td>\n",
       "    </tr>\n",
       "  </tbody>\n",
       "</table>\n",
       "</div>"
      ],
      "text/plain": [
       "             MIM        EMIM      X²      Dice\n",
       "0   sucateamento      tambem  tambem    quando\n",
       "1          lenco      quando  quando      onde\n",
       "2          scola        anos   todos     todos\n",
       "3  entrevistadas  presidente   mesmo     tempo\n",
       "4      linterpol      brasil    onde      pode\n",
       "5    minimizaria       mesmo    pode      quem\n",
       "6        membros       foram    quem     mesmo\n",
       "7      guardador     governo    anos      todo\n",
       "8      guardados     segundo   tempo  enquanto\n",
       "9       apelidos        pode   minha     agora"
      ]
     },
     "execution_count": 114,
     "metadata": {},
     "output_type": "execute_result"
    }
   ],
   "source": [
    "colunas = [\"MIM\", \"EMIM\", \"X²\", \"Dice\"]\n",
    "\n",
    "palavras_associadas_mim_vida = [palavra for palavra, pontuacao in rankings[\"vida\"][\"mim\"]]\n",
    "palavras_associadas_emim_vida = [palavra for palavra, pontuacao in rankings[\"vida\"][\"emim\"]]\n",
    "palavras_associadas_x2_vida = [palavra for palavra, pontuacao in rankings[\"vida\"][\"x2\"]]\n",
    "palavras_associadas_dice_vida = [palavra for palavra, pontuacao in rankings[\"vida\"][\"dice\"]]\n",
    "\n",
    "tabela_palavras_associadas_vida = pd.DataFrame({\"MIM\": palavras_associadas_mim_vida, \n",
    "                                 \"EMIM\": palavras_associadas_emim_vida,\n",
    "                                 \"X²\": palavras_associadas_x2_vida,\n",
    "                                 \"Dice\": palavras_associadas_dice_vida})\n",
    "tabela_palavras_associadas_vida = tabela_palavras_associadas_vida.reindex(columns=colunas)\n",
    "\n",
    "tabela_palavras_associadas_vida"
   ]
  },
  {
   "cell_type": "markdown",
   "metadata": {},
   "source": [
    "### Qual métrica você acha que obteve os melhores resultados? Por que?"
   ]
  },
  {
   "cell_type": "markdown",
   "metadata": {},
   "source": [
    "O X² foi a métrica que apresentou os melhores resultados, principalmente nas palavras - bolsonaro e brasil -, pois as mesmas são mais específicas que as palavras: casa, nome e vida. Note que quando pesquisamos por bolsonaro, esperamos termos como jair, presidente, governo, política, deputado e camapanha. Assim como em brasil, espera-se termos como país, governo, presidente.\n",
    "Vale-se salientar que esses termos vem de um site que debate muito sobre política, e os termos foram obtidos de artigos de 2018 até o início de 2019, fatos esses que propiciam uma grande discussão sobre política e sobre a presidência em questão.\n",
    "Neste tocante, acredito que o X² foi mais bem sucedido em seus resultados."
   ]
  },
  {
   "cell_type": "markdown",
   "metadata": {},
   "source": [
    "### 2) De acordo com a métrica que deu os melhores resultados na sua opinião, execute agora cada consulta (usando a abordagem documento- ou termo-por-vez)  expandido-a com: os top-3, top-5 e top-10 documentos. O que acontece com a qualidade dos resultados em cada caso? Aumenta ou diminui? Justifique bem sua resposta."
   ]
  },
  {
   "cell_type": "markdown",
   "metadata": {},
   "source": [
    "#### Algoritmo, implementado conforme é apresentado no livro texto, que executa a estratégia \"documento por vez\"¶"
   ]
  },
  {
   "cell_type": "code",
   "execution_count": 130,
   "metadata": {},
   "outputs": [],
   "source": [
    "def consulta_conjuntiva_documento_por_vez(consulta, k, indices_invertidos):\n",
    "    L = []\n",
    "    R = []\n",
    "\n",
    "    for termo in consulta:\n",
    "        li = indices_invertidos.get(termo)\n",
    "        if li is not None:\n",
    "            L.append(li)\n",
    "\n",
    "    primeiro_em_indices_invertidos = L[0]\n",
    "\n",
    "    for doc in primeiro_em_indices_invertidos:\n",
    "        score = 0\n",
    "        d = -1\n",
    "\n",
    "        for li in L:\n",
    "            if doc in li:\n",
    "                d = doc\n",
    "                score += li[doc]\n",
    "            else:\n",
    "                d = -1\n",
    "                break\n",
    "\n",
    "        if d > -1:\n",
    "            R.append((score, doc))\n",
    "\n",
    "    R.sort(key = operator.itemgetter(0), reverse=True)\n",
    "\n",
    "    return R[:k]"
   ]
  },
  {
   "cell_type": "markdown",
   "metadata": {},
   "source": [
    "#### Levando-se em consideração o termo bolsonaro, e sabendo que para o X², o termo mais associado é Jair. No entanto, outros termos como presidente, brasil, camapnha e governo, estão bem associados. Logo, realizamos a consulta para o documento por vez com esses termos mais bem associados, a seguir."
   ]
  },
  {
   "cell_type": "markdown",
   "metadata": {},
   "source": [
    "#### Top 3 documentos"
   ]
  },
  {
   "cell_type": "code",
   "execution_count": 146,
   "metadata": {},
   "outputs": [
    {
     "name": "stdout",
     "output_type": "stream",
     "text": [
      "[(26, 425), (24, 31), (18, 168)]\n",
      "[(32, 425), (26, 31), (26, 338)]\n",
      "[(33, 425), (24, 374), (23, 104)]\n",
      "[(26, 425), (22, 338), (21, 348)]\n",
      "[(24, 425), (19, 338), (18, 31)]\n"
     ]
    }
   ],
   "source": [
    "documentos_top_3 = consulta_conjuntiva_documento_por_vez([\"bolsonaro\", \"jair\"], 3, indices_invertidos)\n",
    "print documentos_top_3\n",
    "\n",
    "documentos_top_3 = consulta_conjuntiva_documento_por_vez([\"bolsonaro\", \"presidente\"], 3, indices_invertidos)\n",
    "print documentos_top_3\n",
    "\n",
    "documentos_top_3 = consulta_conjuntiva_documento_por_vez([\"bolsonaro\", \"brasil\"], 3, indices_invertidos)\n",
    "print documentos_top_3\n",
    "\n",
    "documentos_top_3 = consulta_conjuntiva_documento_por_vez([\"bolsonaro\", \"campanha\"], 3, indices_invertidos)\n",
    "print documentos_top_3\n",
    "\n",
    "documentos_top_3 = consulta_conjuntiva_documento_por_vez([\"bolsonaro\", \"governo\"], 3, indices_invertidos)\n",
    "print documentos_top_3"
   ]
  },
  {
   "cell_type": "markdown",
   "metadata": {},
   "source": [
    "#### Top 5 documentos"
   ]
  },
  {
   "cell_type": "code",
   "execution_count": 145,
   "metadata": {},
   "outputs": [
    {
     "name": "stdout",
     "output_type": "stream",
     "text": [
      "[(26, 425), (24, 31), (18, 168), (18, 355), (15, 108)]\n",
      "[(32, 425), (26, 31), (26, 338), (25, 3), (23, 12)]\n",
      "[(33, 425), (24, 374), (23, 104), (23, 338), (22, 355)]\n",
      "[(26, 425), (22, 338), (21, 348), (18, 12), (15, 168)]\n",
      "[(36, 425), (26, 12), (24, 348), (24, 374), (22, 355)]\n"
     ]
    }
   ],
   "source": [
    "documentos_top_5 = consulta_conjuntiva_documento_por_vez([\"bolsonaro\", \"jair\"], 5, indices_invertidos)\n",
    "print documentos_top_5\n",
    "\n",
    "documentos_top_5 = consulta_conjuntiva_documento_por_vez([\"bolsonaro\", \"presidente\"], 5, indices_invertidos)\n",
    "print documentos_top_5\n",
    "\n",
    "documentos_top_5 = consulta_conjuntiva_documento_por_vez([\"bolsonaro\", \"brasil\"], 5, indices_invertidos)\n",
    "print documentos_top_5\n",
    "\n",
    "documentos_top_5 = consulta_conjuntiva_documento_por_vez([\"bolsonaro\", \"campanha\"], 5, indices_invertidos)\n",
    "print documentos_top_5\n",
    "\n",
    "documentos_top_5 = consulta_conjuntiva_documento_por_vez([\"bolsonaro\", \"governo\"], 5, indices_invertidos)\n",
    "print documentos_top_5"
   ]
  },
  {
   "cell_type": "markdown",
   "metadata": {},
   "source": [
    "#### Top 10 documentos"
   ]
  },
  {
   "cell_type": "code",
   "execution_count": 151,
   "metadata": {},
   "outputs": [
    {
     "name": "stdout",
     "output_type": "stream",
     "text": [
      "[(26, 425), (24, 31), (18, 168), (18, 355), (15, 108), (15, 335), (15, 383), (14, 79), (13, 147), (13, 374)]\n",
      "171\n",
      "[(32, 425), (26, 31), (26, 338), (25, 3), (23, 12), (21, 348), (21, 373), (20, 108), (20, 355), (19, 383)]\n",
      "[(33, 425), (24, 374), (23, 104), (23, 338), (22, 355), (20, 31), (19, 77), (18, 238), (18, 375), (18, 383)]\n",
      "[(26, 425), (22, 338), (21, 348), (18, 12), (15, 168), (15, 375), (13, 374), (12, 147), (12, 238), (12, 335)]\n",
      "[(36, 425), (26, 12), (24, 348), (24, 374), (22, 355), (21, 338), (19, 238), (17, 373), (17, 383), (16, 108)]\n"
     ]
    }
   ],
   "source": [
    "documentos_top_10 = consulta_conjuntiva_documento_por_vez([\"bolsonaro\", \"jair\"], 10, indices_invertidos)\n",
    "print documentos_top_10\n",
    "print sum([score for score, id in documentos_top_10])\n",
    "\n",
    "documentos_top_10 = consulta_conjuntiva_documento_por_vez([\"bolsonaro\", \"presidente\"], 10, indices_invertidos)\n",
    "print documentos_top_10\n",
    "\n",
    "documentos_top_10 = consulta_conjuntiva_documento_por_vez([\"bolsonaro\", \"brasil\"], 10, indices_invertidos)\n",
    "print documentos_top_10\n",
    "\n",
    "documentos_top_10 = consulta_conjuntiva_documento_por_vez([\"bolsonaro\", \"campanha\"], 10, indices_invertidos)\n",
    "print documentos_top_10\n",
    "\n",
    "documentos_top_10 = consulta_conjuntiva_documento_por_vez([\"bolsonaro\", \"governo\"], 10, indices_invertidos)\n",
    "print documentos_top_10"
   ]
  },
  {
   "cell_type": "markdown",
   "metadata": {},
   "source": [
    "#### Análise"
   ]
  },
  {
   "cell_type": "markdown",
   "metadata": {},
   "source": [
    "Observe que para o top 3 documentos, os termos \"presidente\", \"brasil\" e, principalmente, \"governo\" tem maior score que o termo \"jair\", o que contrasta com o ranking gerado do X² que indica que o mais associado é \"jair\". Esse contraste se mantém a medida que aumentamos o nosso top para 5 ou para 10. Observe que com 10, o termo \"governo\" tem um score bem mais acentuado nos documentos que o termo \"jair\", enquanto que no ranking, ele é apenas o quarto lugar. Além desse termo, os termos \"presidente\" e \"brasil\" também tem mais score que o termo \"jair\". Sendo assim, a qualidade das métricas mostram-se boas, mas ainda um pouco diferentes do realmente esperado para o ranking."
   ]
  }
 ],
 "metadata": {
  "kernelspec": {
   "display_name": "Python 2",
   "language": "python",
   "name": "python2"
  },
  "language_info": {
   "codemirror_mode": {
    "name": "ipython",
    "version": 2
   },
   "file_extension": ".py",
   "mimetype": "text/x-python",
   "name": "python",
   "nbconvert_exporter": "python",
   "pygments_lexer": "ipython2",
   "version": "2.7.16"
  }
 },
 "nbformat": 4,
 "nbformat_minor": 2
}
