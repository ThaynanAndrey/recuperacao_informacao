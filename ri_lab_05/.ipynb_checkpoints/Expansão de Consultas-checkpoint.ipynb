{
 "cells": [
  {
   "cell_type": "markdown",
   "metadata": {},
   "source": [
    "## Expansão de Consultas para a coleção de artigos obtidos no site Carta Capital"
   ]
  },
  {
   "cell_type": "markdown",
   "metadata": {},
   "source": [
    "### Importando-se os pacotes necessários para a atividade"
   ]
  },
  {
   "cell_type": "code",
   "execution_count": 1,
   "metadata": {},
   "outputs": [],
   "source": [
    "import pandas as pd\n",
    "import re\n",
    "import operator\n",
    "import time\n",
    "import sys\n",
    "from collections import Counter\n",
    "from unicodedata import normalize"
   ]
  },
  {
   "cell_type": "markdown",
   "metadata": {},
   "source": [
    "### Obtendo-se coleção do site Carta Capital"
   ]
  },
  {
   "cell_type": "code",
   "execution_count": 2,
   "metadata": {},
   "outputs": [],
   "source": [
    "data_frame = pd.read_csv(\"results.csv\")\n",
    "documentos = data_frame[\"text\"].tolist()"
   ]
  },
  {
   "cell_type": "markdown",
   "metadata": {},
   "source": [
    "### Gerando índices invertidos (feito no último lab)"
   ]
  },
  {
   "cell_type": "markdown",
   "metadata": {},
   "source": [
    "#### Algoritmo \"parse\" para obter os tokens de um determinado documento"
   ]
  },
  {
   "cell_type": "code",
   "execution_count": 3,
   "metadata": {},
   "outputs": [],
   "source": [
    "def is_pontuacao(token):\n",
    "    '''\n",
    "        Retorna-se um booleano indicando se o token passado por parâmetro é uma pontuação.\n",
    "    '''\n",
    "    lista_pontuacoes = [\",\", \".\", \"!\", \"?\", \":\", \"/\", \"#\", \"*\", \"(\", \")\", \";\", \"\"]\n",
    "    return token.strip() in lista_pontuacoes\n",
    "\n",
    "def remove_acentuacoes(token):\n",
    "    '''\n",
    "        Remove as acentuações de um token.\n",
    "    '''\n",
    "    token_unicode = unicode(token, \"utf-8\")\n",
    "    return normalize('NFKD', token_unicode).encode('ASCII','ignore')\n",
    "\n",
    "def parse(texto):\n",
    "    '''\n",
    "        Transforma o texto em uma lista de tokens, eliminando espaços vazios, acentuações e pontuações, e\n",
    "        tranforma todas as palavras em letras minúsculas.\n",
    "    '''\n",
    "    lista_texto = str(texto).split(\" \")\n",
    "\n",
    "    tokens = []\n",
    "    for palavra in lista_texto:\n",
    "        token = palavra.lower()\n",
    "        token = token.strip()\n",
    "        token = re.sub(r'[,.!?:*();]', '', token)\n",
    "        token = remove_acentuacoes(token)\n",
    "        \n",
    "        if(not is_pontuacao(token)):\n",
    "            tokens.append(token)\n",
    "    \n",
    "    return tokens"
   ]
  },
  {
   "cell_type": "markdown",
   "metadata": {},
   "source": [
    "#### Algoritmo para obtenção dos índices invertidos"
   ]
  },
  {
   "cell_type": "code",
   "execution_count": 7,
   "metadata": {},
   "outputs": [],
   "source": [
    "def get_indices_invertidos(documentos):\n",
    "    '''\n",
    "        Obtém uma lista de índices invertidos a partir de uma lista de documentos.\n",
    "    '''\n",
    "    indices_invertidos = {}\n",
    "    for i in range(len(documentos)):\n",
    "        doc = parse(documentos[i])\n",
    "        documento_counter = Counter(doc)\n",
    "        \n",
    "        for indice in documento_counter.keys():\n",
    "            if(indice in indices_invertidos):\n",
    "                indices_invertidos[indice][i] = documento_counter[indice]\n",
    "            else:\n",
    "                indices_invertidos[indice] = { i: documento_counter[indice] }\n",
    "    \n",
    "    return indices_invertidos"
   ]
  },
  {
   "cell_type": "markdown",
   "metadata": {},
   "source": [
    "#### Obtendo-se os índices invertidos a partir dos documentos obtidos do Carta Capital"
   ]
  },
  {
   "cell_type": "code",
   "execution_count": 9,
   "metadata": {},
   "outputs": [],
   "source": [
    "indices_invertidos = get_indices_invertidos(documentos)"
   ]
  },
  {
   "cell_type": "markdown",
   "metadata": {},
   "source": [
    "### 1) Calcule as top-10 palavras mais associadas a cada uma dessas 5 palavras de acordo com as 4 métricas que vimos na aula. Você deve produzir uma tabela similar à tabela 6.3 do capítulo 6 do livro texto (pág. 204). Qual métrica você acha que obteve os melhores resultados? Por que?"
   ]
  },
  {
   "cell_type": "markdown",
   "metadata": {},
   "source": [
    "### Palavras escolhidas na questão 2.1 do  lab anterior\n",
    "\n",
    "1. bolsonaro\n",
    "2. brasil\n",
    "3. casa\n",
    "4. nome\n",
    "5. vida"
   ]
  },
  {
   "cell_type": "markdown",
   "metadata": {},
   "source": [
    "### Algoritmos para métricas"
   ]
  },
  {
   "cell_type": "markdown",
   "metadata": {},
   "source": [
    "#### Mutual Information MIM"
   ]
  },
  {
   "cell_type": "code",
   "execution_count": null,
   "metadata": {},
   "outputs": [],
   "source": []
  },
  {
   "cell_type": "markdown",
   "metadata": {},
   "source": [
    "#### Expected Mutual Information (EMIM)"
   ]
  },
  {
   "cell_type": "code",
   "execution_count": null,
   "metadata": {},
   "outputs": [],
   "source": []
  },
  {
   "cell_type": "markdown",
   "metadata": {},
   "source": [
    "#### Chi-Square (X²)"
   ]
  },
  {
   "cell_type": "code",
   "execution_count": null,
   "metadata": {},
   "outputs": [],
   "source": []
  },
  {
   "cell_type": "markdown",
   "metadata": {},
   "source": [
    "#### Dice's Coefficient (Dice)"
   ]
  },
  {
   "cell_type": "code",
   "execution_count": null,
   "metadata": {},
   "outputs": [],
   "source": []
  },
  {
   "cell_type": "code",
   "execution_count": null,
   "metadata": {},
   "outputs": [],
   "source": [
    "### Calcular coeficientes"
   ]
  },
  {
   "cell_type": "code",
   "execution_count": null,
   "metadata": {},
   "outputs": [],
   "source": [
    "### lembrar na =numero de ocorrencias de \"a\" no documento e \"nab\" é o número de ocorrências mutuas de \"a\" e \"b\""
   ]
  }
 ],
 "metadata": {
  "kernelspec": {
   "display_name": "Python 2",
   "language": "python",
   "name": "python2"
  },
  "language_info": {
   "codemirror_mode": {
    "name": "ipython",
    "version": 2
   },
   "file_extension": ".py",
   "mimetype": "text/x-python",
   "name": "python",
   "nbconvert_exporter": "python",
   "pygments_lexer": "ipython2",
   "version": "2.7.15rc1"
  }
 },
 "nbformat": 4,
 "nbformat_minor": 2
}
