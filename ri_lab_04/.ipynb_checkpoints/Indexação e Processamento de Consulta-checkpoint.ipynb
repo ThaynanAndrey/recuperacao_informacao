{
 "cells": [
  {
   "cell_type": "markdown",
   "metadata": {},
   "source": [
    "# Indexação e Processamento de Consulta para a coleção de artigos obtidos no site Carta Capital"
   ]
  },
  {
   "cell_type": "markdown",
   "metadata": {},
   "source": [
    "## Importando-se os pacotes necessários para a atividade"
   ]
  },
  {
   "cell_type": "code",
   "execution_count": 10,
   "metadata": {},
   "outputs": [],
   "source": [
    "import pandas as pd\n",
    "import re\n",
    "import operator\n",
    "from collections import Counter\n",
    "from unicodedata import normalize"
   ]
  },
  {
   "cell_type": "markdown",
   "metadata": {},
   "source": [
    "## Obtendo-se coleção do site Carta Capital"
   ]
  },
  {
   "cell_type": "code",
   "execution_count": 11,
   "metadata": {},
   "outputs": [],
   "source": [
    "data_frame = pd.read_csv(\"results.csv\")\n",
    "documentos = data_frame[\"text\"].tolist()"
   ]
  },
  {
   "cell_type": "markdown",
   "metadata": {},
   "source": [
    "### 1) Execute o algoritmo ilustrado na Fig. 5.8 do livro texto (pag. 157) para gerar um índice similar o mostrado na Fig. 5.4 (pag. 134). Guarde o índice em disco em formato csv."
   ]
  },
  {
   "cell_type": "code",
   "execution_count": 12,
   "metadata": {},
   "outputs": [],
   "source": [
    "def is_pontuacao(token):\n",
    "    '''\n",
    "        Retorna-se um booleano indicando se o token passado por parâmetro é uma pontuação.\n",
    "    '''\n",
    "    lista_pontuacoes = [\",\", \".\", \"!\", \"?\", \":\", \"/\", \"#\", \"*\", \"(\", \")\", \";\", \"\"]\n",
    "    return token.strip() in lista_pontuacoes\n",
    "\n",
    "def remove_acentuacoes(token):\n",
    "    '''\n",
    "        Remove as acentuações de um token.\n",
    "    '''\n",
    "    token_unicode = unicode(token, \"utf-8\")\n",
    "    return normalize('NFKD', token_unicode).encode('ASCII','ignore')\n",
    "\n",
    "def parse(texto):\n",
    "    '''\n",
    "        Transforma o texto em uma lista de tokens, eliminando espaços vazios, acentuações e pontuações, e\n",
    "        tranforma todas as palavras em letras minúsculas.\n",
    "    '''\n",
    "    lista_texto = str(texto).split(\" \")\n",
    "\n",
    "    tokens = []\n",
    "    for palavra in lista_texto:\n",
    "        token = palavra.lower()\n",
    "        token = token.strip()\n",
    "        token = re.sub(r'[,.!?:*();]', '', token)\n",
    "        token = remove_acentuacoes(token)\n",
    "        \n",
    "        if(not is_pontuacao(token)):\n",
    "            tokens.append(token)\n",
    "    \n",
    "    return tokens\n",
    "\n",
    "def get_indices_invertidos(documentos):\n",
    "    '''\n",
    "        Obtém uma lista de índices invertidos a partir de uma lista de documentos.\n",
    "    '''\n",
    "    indices_invertidos = {}\n",
    "    for i in range(len(documentos)):\n",
    "        doc = parse(documentos[i])\n",
    "        documento_counter = Counter(doc)\n",
    "        \n",
    "        for indice in documento_counter.keys():\n",
    "            if(indice in indices_invertidos):\n",
    "                indices_invertidos[indice][i] = documento_counter[indice]\n",
    "            else:\n",
    "                indices_invertidos[indice] = { i: documento_counter[indice] }\n",
    "    \n",
    "    return indices_invertidos\n",
    "\n",
    "indices_invertidos = get_indices_invertidos(documentos)\n",
    "\n",
    "df_indices_invertidos = pd.DataFrame(pd.Series(indices_invertidos).reset_index()).set_axis(['Termo','Lista Invertida {documentID: Frequência}'],1,inplace=False)\n",
    "df_indices_invertidos.set_index('Termo', inplace=True)\n",
    "df_indices_invertidos.to_csv(\"indices_invertidos.csv\")"
   ]
  },
  {
   "cell_type": "markdown",
   "metadata": {},
   "source": [
    "### 2) Implemente as abordagens de processamento de consulta documento-por-vez e termo-por-vez (Fig. 5.16 e 5.18)"
   ]
  },
  {
   "cell_type": "code",
   "execution_count": 13,
   "metadata": {},
   "outputs": [],
   "source": [
    "def documento_por_vez(consulta, k, indices_invertidos, documentos):\n",
    "    L = []\n",
    "    R = []\n",
    "\n",
    "    for termo in consulta:\n",
    "        li = indices_invertidos.get(termo)\n",
    "        if li is not None:\n",
    "            L.append(li)\n",
    "\n",
    "    for d in range(1, len(documentos) + 1):\n",
    "        score = 0\n",
    "        for li in L:\n",
    "            if d in li:\n",
    "                score += li[d]\n",
    "\n",
    "        if score > 0:\n",
    "            R.append((score, d))\n",
    "\n",
    "    R.sort(key = operator.itemgetter(0), reverse=True)\n",
    "\n",
    "    return R[:k]\n",
    "\n",
    "\n",
    "def termo_por_vez(consulta, k, indices_invertidos, documentos):\n",
    "    L = []\n",
    "    R = []\n",
    "\n",
    "    for termo in consulta:\n",
    "        li = indices_invertidos.get(termo)\n",
    "        if li is not None:\n",
    "            L.append(li)\n",
    "\n",
    "    for d in range(1, len(documentos) + 1):\n",
    "        score = 0\n",
    "        for li in L:\n",
    "            if d in li:\n",
    "                score += li[d]\n",
    "\n",
    "        if score > 0:\n",
    "            R.append((score, d))\n",
    "\n",
    "    R.sort(key = operator.itemgetter(0), reverse=True)\n",
    "    \n",
    "    return R[:k]"
   ]
  },
  {
   "cell_type": "markdown",
   "metadata": {},
   "source": [
    "### 2.1) Defina 5 consultas de um termo somente."
   ]
  },
  {
   "cell_type": "code",
   "execution_count": 6,
   "metadata": {},
   "outputs": [
    {
     "data": {
      "text/plain": [
       "'\\n    Palavras a serem consultadas:\\n        - bolsonaro\\n        - brasil\\n        - casa\\n        - nome\\n        - vida\\n'"
      ]
     },
     "execution_count": 6,
     "metadata": {},
     "output_type": "execute_result"
    }
   ],
   "source": [
    "'''\n",
    "    Palavras a serem consultadas:\n",
    "        - bolsonaro\n",
    "        - brasil\n",
    "        - casa\n",
    "        - nome\n",
    "        - vida\n",
    "'''"
   ]
  },
  {
   "cell_type": "markdown",
   "metadata": {},
   "source": [
    "### 2.2) Execute as 5 consultas em cada algoritmo retornando os top-10 documentos (parâmetro k do algoritmo)"
   ]
  },
  {
   "cell_type": "code",
   "execution_count": 18,
   "metadata": {},
   "outputs": [
    {
     "name": "stdout",
     "output_type": "stream",
     "text": [
      "Consulta para documento por vez\n",
      "Consulta para bolsonaro\n",
      "[(22, 425), (17, 338), (16, 12), (16, 31), (16, 355), (13, 168), (13, 348), (12, 79), (12, 374), (12, 383)]\n",
      "Consulta para brasil\n",
      "[(16, 104), (16, 141), (14, 361), (14, 430), (12, 374), (11, 77), (11, 144), (10, 48), (10, 102), (9, 114)]\n",
      "Consulta para casa\n",
      "[(11, 107), (7, 425), (4, 368), (3, 138), (3, 268), (3, 281), (3, 352), (3, 419), (2, 2), (2, 9)]\n",
      "Consulta para nome\n",
      "[(5, 68), (4, 112), (3, 158), (3, 301), (3, 324), (3, 406), (2, 18), (2, 125), (2, 176), (2, 224)]\n",
      "Consulta para vida\n",
      "[(6, 107), (5, 27), (5, 267), (4, 102), (4, 160), (4, 173), (4, 425), (3, 34), (3, 61), (3, 190)]\n",
      "\n",
      "Consulta para termo por vez\n",
      "Consulta para bolsonaro\n",
      "[(22, 425), (17, 338), (16, 12), (16, 31), (16, 355), (13, 168), (13, 348), (12, 79), (12, 374), (12, 383)]\n",
      "Consulta para brasil\n",
      "[(16, 104), (16, 141), (14, 361), (14, 430), (12, 374), (11, 77), (11, 144), (10, 48), (10, 102), (9, 114)]\n",
      "Consulta para casa\n",
      "[(11, 107), (7, 425), (4, 368), (3, 138), (3, 268), (3, 281), (3, 352), (3, 419), (2, 2), (2, 9)]\n",
      "Consulta para nome\n",
      "[(5, 68), (4, 112), (3, 158), (3, 301), (3, 324), (3, 406), (2, 18), (2, 125), (2, 176), (2, 224)]\n",
      "Consulta para vida\n",
      "[(6, 107), (5, 27), (5, 267), (4, 102), (4, 160), (4, 173), (4, 425), (3, 34), (3, 61), (3, 190)]\n"
     ]
    }
   ],
   "source": [
    "print(\"Consulta para documento por vez\")\n",
    "print(\"Consulta para bolsonaro\")\n",
    "print(documento_por_vez([\"bolsonaro\"], 10, indices_invertidos, documentos))\n",
    "print(\"Consulta para brasil\")\n",
    "print(documento_por_vez([\"brasil\"], 10, indices_invertidos, documentos))\n",
    "print(\"Consulta para casa\")\n",
    "print(documento_por_vez([\"casa\"], 10, indices_invertidos, documentos))\n",
    "print(\"Consulta para nome\")\n",
    "print(documento_por_vez([\"nome\"], 10, indices_invertidos, documentos))\n",
    "print(\"Consulta para vida\")\n",
    "print(documento_por_vez([\"vida\"], 10, indices_invertidos, documentos))\n",
    "\n",
    "print\n",
    "\n",
    "print(\"Consulta para termo por vez\")\n",
    "print(\"Consulta para bolsonaro\")\n",
    "print(termo_por_vez([\"bolsonaro\"], 10, indices_invertidos, documentos))\n",
    "print(\"Consulta para brasil\")\n",
    "print(termo_por_vez([\"brasil\"], 10, indices_invertidos, documentos))\n",
    "print(\"Consulta para casa\")\n",
    "print(termo_por_vez([\"casa\"], 10, indices_invertidos, documentos))\n",
    "print(\"Consulta para nome\")\n",
    "print(termo_por_vez([\"nome\"], 10, indices_invertidos, documentos))\n",
    "print(\"Consulta para vida\")\n",
    "print(termo_por_vez([\"vida\"], 10, indices_invertidos, documentos))"
   ]
  }
 ],
 "metadata": {
  "kernelspec": {
   "display_name": "Python 2",
   "language": "python",
   "name": "python2"
  },
  "language_info": {
   "codemirror_mode": {
    "name": "ipython",
    "version": 2
   },
   "file_extension": ".py",
   "mimetype": "text/x-python",
   "name": "python",
   "nbconvert_exporter": "python",
   "pygments_lexer": "ipython2",
   "version": "2.7.15rc1"
  }
 },
 "nbformat": 4,
 "nbformat_minor": 2
}
