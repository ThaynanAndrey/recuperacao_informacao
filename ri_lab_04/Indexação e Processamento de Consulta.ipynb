{
 "cells": [
  {
   "cell_type": "markdown",
   "metadata": {},
   "source": [
    "# Indexação e Processamento de Consulta para a coleção de artigos obtidos no site Carta Capital"
   ]
  },
  {
   "cell_type": "markdown",
   "metadata": {},
   "source": [
    "## Importando-se os pacotes necessários para a atividade"
   ]
  },
  {
   "cell_type": "code",
   "execution_count": 45,
   "metadata": {},
   "outputs": [],
   "source": [
    "import pandas as pd\n",
    "import re\n",
    "import operator\n",
    "import time\n",
    "import sys\n",
    "from collections import Counter\n",
    "from unicodedata import normalize"
   ]
  },
  {
   "cell_type": "markdown",
   "metadata": {},
   "source": [
    "## Obtendo-se coleção do site Carta Capital"
   ]
  },
  {
   "cell_type": "code",
   "execution_count": 46,
   "metadata": {},
   "outputs": [],
   "source": [
    "data_frame = pd.read_csv(\"results.csv\")\n",
    "documentos = data_frame[\"text\"].tolist()"
   ]
  },
  {
   "cell_type": "markdown",
   "metadata": {},
   "source": [
    "### 1) Execute o algoritmo ilustrado na Fig. 5.8 do livro texto (pag. 157) para gerar um índice similar o mostrado na Fig. 5.4 (pag. 134). Guarde o índice em disco em formato csv."
   ]
  },
  {
   "cell_type": "markdown",
   "metadata": {},
   "source": [
    "#### Algoritmo \"parse\" para obter os tokens de um determinado documento"
   ]
  },
  {
   "cell_type": "code",
   "execution_count": 47,
   "metadata": {},
   "outputs": [],
   "source": [
    "def is_pontuacao(token):\n",
    "    '''\n",
    "        Retorna-se um booleano indicando se o token passado por parâmetro é uma pontuação.\n",
    "    '''\n",
    "    lista_pontuacoes = [\",\", \".\", \"!\", \"?\", \":\", \"/\", \"#\", \"*\", \"(\", \")\", \";\", \"\"]\n",
    "    return token.strip() in lista_pontuacoes\n",
    "\n",
    "def remove_acentuacoes(token):\n",
    "    '''\n",
    "        Remove as acentuações de um token.\n",
    "    '''\n",
    "    token_unicode = unicode(token, \"utf-8\")\n",
    "    return normalize('NFKD', token_unicode).encode('ASCII','ignore')\n",
    "\n",
    "def parse(texto):\n",
    "    '''\n",
    "        Transforma o texto em uma lista de tokens, eliminando espaços vazios, acentuações e pontuações, e\n",
    "        tranforma todas as palavras em letras minúsculas.\n",
    "    '''\n",
    "    lista_texto = str(texto).split(\" \")\n",
    "\n",
    "    tokens = []\n",
    "    for palavra in lista_texto:\n",
    "        token = palavra.lower()\n",
    "        token = token.strip()\n",
    "        token = re.sub(r'[,.!?:*();]', '', token)\n",
    "        token = remove_acentuacoes(token)\n",
    "        \n",
    "        if(not is_pontuacao(token)):\n",
    "            tokens.append(token)\n",
    "    \n",
    "    return tokens"
   ]
  },
  {
   "cell_type": "markdown",
   "metadata": {},
   "source": [
    "#### Algoritmo para obtenção dos índices invertidos"
   ]
  },
  {
   "cell_type": "code",
   "execution_count": 48,
   "metadata": {},
   "outputs": [],
   "source": [
    "def get_indices_invertidos(documentos):\n",
    "    '''\n",
    "        Obtém uma lista de índices invertidos a partir de uma lista de documentos.\n",
    "    '''\n",
    "    indices_invertidos = {}\n",
    "    for i in range(len(documentos)):\n",
    "        doc = parse(documentos[i])\n",
    "        documento_counter = Counter(doc)\n",
    "        \n",
    "        for indice in documento_counter.keys():\n",
    "            if(indice in indices_invertidos):\n",
    "                indices_invertidos[indice][i] = documento_counter[indice]\n",
    "            else:\n",
    "                indices_invertidos[indice] = { i: documento_counter[indice] }\n",
    "    \n",
    "    return indices_invertidos"
   ]
  },
  {
   "cell_type": "markdown",
   "metadata": {},
   "source": [
    "#### Obtendo-se os índices invertidos a partir dos documentos obtidos do Carta Capital"
   ]
  },
  {
   "cell_type": "code",
   "execution_count": 50,
   "metadata": {},
   "outputs": [],
   "source": [
    "indices_invertidos = get_indices_invertidos(documentos)\n",
    "\n",
    "df_indices_invertidos = pd.DataFrame(pd.Series(indices_invertidos).reset_index()).set_axis(['Termo','Lista Invertida {documentID: Frequência}'],1,inplace=False)\n",
    "df_indices_invertidos.set_index('Termo', inplace=True)\n",
    "df_indices_invertidos.to_csv(\"indices_invertidos.csv\")"
   ]
  },
  {
   "cell_type": "markdown",
   "metadata": {},
   "source": [
    "### 2) Implemente as abordagens de processamento de consulta documento-por-vez e termo-por-vez (Fig. 5.16 e 5.18)"
   ]
  },
  {
   "cell_type": "markdown",
   "metadata": {},
   "source": [
    "#### Algoritmo, implementado conforme é apresentado no livro texto, que executa a estratégia \"documento por vez\""
   ]
  },
  {
   "cell_type": "code",
   "execution_count": 51,
   "metadata": {},
   "outputs": [],
   "source": [
    "def documento_por_vez(consulta, k, indices_invertidos, documentos):\n",
    "    L = []\n",
    "    R = []\n",
    "\n",
    "    for termo in consulta:\n",
    "        li = indices_invertidos.get(termo)\n",
    "        if li is not None:\n",
    "            L.append(li)\n",
    "\n",
    "    for d in range(1, len(documentos) + 1):\n",
    "        score = 0\n",
    "        for li in L:\n",
    "            if d in li:\n",
    "                score += li[d]\n",
    "\n",
    "        if score > 0:\n",
    "            R.append((score, d))\n",
    "\n",
    "    R.sort(key = operator.itemgetter(0), reverse=True)\n",
    "\n",
    "    return R[:k]"
   ]
  },
  {
   "cell_type": "markdown",
   "metadata": {},
   "source": [
    "#### Algoritmo, implementado conforme é apresentado no livro texto, que executa a estratégia \"termo por vez\""
   ]
  },
  {
   "cell_type": "code",
   "execution_count": 52,
   "metadata": {},
   "outputs": [],
   "source": [
    "def termo_por_vez(consulta, k, indices_invertidos, documentos):\n",
    "    L = []\n",
    "    R = []\n",
    "\n",
    "    for termo in consulta:\n",
    "        li = indices_invertidos.get(termo)\n",
    "        if li is not None:\n",
    "            L.append(li)\n",
    "\n",
    "    for d in range(1, len(documentos) + 1):\n",
    "        score = 0\n",
    "        for li in L:\n",
    "            if d in li:\n",
    "                score += li[d]\n",
    "\n",
    "        if score > 0:\n",
    "            R.append((score, d))\n",
    "\n",
    "    R.sort(key = operator.itemgetter(0), reverse=True)\n",
    "    \n",
    "    return R[:k]"
   ]
  },
  {
   "cell_type": "markdown",
   "metadata": {},
   "source": [
    "### 2.1) Defina 5 consultas de um termo somente."
   ]
  },
  {
   "cell_type": "markdown",
   "metadata": {},
   "source": [
    "### Palavras a serem consultadas\n",
    "1. bolsonaro\n",
    "2. brasil\n",
    "3. casa\n",
    "4. nome\n",
    "5. vida"
   ]
  },
  {
   "cell_type": "markdown",
   "metadata": {},
   "source": [
    "### 2.2) Execute as 5 consultas em cada algoritmo retornando os top-10 documentos (parâmetro k do algoritmo)"
   ]
  },
  {
   "cell_type": "code",
   "execution_count": 53,
   "metadata": {},
   "outputs": [
    {
     "name": "stdout",
     "output_type": "stream",
     "text": [
      "Consulta para documento por vez\n",
      "\n",
      "Consulta para bolsonaro\n",
      "[(22, 425), (17, 338), (16, 12), (16, 31), (16, 355), (13, 168), (13, 348), (12, 79), (12, 374), (12, 383)]\n",
      "\n",
      "Consulta para brasil\n",
      "[(16, 104), (16, 141), (14, 361), (14, 430), (12, 374), (11, 77), (11, 144), (10, 48), (10, 102), (9, 114)]\n",
      "\n",
      "Consulta para casa\n",
      "[(11, 107), (7, 425), (4, 368), (3, 138), (3, 268), (3, 281), (3, 352), (3, 419), (2, 2), (2, 9)]\n",
      "\n",
      "Consulta para nome\n",
      "[(5, 68), (4, 112), (3, 158), (3, 301), (3, 324), (3, 406), (2, 18), (2, 125), (2, 176), (2, 224)]\n",
      "\n",
      "Consulta para vida\n",
      "[(6, 107), (5, 27), (5, 267), (4, 102), (4, 160), (4, 173), (4, 425), (3, 34), (3, 61), (3, 190)]\n",
      "\n",
      "\n",
      "\n",
      "Consulta para termo por vez\n",
      "\n",
      "Consulta para bolsonaro\n",
      "[(22, 425), (17, 338), (16, 12), (16, 31), (16, 355), (13, 168), (13, 348), (12, 79), (12, 374), (12, 383)]\n",
      "\n",
      "Consulta para brasil\n",
      "[(16, 104), (16, 141), (14, 361), (14, 430), (12, 374), (11, 77), (11, 144), (10, 48), (10, 102), (9, 114)]\n",
      "\n",
      "Consulta para casa\n",
      "[(11, 107), (7, 425), (4, 368), (3, 138), (3, 268), (3, 281), (3, 352), (3, 419), (2, 2), (2, 9)]\n",
      "\n",
      "Consulta para nome\n",
      "[(5, 68), (4, 112), (3, 158), (3, 301), (3, 324), (3, 406), (2, 18), (2, 125), (2, 176), (2, 224)]\n",
      "\n",
      "Consulta para vida\n",
      "[(6, 107), (5, 27), (5, 267), (4, 102), (4, 160), (4, 173), (4, 425), (3, 34), (3, 61), (3, 190)]\n"
     ]
    }
   ],
   "source": [
    "print(\"Consulta para documento por vez\")\n",
    "print(\"\\nConsulta para bolsonaro\")\n",
    "print(documento_por_vez([\"bolsonaro\"], 10, indices_invertidos, documentos))\n",
    "print(\"\\nConsulta para brasil\")\n",
    "print(documento_por_vez([\"brasil\"], 10, indices_invertidos, documentos))\n",
    "print(\"\\nConsulta para casa\")\n",
    "print(documento_por_vez([\"casa\"], 10, indices_invertidos, documentos))\n",
    "print(\"\\nConsulta para nome\")\n",
    "print(documento_por_vez([\"nome\"], 10, indices_invertidos, documentos))\n",
    "print(\"\\nConsulta para vida\")\n",
    "print(documento_por_vez([\"vida\"], 10, indices_invertidos, documentos))\n",
    "\n",
    "print(\"\\n\\n\")\n",
    "\n",
    "print(\"Consulta para termo por vez\")\n",
    "print(\"\\nConsulta para bolsonaro\")\n",
    "print(termo_por_vez([\"bolsonaro\"], 10, indices_invertidos, documentos))\n",
    "print(\"\\nConsulta para brasil\")\n",
    "print(termo_por_vez([\"brasil\"], 10, indices_invertidos, documentos))\n",
    "print(\"\\nConsulta para casa\")\n",
    "print(termo_por_vez([\"casa\"], 10, indices_invertidos, documentos))\n",
    "print(\"\\nConsulta para nome\")\n",
    "print(termo_por_vez([\"nome\"], 10, indices_invertidos, documentos))\n",
    "print(\"\\nConsulta para vida\")\n",
    "print(termo_por_vez([\"vida\"], 10, indices_invertidos, documentos))"
   ]
  },
  {
   "cell_type": "markdown",
   "metadata": {},
   "source": [
    "### 2.3) Dê evidências de que sua implementação está correta."
   ]
  },
  {
   "cell_type": "markdown",
   "metadata": {},
   "source": [
    "#### Obtendo todos os documentos que contém o termo bolsonaro"
   ]
  },
  {
   "cell_type": "code",
   "execution_count": 54,
   "metadata": {},
   "outputs": [],
   "source": [
    "ids_documentos_bolsonaro = list(indices_invertidos[\"bolsonaro\"].keys())"
   ]
  },
  {
   "cell_type": "markdown",
   "metadata": {},
   "source": [
    "#### Verificando se a consulta documento por vez está correta"
   ]
  },
  {
   "cell_type": "code",
   "execution_count": 55,
   "metadata": {},
   "outputs": [
    {
     "name": "stdout",
     "output_type": "stream",
     "text": [
      "Observe que todos os documentos que contém o termo bolsonaro foram encontrados na consulta de documento por vez!\n"
     ]
    }
   ],
   "source": [
    "doc_por_vez_bolsonaro = documento_por_vez([\"bolsonaro\"], 10, indices_invertidos, documentos)\n",
    "\n",
    "todos_ids_estao_doc_por_vez = all(doc[indice_id_termo] in ids_documentos_bolsonaro for doc in doc_por_vez_bolsonaro)\n",
    "\n",
    "if(todos_ids_estao_doc_por_vez):\n",
    "    print(\"Observe que todos os documentos que contém o termo bolsonaro foram encontrados na consulta de documento por vez!\")\n",
    "else:\n",
    "    print(\"Isso demonstra que o algoritmo está errado, pois existem documentos encontrados na consulta que não possuem o termo bolsonaro!\")"
   ]
  },
  {
   "cell_type": "markdown",
   "metadata": {},
   "source": [
    "#### Verificando se a consulta termo por vez está correta"
   ]
  },
  {
   "cell_type": "code",
   "execution_count": 56,
   "metadata": {},
   "outputs": [
    {
     "name": "stdout",
     "output_type": "stream",
     "text": [
      "Observe que todos os documentos que contém o termo bolsonaro foram encontrados na consulta de termo por vez!\n"
     ]
    }
   ],
   "source": [
    "termo_por_vez_bolsonaro = termo_por_vez([\"bolsonaro\"], 10, indices_invertidos, documentos)\n",
    "\n",
    "todos_ids_estao_termo_por_vez = all(doc[indice_id_termo] in ids_documentos_bolsonaro for doc in termo_por_vez_bolsonaro)\n",
    "\n",
    "if(todos_ids_estao_termo_por_vez):\n",
    "    print(\"Observe que todos os documentos que contém o termo bolsonaro foram encontrados na consulta de termo por vez!\")\n",
    "else:\n",
    "    print(\"Isso demonstra que o algoritmo está errado, pois existem documentos encontrados na consulta que não possuem o termo bolsonaro!\")"
   ]
  },
  {
   "cell_type": "markdown",
   "metadata": {},
   "source": [
    "#### Conclusão\n",
    "\n",
    "- As verificações demonstaram que ambos os algoritmos funcionam e que retornam os ids de documentos esperados.\n",
    "- Outro ponto a se considerar é que ambos os algoritmos (documento por vez e termo por vez) retornam o mesmo resultado para a mesma consulta, mostrando a corretude de ambas as implementações."
   ]
  },
  {
   "cell_type": "markdown",
   "metadata": {},
   "source": [
    "### 2.4) Compare os tempos médios de execução e uso de memória de cada algoritmo."
   ]
  },
  {
   "cell_type": "markdown",
   "metadata": {},
   "source": [
    "#### Cálculo de tempo e memória para o algoritmo documento por vez"
   ]
  },
  {
   "cell_type": "code",
   "execution_count": 75,
   "metadata": {},
   "outputs": [
    {
     "name": "stdout",
     "output_type": "stream",
     "text": [
      "Tempo de execução para o documento por vez: 0.000000000000000\n",
      "Memória consumida: 144\n"
     ]
    }
   ],
   "source": [
    "tempo_inicial_doc_por_vez = time.time()\n",
    "resultado_doc_por_vez = documento_por_vez([\"amigo\"], 10, indices_invertidos, documentos)\n",
    "tempo_final_doc_por_vez = time.time()\n",
    "tempo_gasto_doc_por_vez = tempo_final_doc_por_vez - tempo_inicial_doc_por_vez\n",
    "\n",
    "print(\"Tempo de execução para o documento por vez: %.15f\" %tempo_gasto_doc_por_vez)\n",
    "print(\"Memória consumida: %i\" %sys.getsizeof(resultado_doc_por_vez))"
   ]
  },
  {
   "cell_type": "markdown",
   "metadata": {},
   "source": [
    "#### Cálculo de tempo e memória para o algoritmo termo por vez"
   ]
  },
  {
   "cell_type": "code",
   "execution_count": 58,
   "metadata": {},
   "outputs": [
    {
     "name": "stdout",
     "output_type": "stream",
     "text": [
      "Tempo de execução para o termo por vez: 0.000000000000000\n",
      "Memória consumida: 144\n"
     ]
    }
   ],
   "source": [
    "tempo_inicial_termo_por_vez = time.time()\n",
    "resultado_tempo_por_vez = termo_por_vez([\"amigo\"], 10, indices_invertidos, documentos)\n",
    "tempo_final_termo_por_vez = time.time()\n",
    "tempo_gasto_termo_por_vez = tempo_final_termo_por_vez - tempo_inicial_termo_por_vez\n",
    "\n",
    "print(\"Tempo de execução para o termo por vez: %.15f\" %tempo_gasto_termo_por_vez)\n",
    "print(\"Memória consumida: %i\" %sys.getsizeof(resultado_tempo_por_vez))"
   ]
  },
  {
   "cell_type": "markdown",
   "metadata": {},
   "source": [
    "#### Comparação entre os algoritmos"
   ]
  },
  {
   "cell_type": "markdown",
   "metadata": {},
   "source": [
    "- Note que os algoritmos executam em um tempo muito próximo entre eles, sempre gastando um tempo na ordem de aproximadamente 10^-3 (dez elevado a menos três).\n",
    "- Observe também que consomem extatamente a mesma memória, pois ambos utilizam duas lista auxiliares (L e R) e vão adicionando os mesmos termos à medida que são executados, sempre possuindo exatamente o mesmo fim para a mesma entrada."
   ]
  },
  {
   "cell_type": "markdown",
   "metadata": {},
   "source": [
    "### 3) Implemente uma das versões de consulta conjuntiva (AND) (Fig. 5.20 ou 5.21)"
   ]
  },
  {
   "cell_type": "markdown",
   "metadata": {},
   "source": [
    "#### Implementação da consulta conjuntiva para documento por vez"
   ]
  },
  {
   "cell_type": "code",
   "execution_count": 59,
   "metadata": {},
   "outputs": [],
   "source": [
    "def consulta_conjuntiva_documento_por_vez(consulta, k, indices_invertidos):\n",
    "    L = []\n",
    "    R = []\n",
    "\n",
    "    for termo in consulta:\n",
    "        li = indices_invertidos.get(termo)\n",
    "        if li is not None:\n",
    "            L.append(li)\n",
    "\n",
    "    primeiro_em_indices_invertidos = L[0]\n",
    "\n",
    "    for doc in primeiro_em_indices_invertidos:\n",
    "        score = 0\n",
    "        d = -1\n",
    "\n",
    "        for li in L:\n",
    "            if doc in li:\n",
    "                d = doc\n",
    "                score += li[doc]\n",
    "            else:\n",
    "                d = -1\n",
    "                break\n",
    "\n",
    "        if d > -1:\n",
    "            R.append((score, doc))\n",
    "\n",
    "    R.sort(key = operator.itemgetter(0), reverse=True)\n",
    "\n",
    "    return R[:k]"
   ]
  },
  {
   "cell_type": "markdown",
   "metadata": {},
   "source": [
    "### 3.1) Defina 5 consultas conjuntivas (AND)."
   ]
  },
  {
   "cell_type": "markdown",
   "metadata": {},
   "source": [
    "#### Consultas:\n",
    "1. presidente bolsonaro\n",
    "2. luiz lula\n",
    "3. brasil corrupcao\n",
    "4. politica economica\n",
    "5. casa civil"
   ]
  },
  {
   "cell_type": "markdown",
   "metadata": {},
   "source": [
    "### 3.2) Execute as 5 consultas em cada algoritmo retornando os top-10 documentos (parâmetro k do algoritmo)."
   ]
  },
  {
   "cell_type": "code",
   "execution_count": 60,
   "metadata": {},
   "outputs": [
    {
     "name": "stdout",
     "output_type": "stream",
     "text": [
      "\n",
      "Consulta por presidente bolsonaro\n",
      "[(30, 425), (24, 3), (24, 338), (23, 12), (23, 31), (19, 348), (19, 355), (19, 373), (18, 383), (17, 76)]\n",
      "\n",
      "Consulta por luiz lula\n",
      "[(29, 407), (4, 425), (3, 385), (3, 410), (3, 365), (2, 83)]\n",
      "\n",
      "Consulta por brasil corrupcao\n",
      "[(18, 104), (14, 374), (11, 375), (8, 12), (7, 358), (6, 383), (5, 56), (5, 378), (5, 406), (4, 14)]\n",
      "\n",
      "Consulta para politica economica\n",
      "[(11, 329), (9, 358), (6, 374), (5, 204), (5, 370), (4, 229), (4, 256), (4, 334), (3, 8), (3, 24)]\n",
      "\n",
      "Consulta para casa civil\n",
      "[(12, 425), (4, 138), (4, 224), (4, 112), (3, 31), (3, 79), (3, 336), (2, 150), (2, 412), (2, 46)]\n"
     ]
    }
   ],
   "source": [
    "print(\"\\nConsulta por presidente bolsonaro\")\n",
    "print(consulta_conjuntiva_documento_por_vez([\"presidente\", \"bolsonaro\"], 10, indices_invertidos))\n",
    "print(\"\\nConsulta por luiz lula\")\n",
    "print(consulta_conjuntiva_documento_por_vez([\"luiz\", \"lula\"], 10, indices_invertidos))\n",
    "print(\"\\nConsulta por brasil corrupcao\")\n",
    "print(consulta_conjuntiva_documento_por_vez([\"brasil\", \"corrupcao\"], 10, indices_invertidos))\n",
    "print(\"\\nConsulta para politica economica\")\n",
    "print(consulta_conjuntiva_documento_por_vez([\"politica\", \"economica\"], 10, indices_invertidos))\n",
    "print(\"\\nConsulta para casa civil\")\n",
    "print(consulta_conjuntiva_documento_por_vez([\"casa\", \"civil\"], 10, indices_invertidos))"
   ]
  },
  {
   "cell_type": "markdown",
   "metadata": {},
   "source": [
    "### 3.3) Dê evidências de que sua implementação está correta."
   ]
  },
  {
   "cell_type": "markdown",
   "metadata": {},
   "source": [
    "#### Construindo interseção entre os termos brasil e corrupcao."
   ]
  },
  {
   "cell_type": "code",
   "execution_count": 61,
   "metadata": {},
   "outputs": [],
   "source": [
    "ids_documentos_brasil = list(indices_invertidos[\"brasil\"].keys())\n",
    "ids_documentos_corrupcao = list(indices_invertidos[\"corrupcao\"].keys())\n",
    "intersecao_brasil_corrupcao = list(set(ids_documentos_brasil) & set(ids_documentos_corrupcao))"
   ]
  },
  {
   "cell_type": "markdown",
   "metadata": {},
   "source": [
    "#### Consulta conjuntiva por brasil e corrupcao."
   ]
  },
  {
   "cell_type": "code",
   "execution_count": 62,
   "metadata": {},
   "outputs": [],
   "source": [
    "consulta_conjuntiva_brasil_corrupcao = consulta_conjuntiva_documento_por_vez([\"brasil\", \"corrupcao\"], 10, indices_invertidos)"
   ]
  },
  {
   "cell_type": "markdown",
   "metadata": {},
   "source": [
    "#### Verificação da corretude do algoritmo"
   ]
  },
  {
   "cell_type": "code",
   "execution_count": 63,
   "metadata": {},
   "outputs": [
    {
     "name": "stdout",
     "output_type": "stream",
     "text": [
      "Observe que todos os documentos obtidos em consulta_conjuntiva_brasil_corrupcao estão na interseção obtida em intersecao_brasil_corrupcao.\n",
      "Isso dar uma evidência de que o algortimo funciona de fato!\n"
     ]
    }
   ],
   "source": [
    "indice_id_termo = 1\n",
    "todos_ids_estao_intersecao = all(elem[indice_id_termo] in intersecao_brasil_corrupcao for elem in consulta_conjuntiva_brasil_corrupcao)\n",
    "\n",
    "if(todos_ids_estao_intersecao):\n",
    "    print(\"Observe que todos os documentos obtidos em consulta_conjuntiva_brasil_corrupcao estão na interseção obtida em intersecao_brasil_corrupcao.\")\n",
    "    print(\"Isso dar uma evidência de que o algortimo funciona de fato!\")\n",
    "else:\n",
    "    print(\"O algoritmo foi mal implementado, e nem todos os documentos estão na interseção!\")"
   ]
  }
 ],
 "metadata": {
  "kernelspec": {
   "display_name": "Python 2",
   "language": "python",
   "name": "python2"
  },
  "language_info": {
   "codemirror_mode": {
    "name": "ipython",
    "version": 2
   },
   "file_extension": ".py",
   "mimetype": "text/x-python",
   "name": "python",
   "nbconvert_exporter": "python",
   "pygments_lexer": "ipython2",
   "version": "2.7.16"
  }
 },
 "nbformat": 4,
 "nbformat_minor": 2
}
