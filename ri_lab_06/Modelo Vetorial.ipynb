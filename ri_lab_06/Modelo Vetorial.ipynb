{
 "cells": [
  {
   "cell_type": "markdown",
   "metadata": {},
   "source": [
    "## Modelo Vetorial"
   ]
  },
  {
   "cell_type": "markdown",
   "metadata": {},
   "source": [
    "### Importando-se os pacotes necessários para a atividade"
   ]
  },
  {
   "cell_type": "code",
   "execution_count": 12,
   "metadata": {},
   "outputs": [],
   "source": [
    "import pandas as pd\n",
    "import re\n",
    "import operator\n",
    "from math import log\n",
    "from collections import Counter\n",
    "from unicodedata import normalize"
   ]
  },
  {
   "cell_type": "markdown",
   "metadata": {},
   "source": [
    "### Obtendo-se a coleção"
   ]
  },
  {
   "cell_type": "code",
   "execution_count": 2,
   "metadata": {},
   "outputs": [],
   "source": [
    "data_frame = pd.read_csv(\"results.csv\")\n",
    "documentos = data_frame[\"text\"].tolist()"
   ]
  },
  {
   "cell_type": "markdown",
   "metadata": {},
   "source": [
    "### 1) Reconstruir o índice considerando o conjunto de dados que indicamos. Esses são os dados coletados por Bernardi e os estaremos usando para facilitar a correção da atividade. Se você já estiver usando esses dados não precisa reconstruir o índice"
   ]
  },
  {
   "cell_type": "markdown",
   "metadata": {},
   "source": [
    "#### Gerando-se os índices invertidos"
   ]
  },
  {
   "cell_type": "markdown",
   "metadata": {},
   "source": [
    "#### Algoritmo \"parse\" para obter os tokens de um determinado documento"
   ]
  },
  {
   "cell_type": "code",
   "execution_count": 3,
   "metadata": {},
   "outputs": [],
   "source": [
    "def is_pontuacao(token):\n",
    "    '''\n",
    "        Retorna-se um booleano indicando se o token passado por parâmetro é uma pontuação.\n",
    "    '''\n",
    "    lista_pontuacoes = [\",\", \".\", \"!\", \"?\", \":\", \"/\", \"#\", \"*\", \"(\", \")\", \";\", \"\"]\n",
    "    return token.strip() in lista_pontuacoes\n",
    "\n",
    "def remove_acentuacoes(token):\n",
    "    '''\n",
    "        Remove as acentuações de um token.\n",
    "    '''\n",
    "    token_unicode = unicode(token, \"utf-8\")\n",
    "    return normalize('NFKD', token_unicode).encode('ASCII','ignore')\n",
    "\n",
    "def parse(texto):\n",
    "    '''\n",
    "        Transforma o texto em uma lista de tokens, eliminando espaços vazios, acentuações e pontuações, e\n",
    "        tranforma todas as palavras em letras minúsculas.\n",
    "    '''\n",
    "    texto = re.sub(r'[,.!?:*();]', ' ', str(texto))\n",
    "    texto = re.sub(r'\\n', ' ', texto)\n",
    "    lista_texto = texto.split(' ')\n",
    "\n",
    "    tokens = []\n",
    "    for palavra in lista_texto:\n",
    "        token = palavra.lower()\n",
    "        token = token.strip()\n",
    "        token = remove_acentuacoes(token)\n",
    "\n",
    "        if(not is_pontuacao(token)):\n",
    "            tokens.append(token)\n",
    "    \n",
    "    return tokens"
   ]
  },
  {
   "cell_type": "markdown",
   "metadata": {},
   "source": [
    "#### Algoritmo para obtenção dos índices invertidos com frequência (IDF)"
   ]
  },
  {
   "cell_type": "code",
   "execution_count": 4,
   "metadata": {},
   "outputs": [],
   "source": [
    "def get_indices_invertidos_com_frequencia(documentos):\n",
    "    '''\n",
    "        Obtém uma lista de índices invertidos a partir de uma lista de documentos,\n",
    "        com a frequência do índice em cada um desses documentos.\n",
    "    '''\n",
    "    indices_invertidos = {}\n",
    "    for i in range(len(documentos)):\n",
    "        doc = parse(documentos[i])\n",
    "        documento_counter = Counter(doc)\n",
    "        \n",
    "        for indice in documento_counter.keys():\n",
    "            if(len(indice) > 3):\n",
    "                if(indice in indices_invertidos):\n",
    "                    indices_invertidos[indice][i] = documento_counter[indice]\n",
    "                else:\n",
    "                    indices_invertidos[indice] = { i: documento_counter[indice] }\n",
    "    \n",
    "    return indices_invertidos"
   ]
  },
  {
   "cell_type": "markdown",
   "metadata": {},
   "source": [
    "### 2) Refinar o índice invertido de forma a também incluir o IDF (inverse document frequency) de cada termo do dicionário."
   ]
  },
  {
   "cell_type": "markdown",
   "metadata": {},
   "source": [
    "#### Obtendo-se os índices com IDF"
   ]
  },
  {
   "cell_type": "code",
   "execution_count": 5,
   "metadata": {},
   "outputs": [],
   "source": [
    "indices_invertidos_com_frequencia = get_indices_invertidos_com_frequencia(documentos)"
   ]
  },
  {
   "cell_type": "markdown",
   "metadata": {},
   "source": [
    "### 3) Implementar as seguintes versões do modelo vetorial:\n",
    "\n",
    "    1. Representação binária;\n",
    "    2. TF (lembre-se que esse modelo já está implementado);\n",
    "    3. TF-IDF;\n",
    "    4. BM25* (não usaremos Okapi já que os documentos não tem grande variação de tamanho)"
   ]
  },
  {
   "cell_type": "markdown",
   "metadata": {},
   "source": [
    "#### Algoritmos úteis para as implementações"
   ]
  },
  {
   "cell_type": "code",
   "execution_count": 6,
   "metadata": {},
   "outputs": [],
   "source": [
    "def get_tuplas_documentos_ordenados_peso(dic_documentos):\n",
    "    '''\n",
    "        Obtém-se tuplas de documentos ordenados decrescentemente pelo peso, a partir de um dicionário\n",
    "        que tem como chave o documento, e valor o peso.\n",
    "    '''\n",
    "    documentos_tuplas = dic_documentos.items()\n",
    "    indice_peso = 1\n",
    "    documentos_tuplas.sort(key = operator.itemgetter(indice_peso), reverse=True)\n",
    "    \n",
    "    return documentos_tuplas\n",
    "\n",
    "def get_K_primeiros_ids_documentos(documentos_tuplas, k):\n",
    "    '''\n",
    "        Obtendo-se a lista de id dos k primeiros documentos, a partir de uma lista de tuplas, as quais\n",
    "        o primeiro índice é o id do documento e o segundo é o seu peso.\n",
    "    '''\n",
    "    id_documentos_ordenados = [id_documento for id_documento, peso in documentos_tuplas]\n",
    "    k_primeiros_id_documentos = id_documentos_ordenados[:k]\n",
    "    \n",
    "    return k_primeiros_id_documentos\n",
    "\n",
    "def idf(quantidade_documentos_colecao, quantidade_documentos_com_palavra):\n",
    "    '''\n",
    "        Calcula o Inverse Document Frequency (IDF).\n",
    "    '''\n",
    "    return log((quantidade_documentos_colecao + 1) / quantidade_documentos_com_palavra)"
   ]
  },
  {
   "cell_type": "markdown",
   "metadata": {},
   "source": [
    "#### Implementação do algoritmo para a *Representação Binária*"
   ]
  },
  {
   "cell_type": "code",
   "execution_count": 37,
   "metadata": {},
   "outputs": [],
   "source": [
    "def get_documentos_ordem_representacao_binaria(consulta, indices_invertidos, k_primeiros_elementos):\n",
    "    '''\n",
    "        Obtém os documentos ordenados segundo a ideia de \"Representação Binária\",\n",
    "        na qual, os documentos que possuem a maior quantidade de termos da consultas\n",
    "        são os mais representativos.\n",
    "    '''\n",
    "    consulta = consulta.split(\" \")\n",
    "    # Separando-se os termos da pesquisa, de forma a evitar a contagem de palavras repetidas. Por exemplo,\n",
    "    # uma consulta por \"thaynan andrey thaynan\", evitaria que eu calculasse \"thaynan\" duas vezes.\n",
    "    termos_counter = Counter(consulta)\n",
    "    \n",
    "    # Obtendo-se os documentos e seus respectivos pesos para a consulta\n",
    "    documentos_com_peso = {}\n",
    "    for termo in termos_counter.keys():\n",
    "        \n",
    "        if(termo in indices_invertidos):\n",
    "            for id_doc in indices_invertidos[termo].keys():\n",
    "                if(id_doc in documentos_com_peso):\n",
    "                    documentos_com_peso[id_doc] = documentos_com_peso[id_doc] + 1\n",
    "                else:\n",
    "                    documentos_com_peso[id_doc] = 1\n",
    "    \n",
    "    documentos_tuplas = get_tuplas_documentos_ordenados_peso(documentos_com_peso)\n",
    "    k_primeiros_id_documentos = get_K_primeiros_ids_documentos(documentos_tuplas, k_primeiros_elementos)\n",
    "    \n",
    "    return k_primeiros_id_documentos"
   ]
  },
  {
   "cell_type": "markdown",
   "metadata": {},
   "source": [
    "#### Implementação do algoritmo para a *TF*"
   ]
  },
  {
   "cell_type": "code",
   "execution_count": 38,
   "metadata": {},
   "outputs": [],
   "source": [
    "def get_documentos_ordem_TF(consulta, indices_invertidos, k_primeiros_elementos):\n",
    "    '''\n",
    "        Obtém os documentos ordenados segundo a ideia de \"Term Frequency Weighting\",\n",
    "        na qual, quanto mais o termo se repete na consulta ou no documento, mais pesos\n",
    "        ele tem.\n",
    "    '''\n",
    "    consulta = consulta.split(\" \")\n",
    "    # Separando-se os termos da pesquisa, de forma a contar a repetição de cada termo,\n",
    "    # para assim utilizá-lo no cálculo do peso.\n",
    "    termos_counter = Counter(consulta)\n",
    "    \n",
    "    # Obtendo-se os documentos e seus respectivos pesos para a consulta\n",
    "    documentos_com_peso = {}\n",
    "    for termo in termos_counter.keys():\n",
    "        \n",
    "        if(termo in indices_invertidos):\n",
    "            peso_consulta_termo = termos_counter[termo]\n",
    "            \n",
    "            for id_doc in indices_invertidos[termo].keys():\n",
    "                peso_doc_termo = indices_invertidos[termo][id_doc]\n",
    "                peso_termo = peso_consulta_termo * peso_doc_termo\n",
    "                \n",
    "                if(id_doc in documentos_com_peso):\n",
    "                    documentos_com_peso[id_doc] = documentos_com_peso[id_doc] + peso_termo\n",
    "                else:\n",
    "                    documentos_com_peso[id_doc] = peso_termo\n",
    "    \n",
    "    documentos_tuplas = get_tuplas_documentos_ordenados_peso(documentos_com_peso)\n",
    "    k_primeiros_id_documentos = get_K_primeiros_ids_documentos(documentos_tuplas, k_primeiros_elementos)\n",
    "    \n",
    "    return k_primeiros_id_documentos"
   ]
  },
  {
   "cell_type": "markdown",
   "metadata": {},
   "source": [
    "#### Implementação do algoritmo para a *TF-IDF*"
   ]
  },
  {
   "cell_type": "code",
   "execution_count": 39,
   "metadata": {},
   "outputs": [],
   "source": [
    "def get_documentos_ordem_TF_IDF(consulta, indices_invertidos, k_primeiros_elementos):\n",
    "    '''\n",
    "        Obtém os documentos ordenados segundo a ideia de \"Term Frequency Weighting\" acrescentado do IDF,\n",
    "        no qual, termos muito populares no documento são penalizados e termos pouco populares são valorizados,\n",
    "        o que evita que stop words se sobreponham a outras palavras.\n",
    "    '''\n",
    "    consulta = consulta.split(\" \")\n",
    "    quantidade_documentos_colecao = len(documentos)\n",
    "    \n",
    "    # Separando-se os termos da pesquisa, de forma a contar a repetição de cada termo,\n",
    "    # para assim utilizá-lo no cálculo do peso.\n",
    "    termos_counter = Counter(consulta)\n",
    "    \n",
    "    # Obtendo-se os documentos e seus respectivos pesos para a consulta\n",
    "    documentos_com_peso = {}\n",
    "    for termo in termos_counter.keys():\n",
    "        \n",
    "        if(termo in indices_invertidos):\n",
    "            peso_consulta_termo = termos_counter[termo]\n",
    "            quantidade_documentos_com_termo = len(indices_invertidos[termo].keys())\n",
    "            \n",
    "            for id_doc in indices_invertidos[termo].keys():\n",
    "                peso_doc_termo = indices_invertidos[termo][id_doc] * idf(quantidade_documentos_colecao, quantidade_documentos_com_termo)\n",
    "                peso_termo = peso_consulta_termo * peso_doc_termo\n",
    "                \n",
    "                if(id_doc in documentos_com_peso):\n",
    "                    documentos_com_peso[id_doc] = documentos_com_peso[id_doc] + peso_termo\n",
    "                else:\n",
    "                    documentos_com_peso[id_doc] = peso_termo\n",
    "    \n",
    "    documentos_tuplas = get_tuplas_documentos_ordenados_peso(documentos_com_peso)\n",
    "    k_primeiros_id_documentos = get_K_primeiros_ids_documentos(documentos_tuplas, k_primeiros_elementos)\n",
    "    \n",
    "    return k_primeiros_id_documentos"
   ]
  },
  {
   "cell_type": "markdown",
   "metadata": {},
   "source": [
    "#### Implementação do algoritmo para a *BM25*"
   ]
  },
  {
   "cell_type": "code",
   "execution_count": 41,
   "metadata": {},
   "outputs": [],
   "source": [
    "def get_documentos_ordem_bm25(consulta, indices_invertidos, k):\n",
    "    '''\n",
    "        Obtém os documentos ordenados segundo a ideia do BM25.\n",
    "    '''\n",
    "    consulta = consulta.split(\" \")\n",
    "    quantidade_documentos_colecao = len(documentos)\n",
    "    \n",
    "    # Separando-se os termos da pesquisa, de forma a contar a repetição de cada termo,\n",
    "    # para assim utilizá-lo no cálculo do peso.\n",
    "    termos_counter = Counter(consulta)\n",
    "    \n",
    "    # Obtendo-se os documentos e seus respectivos pesos para a consulta\n",
    "    documentos_com_peso = {}\n",
    "    for termo in termos_counter.keys():\n",
    "        \n",
    "        if(termo in indices_invertidos):\n",
    "            peso_consulta_termo = termos_counter[termo]\n",
    "            quantidade_documentos_com_termo = len(indices_invertidos[termo].keys())\n",
    "            \n",
    "            for id_doc in indices_invertidos[termo].keys():\n",
    "                numerador_peso_doc_termo = (k + 1) * indices_invertidos[termo][id_doc] * idf(quantidade_documentos_colecao, quantidade_documentos_com_termo)\n",
    "                denominador_peso_doc_termo = indices_invertidos[termo][id_doc] + k\n",
    "                peso_doc_termo = numerador_peso_doc_termo / denominador_peso_doc_termo\n",
    "                peso_termo = peso_consulta_termo * peso_doc_termo\n",
    "                \n",
    "                if(id_doc in documentos_com_peso):\n",
    "                    documentos_com_peso[id_doc] = documentos_com_peso[id_doc] + peso_termo\n",
    "                else:\n",
    "                    documentos_com_peso[id_doc] = peso_termo\n",
    "    \n",
    "    documentos_tuplas = get_tuplas_documentos_ordenados_peso(documentos_com_peso)\n",
    "    k_primeiros_id_documentos = get_K_primeiros_ids_documentos(documentos_tuplas, k)\n",
    "    \n",
    "    return k_primeiros_id_documentos"
   ]
  },
  {
   "cell_type": "markdown",
   "metadata": {},
   "source": [
    "### 4) Execute os algoritmos separadamente em 3 consultas de sua escolha e retorne os top-5 documentos mais similares à cada consulta"
   ]
  },
  {
   "cell_type": "markdown",
   "metadata": {},
   "source": [
    "### Consultas a serem realizadas\n",
    "\n",
    "    1. \"jair bolsonaro\"\n",
    "    2. \"governo do brasil\"\n",
    "    3. \"previdencia social\""
   ]
  },
  {
   "cell_type": "markdown",
   "metadata": {},
   "source": [
    "### Consulta por \"jair bolsonaro\""
   ]
  },
  {
   "cell_type": "markdown",
   "metadata": {},
   "source": [
    "##### Execução do algoritmo *Representação Binária* e apresentação da tabela com o id dos documentos do TOP 5"
   ]
  },
  {
   "cell_type": "code",
   "execution_count": 42,
   "metadata": {},
   "outputs": [
    {
     "data": {
      "text/html": [
       "<div>\n",
       "<style scoped>\n",
       "    .dataframe tbody tr th:only-of-type {\n",
       "        vertical-align: middle;\n",
       "    }\n",
       "\n",
       "    .dataframe tbody tr th {\n",
       "        vertical-align: top;\n",
       "    }\n",
       "\n",
       "    .dataframe thead th {\n",
       "        text-align: right;\n",
       "    }\n",
       "</style>\n",
       "<table border=\"1\" class=\"dataframe\">\n",
       "  <thead>\n",
       "    <tr style=\"text-align: right;\">\n",
       "      <th></th>\n",
       "      <th>Ranking</th>\n",
       "      <th>ID documento</th>\n",
       "    </tr>\n",
       "  </thead>\n",
       "  <tbody>\n",
       "    <tr>\n",
       "      <th>0</th>\n",
       "      <td>1</td>\n",
       "      <td>0</td>\n",
       "    </tr>\n",
       "    <tr>\n",
       "      <th>1</th>\n",
       "      <td>2</td>\n",
       "      <td>1</td>\n",
       "    </tr>\n",
       "    <tr>\n",
       "      <th>2</th>\n",
       "      <td>3</td>\n",
       "      <td>145</td>\n",
       "    </tr>\n",
       "    <tr>\n",
       "      <th>3</th>\n",
       "      <td>4</td>\n",
       "      <td>150</td>\n",
       "    </tr>\n",
       "    <tr>\n",
       "      <th>4</th>\n",
       "      <td>5</td>\n",
       "      <td>24</td>\n",
       "    </tr>\n",
       "  </tbody>\n",
       "</table>\n",
       "</div>"
      ],
      "text/plain": [
       "   Ranking  ID documento\n",
       "0        1             0\n",
       "1        2             1\n",
       "2        3           145\n",
       "3        4           150\n",
       "4        5            24"
      ]
     },
     "execution_count": 42,
     "metadata": {},
     "output_type": "execute_result"
    }
   ],
   "source": [
    "ranking = range(1, 6)\n",
    "ids_documentos = get_documentos_ordem_representacao_binaria(\"jair bolsonaro\", indices_invertidos_com_frequencia, 5)\n",
    "\n",
    "tabela_jair_bolsonaro_representacao_binaria = pd.DataFrame({\"Ranking\": ranking, \n",
    "                                 \"ID documento\": ids_documentos})\n",
    "\n",
    "# Reordenando as colunas para a apresentação\n",
    "colunas = [\"Ranking\", \"ID documento\"]\n",
    "tabela_jair_bolsonaro_representacao_binaria = tabela_jair_bolsonaro_representacao_binaria.reindex(columns=colunas)\n",
    "\n",
    "tabela_jair_bolsonaro_representacao_binaria"
   ]
  },
  {
   "cell_type": "markdown",
   "metadata": {},
   "source": [
    "##### Execução do algoritmo *TF* e apresentação da tabela com o id dos documentos do TOP 5"
   ]
  },
  {
   "cell_type": "code",
   "execution_count": 43,
   "metadata": {},
   "outputs": [
    {
     "data": {
      "text/html": [
       "<div>\n",
       "<style scoped>\n",
       "    .dataframe tbody tr th:only-of-type {\n",
       "        vertical-align: middle;\n",
       "    }\n",
       "\n",
       "    .dataframe tbody tr th {\n",
       "        vertical-align: top;\n",
       "    }\n",
       "\n",
       "    .dataframe thead th {\n",
       "        text-align: right;\n",
       "    }\n",
       "</style>\n",
       "<table border=\"1\" class=\"dataframe\">\n",
       "  <thead>\n",
       "    <tr style=\"text-align: right;\">\n",
       "      <th></th>\n",
       "      <th>Ranking</th>\n",
       "      <th>ID documento</th>\n",
       "    </tr>\n",
       "  </thead>\n",
       "  <tbody>\n",
       "    <tr>\n",
       "      <th>0</th>\n",
       "      <td>1</td>\n",
       "      <td>150</td>\n",
       "    </tr>\n",
       "    <tr>\n",
       "      <th>1</th>\n",
       "      <td>2</td>\n",
       "      <td>206</td>\n",
       "    </tr>\n",
       "    <tr>\n",
       "      <th>2</th>\n",
       "      <td>3</td>\n",
       "      <td>165</td>\n",
       "    </tr>\n",
       "    <tr>\n",
       "      <th>3</th>\n",
       "      <td>4</td>\n",
       "      <td>18</td>\n",
       "    </tr>\n",
       "    <tr>\n",
       "      <th>4</th>\n",
       "      <td>5</td>\n",
       "      <td>41</td>\n",
       "    </tr>\n",
       "  </tbody>\n",
       "</table>\n",
       "</div>"
      ],
      "text/plain": [
       "   Ranking  ID documento\n",
       "0        1           150\n",
       "1        2           206\n",
       "2        3           165\n",
       "3        4            18\n",
       "4        5            41"
      ]
     },
     "execution_count": 43,
     "metadata": {},
     "output_type": "execute_result"
    }
   ],
   "source": [
    "ranking = range(1, 6)\n",
    "ids_documentos = get_documentos_ordem_TF(\"jair bolsonaro\", indices_invertidos_com_frequencia, 5)\n",
    "\n",
    "tabela_jair_bolsonaro_TF = pd.DataFrame({\"Ranking\": ranking, \n",
    "                                 \"ID documento\": ids_documentos})\n",
    "\n",
    "# Reordenando as colunas para a apresentação\n",
    "colunas = [\"Ranking\", \"ID documento\"]\n",
    "tabela_jair_bolsonaro_TF = tabela_jair_bolsonaro_TF.reindex(columns=colunas)\n",
    "\n",
    "tabela_jair_bolsonaro_TF"
   ]
  },
  {
   "cell_type": "markdown",
   "metadata": {},
   "source": [
    "##### Execução do algoritmo *TF-IDF* e apresentação da tabela com o id dos documentos do TOP 5"
   ]
  },
  {
   "cell_type": "code",
   "execution_count": 45,
   "metadata": {},
   "outputs": [
    {
     "data": {
      "text/html": [
       "<div>\n",
       "<style scoped>\n",
       "    .dataframe tbody tr th:only-of-type {\n",
       "        vertical-align: middle;\n",
       "    }\n",
       "\n",
       "    .dataframe tbody tr th {\n",
       "        vertical-align: top;\n",
       "    }\n",
       "\n",
       "    .dataframe thead th {\n",
       "        text-align: right;\n",
       "    }\n",
       "</style>\n",
       "<table border=\"1\" class=\"dataframe\">\n",
       "  <thead>\n",
       "    <tr style=\"text-align: right;\">\n",
       "      <th></th>\n",
       "      <th>Ranking</th>\n",
       "      <th>ID documento</th>\n",
       "    </tr>\n",
       "  </thead>\n",
       "  <tbody>\n",
       "    <tr>\n",
       "      <th>0</th>\n",
       "      <td>1</td>\n",
       "      <td>206</td>\n",
       "    </tr>\n",
       "    <tr>\n",
       "      <th>1</th>\n",
       "      <td>2</td>\n",
       "      <td>150</td>\n",
       "    </tr>\n",
       "    <tr>\n",
       "      <th>2</th>\n",
       "      <td>3</td>\n",
       "      <td>165</td>\n",
       "    </tr>\n",
       "    <tr>\n",
       "      <th>3</th>\n",
       "      <td>4</td>\n",
       "      <td>18</td>\n",
       "    </tr>\n",
       "    <tr>\n",
       "      <th>4</th>\n",
       "      <td>5</td>\n",
       "      <td>215</td>\n",
       "    </tr>\n",
       "  </tbody>\n",
       "</table>\n",
       "</div>"
      ],
      "text/plain": [
       "   Ranking  ID documento\n",
       "0        1           206\n",
       "1        2           150\n",
       "2        3           165\n",
       "3        4            18\n",
       "4        5           215"
      ]
     },
     "execution_count": 45,
     "metadata": {},
     "output_type": "execute_result"
    }
   ],
   "source": [
    "ranking = range(1, 6)\n",
    "ids_documentos = get_documentos_ordem_TF_IDF(\"jair bolsonaro\", indices_invertidos_com_frequencia, 5)\n",
    "\n",
    "tabela_jair_bolsonaro_TF_IDF = pd.DataFrame({\"Ranking\": ranking, \n",
    "                                 \"ID documento\": ids_documentos})\n",
    "\n",
    "# Reordenando as colunas para a apresentação\n",
    "colunas = [\"Ranking\", \"ID documento\"]\n",
    "tabela_jair_bolsonaro_TF_IDF = tabela_jair_bolsonaro_TF_IDF.reindex(columns=colunas)\n",
    "\n",
    "tabela_jair_bolsonaro_TF_IDF"
   ]
  },
  {
   "cell_type": "markdown",
   "metadata": {},
   "source": [
    "##### Execução do algoritmo *BM25* e apresentação da tabela com o id dos documentos do TOP 5"
   ]
  },
  {
   "cell_type": "code",
   "execution_count": 46,
   "metadata": {},
   "outputs": [
    {
     "data": {
      "text/html": [
       "<div>\n",
       "<style scoped>\n",
       "    .dataframe tbody tr th:only-of-type {\n",
       "        vertical-align: middle;\n",
       "    }\n",
       "\n",
       "    .dataframe tbody tr th {\n",
       "        vertical-align: top;\n",
       "    }\n",
       "\n",
       "    .dataframe thead th {\n",
       "        text-align: right;\n",
       "    }\n",
       "</style>\n",
       "<table border=\"1\" class=\"dataframe\">\n",
       "  <thead>\n",
       "    <tr style=\"text-align: right;\">\n",
       "      <th></th>\n",
       "      <th>Ranking</th>\n",
       "      <th>ID documento</th>\n",
       "    </tr>\n",
       "  </thead>\n",
       "  <tbody>\n",
       "    <tr>\n",
       "      <th>0</th>\n",
       "      <td>1</td>\n",
       "      <td>206</td>\n",
       "    </tr>\n",
       "    <tr>\n",
       "      <th>1</th>\n",
       "      <td>2</td>\n",
       "      <td>150</td>\n",
       "    </tr>\n",
       "    <tr>\n",
       "      <th>2</th>\n",
       "      <td>3</td>\n",
       "      <td>165</td>\n",
       "    </tr>\n",
       "    <tr>\n",
       "      <th>3</th>\n",
       "      <td>4</td>\n",
       "      <td>215</td>\n",
       "    </tr>\n",
       "    <tr>\n",
       "      <th>4</th>\n",
       "      <td>5</td>\n",
       "      <td>236</td>\n",
       "    </tr>\n",
       "  </tbody>\n",
       "</table>\n",
       "</div>"
      ],
      "text/plain": [
       "   Ranking  ID documento\n",
       "0        1           206\n",
       "1        2           150\n",
       "2        3           165\n",
       "3        4           215\n",
       "4        5           236"
      ]
     },
     "execution_count": 46,
     "metadata": {},
     "output_type": "execute_result"
    }
   ],
   "source": [
    "ranking = range(1, 6)\n",
    "ids_documentos = get_documentos_ordem_bm25(\"jair bolsonaro\", indices_invertidos_com_frequencia, 5)\n",
    "\n",
    "tabela_jair_bolsonaro_BM25 = pd.DataFrame({\"Ranking\": ranking, \n",
    "                                 \"ID documento\": ids_documentos})\n",
    "\n",
    "# Reordenando as colunas para a apresentação\n",
    "colunas = [\"Ranking\", \"ID documento\"]\n",
    "tabela_jair_bolsonaro_BM25 = tabela_jair_bolsonaro_BM25.reindex(columns=colunas)\n",
    "\n",
    "tabela_jair_bolsonaro_BM25"
   ]
  },
  {
   "cell_type": "markdown",
   "metadata": {},
   "source": [
    "### Consulta por \"governo do brasil\""
   ]
  },
  {
   "cell_type": "markdown",
   "metadata": {},
   "source": [
    "##### Execução do algoritmo *Representação Binária*"
   ]
  },
  {
   "cell_type": "code",
   "execution_count": 47,
   "metadata": {},
   "outputs": [
    {
     "data": {
      "text/html": [
       "<div>\n",
       "<style scoped>\n",
       "    .dataframe tbody tr th:only-of-type {\n",
       "        vertical-align: middle;\n",
       "    }\n",
       "\n",
       "    .dataframe tbody tr th {\n",
       "        vertical-align: top;\n",
       "    }\n",
       "\n",
       "    .dataframe thead th {\n",
       "        text-align: right;\n",
       "    }\n",
       "</style>\n",
       "<table border=\"1\" class=\"dataframe\">\n",
       "  <thead>\n",
       "    <tr style=\"text-align: right;\">\n",
       "      <th></th>\n",
       "      <th>Ranking</th>\n",
       "      <th>ID documento</th>\n",
       "    </tr>\n",
       "  </thead>\n",
       "  <tbody>\n",
       "    <tr>\n",
       "      <th>0</th>\n",
       "      <td>1</td>\n",
       "      <td>2</td>\n",
       "    </tr>\n",
       "    <tr>\n",
       "      <th>1</th>\n",
       "      <td>2</td>\n",
       "      <td>7</td>\n",
       "    </tr>\n",
       "    <tr>\n",
       "      <th>2</th>\n",
       "      <td>3</td>\n",
       "      <td>17</td>\n",
       "    </tr>\n",
       "    <tr>\n",
       "      <th>3</th>\n",
       "      <td>4</td>\n",
       "      <td>18</td>\n",
       "    </tr>\n",
       "    <tr>\n",
       "      <th>4</th>\n",
       "      <td>5</td>\n",
       "      <td>20</td>\n",
       "    </tr>\n",
       "  </tbody>\n",
       "</table>\n",
       "</div>"
      ],
      "text/plain": [
       "   Ranking  ID documento\n",
       "0        1             2\n",
       "1        2             7\n",
       "2        3            17\n",
       "3        4            18\n",
       "4        5            20"
      ]
     },
     "execution_count": 47,
     "metadata": {},
     "output_type": "execute_result"
    }
   ],
   "source": [
    "ranking = range(1, 6)\n",
    "ids_documentos = get_documentos_ordem_representacao_binaria(\"governo do brasil\", indices_invertidos_com_frequencia, 5)\n",
    "\n",
    "tabela_jair_bolsonaro_representacao_binaria = pd.DataFrame({\"Ranking\": ranking, \n",
    "                                 \"ID documento\": ids_documentos})\n",
    "\n",
    "# Reordenando as colunas para a apresentação\n",
    "colunas = [\"Ranking\", \"ID documento\"]\n",
    "tabela_jair_bolsonaro_representacao_binaria = tabela_jair_bolsonaro_representacao_binaria.reindex(columns=colunas)\n",
    "\n",
    "tabela_jair_bolsonaro_representacao_binaria"
   ]
  },
  {
   "cell_type": "markdown",
   "metadata": {},
   "source": [
    "##### Execução do algoritmo *TF*"
   ]
  },
  {
   "cell_type": "code",
   "execution_count": 48,
   "metadata": {},
   "outputs": [
    {
     "data": {
      "text/html": [
       "<div>\n",
       "<style scoped>\n",
       "    .dataframe tbody tr th:only-of-type {\n",
       "        vertical-align: middle;\n",
       "    }\n",
       "\n",
       "    .dataframe tbody tr th {\n",
       "        vertical-align: top;\n",
       "    }\n",
       "\n",
       "    .dataframe thead th {\n",
       "        text-align: right;\n",
       "    }\n",
       "</style>\n",
       "<table border=\"1\" class=\"dataframe\">\n",
       "  <thead>\n",
       "    <tr style=\"text-align: right;\">\n",
       "      <th></th>\n",
       "      <th>Ranking</th>\n",
       "      <th>ID documento</th>\n",
       "    </tr>\n",
       "  </thead>\n",
       "  <tbody>\n",
       "    <tr>\n",
       "      <th>0</th>\n",
       "      <td>1</td>\n",
       "      <td>150</td>\n",
       "    </tr>\n",
       "    <tr>\n",
       "      <th>1</th>\n",
       "      <td>2</td>\n",
       "      <td>165</td>\n",
       "    </tr>\n",
       "    <tr>\n",
       "      <th>2</th>\n",
       "      <td>3</td>\n",
       "      <td>172</td>\n",
       "    </tr>\n",
       "    <tr>\n",
       "      <th>3</th>\n",
       "      <td>4</td>\n",
       "      <td>18</td>\n",
       "    </tr>\n",
       "    <tr>\n",
       "      <th>4</th>\n",
       "      <td>5</td>\n",
       "      <td>247</td>\n",
       "    </tr>\n",
       "  </tbody>\n",
       "</table>\n",
       "</div>"
      ],
      "text/plain": [
       "   Ranking  ID documento\n",
       "0        1           150\n",
       "1        2           165\n",
       "2        3           172\n",
       "3        4            18\n",
       "4        5           247"
      ]
     },
     "execution_count": 48,
     "metadata": {},
     "output_type": "execute_result"
    }
   ],
   "source": [
    "ranking = range(1, 6)\n",
    "ids_documentos = get_documentos_ordem_TF(\"governo do brasil\", indices_invertidos_com_frequencia, 5)\n",
    "\n",
    "tabela_jair_bolsonaro_TF = pd.DataFrame({\"Ranking\": ranking, \n",
    "                                 \"ID documento\": ids_documentos})\n",
    "\n",
    "# Reordenando as colunas para a apresentação\n",
    "colunas = [\"Ranking\", \"ID documento\"]\n",
    "tabela_jair_bolsonaro_TF = tabela_jair_bolsonaro_TF.reindex(columns=colunas)\n",
    "\n",
    "tabela_jair_bolsonaro_TF"
   ]
  },
  {
   "cell_type": "markdown",
   "metadata": {},
   "source": [
    "##### Execução do algoritmo *TF-IDF*"
   ]
  },
  {
   "cell_type": "code",
   "execution_count": 49,
   "metadata": {},
   "outputs": [
    {
     "data": {
      "text/html": [
       "<div>\n",
       "<style scoped>\n",
       "    .dataframe tbody tr th:only-of-type {\n",
       "        vertical-align: middle;\n",
       "    }\n",
       "\n",
       "    .dataframe tbody tr th {\n",
       "        vertical-align: top;\n",
       "    }\n",
       "\n",
       "    .dataframe thead th {\n",
       "        text-align: right;\n",
       "    }\n",
       "</style>\n",
       "<table border=\"1\" class=\"dataframe\">\n",
       "  <thead>\n",
       "    <tr style=\"text-align: right;\">\n",
       "      <th></th>\n",
       "      <th>Ranking</th>\n",
       "      <th>ID documento</th>\n",
       "    </tr>\n",
       "  </thead>\n",
       "  <tbody>\n",
       "    <tr>\n",
       "      <th>0</th>\n",
       "      <td>1</td>\n",
       "      <td>150</td>\n",
       "    </tr>\n",
       "    <tr>\n",
       "      <th>1</th>\n",
       "      <td>2</td>\n",
       "      <td>165</td>\n",
       "    </tr>\n",
       "    <tr>\n",
       "      <th>2</th>\n",
       "      <td>3</td>\n",
       "      <td>172</td>\n",
       "    </tr>\n",
       "    <tr>\n",
       "      <th>3</th>\n",
       "      <td>4</td>\n",
       "      <td>18</td>\n",
       "    </tr>\n",
       "    <tr>\n",
       "      <th>4</th>\n",
       "      <td>5</td>\n",
       "      <td>247</td>\n",
       "    </tr>\n",
       "  </tbody>\n",
       "</table>\n",
       "</div>"
      ],
      "text/plain": [
       "   Ranking  ID documento\n",
       "0        1           150\n",
       "1        2           165\n",
       "2        3           172\n",
       "3        4            18\n",
       "4        5           247"
      ]
     },
     "execution_count": 49,
     "metadata": {},
     "output_type": "execute_result"
    }
   ],
   "source": [
    "ranking = range(1, 6)\n",
    "ids_documentos = get_documentos_ordem_TF_IDF(\"governo do brasil\", indices_invertidos_com_frequencia, 5)\n",
    "\n",
    "tabela_jair_bolsonaro_TF_IDF = pd.DataFrame({\"Ranking\": ranking, \n",
    "                                 \"ID documento\": ids_documentos})\n",
    "\n",
    "# Reordenando as colunas para a apresentação\n",
    "colunas = [\"Ranking\", \"ID documento\"]\n",
    "tabela_jair_bolsonaro_TF_IDF = tabela_jair_bolsonaro_TF_IDF.reindex(columns=colunas)\n",
    "\n",
    "tabela_jair_bolsonaro_TF_IDF"
   ]
  },
  {
   "cell_type": "markdown",
   "metadata": {},
   "source": [
    "##### Execução do algoritmo *BM25*"
   ]
  },
  {
   "cell_type": "code",
   "execution_count": 53,
   "metadata": {},
   "outputs": [
    {
     "data": {
      "text/html": [
       "<div>\n",
       "<style scoped>\n",
       "    .dataframe tbody tr th:only-of-type {\n",
       "        vertical-align: middle;\n",
       "    }\n",
       "\n",
       "    .dataframe tbody tr th {\n",
       "        vertical-align: top;\n",
       "    }\n",
       "\n",
       "    .dataframe thead th {\n",
       "        text-align: right;\n",
       "    }\n",
       "</style>\n",
       "<table border=\"1\" class=\"dataframe\">\n",
       "  <thead>\n",
       "    <tr style=\"text-align: right;\">\n",
       "      <th></th>\n",
       "      <th>Ranking</th>\n",
       "      <th>ID documento</th>\n",
       "    </tr>\n",
       "  </thead>\n",
       "  <tbody>\n",
       "    <tr>\n",
       "      <th>0</th>\n",
       "      <td>1</td>\n",
       "      <td>165</td>\n",
       "    </tr>\n",
       "    <tr>\n",
       "      <th>1</th>\n",
       "      <td>2</td>\n",
       "      <td>172</td>\n",
       "    </tr>\n",
       "    <tr>\n",
       "      <th>2</th>\n",
       "      <td>3</td>\n",
       "      <td>247</td>\n",
       "    </tr>\n",
       "    <tr>\n",
       "      <th>3</th>\n",
       "      <td>4</td>\n",
       "      <td>18</td>\n",
       "    </tr>\n",
       "    <tr>\n",
       "      <th>4</th>\n",
       "      <td>5</td>\n",
       "      <td>114</td>\n",
       "    </tr>\n",
       "  </tbody>\n",
       "</table>\n",
       "</div>"
      ],
      "text/plain": [
       "   Ranking  ID documento\n",
       "0        1           165\n",
       "1        2           172\n",
       "2        3           247\n",
       "3        4            18\n",
       "4        5           114"
      ]
     },
     "execution_count": 53,
     "metadata": {},
     "output_type": "execute_result"
    }
   ],
   "source": [
    "ranking = range(1, 6)\n",
    "ids_documentos = get_documentos_ordem_bm25(\"governo do brasil\", indices_invertidos_com_frequencia, 5)\n",
    "\n",
    "tabela_jair_bolsonaro_BM25 = pd.DataFrame({\"Ranking\": ranking, \n",
    "                                 \"ID documento\": ids_documentos})\n",
    "\n",
    "# Reordenando as colunas para a apresentação\n",
    "colunas = [\"Ranking\", \"ID documento\"]\n",
    "tabela_jair_bolsonaro_BM25 = tabela_jair_bolsonaro_BM25.reindex(columns=colunas)\n",
    "\n",
    "tabela_jair_bolsonaro_BM25"
   ]
  },
  {
   "cell_type": "markdown",
   "metadata": {},
   "source": [
    "### Consulta por \"previdencia social\""
   ]
  },
  {
   "cell_type": "markdown",
   "metadata": {},
   "source": [
    "##### Execução do algoritmo *Representação Binária*"
   ]
  },
  {
   "cell_type": "code",
   "execution_count": 59,
   "metadata": {},
   "outputs": [
    {
     "data": {
      "text/html": [
       "<div>\n",
       "<style scoped>\n",
       "    .dataframe tbody tr th:only-of-type {\n",
       "        vertical-align: middle;\n",
       "    }\n",
       "\n",
       "    .dataframe tbody tr th {\n",
       "        vertical-align: top;\n",
       "    }\n",
       "\n",
       "    .dataframe thead th {\n",
       "        text-align: right;\n",
       "    }\n",
       "</style>\n",
       "<table border=\"1\" class=\"dataframe\">\n",
       "  <thead>\n",
       "    <tr style=\"text-align: right;\">\n",
       "      <th></th>\n",
       "      <th>Ranking</th>\n",
       "      <th>ID documento</th>\n",
       "    </tr>\n",
       "  </thead>\n",
       "  <tbody>\n",
       "    <tr>\n",
       "      <th>0</th>\n",
       "      <td>1</td>\n",
       "      <td>139</td>\n",
       "    </tr>\n",
       "    <tr>\n",
       "      <th>1</th>\n",
       "      <td>2</td>\n",
       "      <td>35</td>\n",
       "    </tr>\n",
       "    <tr>\n",
       "      <th>2</th>\n",
       "      <td>3</td>\n",
       "      <td>165</td>\n",
       "    </tr>\n",
       "    <tr>\n",
       "      <th>3</th>\n",
       "      <td>4</td>\n",
       "      <td>172</td>\n",
       "    </tr>\n",
       "    <tr>\n",
       "      <th>4</th>\n",
       "      <td>5</td>\n",
       "      <td>212</td>\n",
       "    </tr>\n",
       "  </tbody>\n",
       "</table>\n",
       "</div>"
      ],
      "text/plain": [
       "   Ranking  ID documento\n",
       "0        1           139\n",
       "1        2            35\n",
       "2        3           165\n",
       "3        4           172\n",
       "4        5           212"
      ]
     },
     "execution_count": 59,
     "metadata": {},
     "output_type": "execute_result"
    }
   ],
   "source": [
    "ranking = range(1, 6)\n",
    "ids_documentos = get_documentos_ordem_representacao_binaria(\"previdencia social\", indices_invertidos_com_frequencia, 5)\n",
    "\n",
    "tabela_jair_bolsonaro_representacao_binaria = pd.DataFrame({\"Ranking\": ranking, \n",
    "                                 \"ID documento\": ids_documentos})\n",
    "\n",
    "# Reordenando as colunas para a apresentação\n",
    "colunas = [\"Ranking\", \"ID documento\"]\n",
    "tabela_jair_bolsonaro_representacao_binaria = tabela_jair_bolsonaro_representacao_binaria.reindex(columns=colunas)\n",
    "\n",
    "tabela_jair_bolsonaro_representacao_binaria"
   ]
  },
  {
   "cell_type": "markdown",
   "metadata": {},
   "source": [
    "##### Execução do algoritmo *TF*"
   ]
  },
  {
   "cell_type": "code",
   "execution_count": 60,
   "metadata": {},
   "outputs": [
    {
     "data": {
      "text/html": [
       "<div>\n",
       "<style scoped>\n",
       "    .dataframe tbody tr th:only-of-type {\n",
       "        vertical-align: middle;\n",
       "    }\n",
       "\n",
       "    .dataframe tbody tr th {\n",
       "        vertical-align: top;\n",
       "    }\n",
       "\n",
       "    .dataframe thead th {\n",
       "        text-align: right;\n",
       "    }\n",
       "</style>\n",
       "<table border=\"1\" class=\"dataframe\">\n",
       "  <thead>\n",
       "    <tr style=\"text-align: right;\">\n",
       "      <th></th>\n",
       "      <th>Ranking</th>\n",
       "      <th>ID documento</th>\n",
       "    </tr>\n",
       "  </thead>\n",
       "  <tbody>\n",
       "    <tr>\n",
       "      <th>0</th>\n",
       "      <td>1</td>\n",
       "      <td>247</td>\n",
       "    </tr>\n",
       "    <tr>\n",
       "      <th>1</th>\n",
       "      <td>2</td>\n",
       "      <td>28</td>\n",
       "    </tr>\n",
       "    <tr>\n",
       "      <th>2</th>\n",
       "      <td>3</td>\n",
       "      <td>202</td>\n",
       "    </tr>\n",
       "    <tr>\n",
       "      <th>3</th>\n",
       "      <td>4</td>\n",
       "      <td>92</td>\n",
       "    </tr>\n",
       "    <tr>\n",
       "      <th>4</th>\n",
       "      <td>5</td>\n",
       "      <td>151</td>\n",
       "    </tr>\n",
       "  </tbody>\n",
       "</table>\n",
       "</div>"
      ],
      "text/plain": [
       "   Ranking  ID documento\n",
       "0        1           247\n",
       "1        2            28\n",
       "2        3           202\n",
       "3        4            92\n",
       "4        5           151"
      ]
     },
     "execution_count": 60,
     "metadata": {},
     "output_type": "execute_result"
    }
   ],
   "source": [
    "ranking = range(1, 6)\n",
    "ids_documentos = get_documentos_ordem_TF(\"previdencial social\", indices_invertidos_com_frequencia, 5)\n",
    "\n",
    "tabela_jair_bolsonaro_TF = pd.DataFrame({\"Ranking\": ranking, \n",
    "                                 \"ID documento\": ids_documentos})\n",
    "\n",
    "# Reordenando as colunas para a apresentação\n",
    "colunas = [\"Ranking\", \"ID documento\"]\n",
    "tabela_jair_bolsonaro_TF = tabela_jair_bolsonaro_TF.reindex(columns=colunas)\n",
    "\n",
    "tabela_jair_bolsonaro_TF"
   ]
  },
  {
   "cell_type": "markdown",
   "metadata": {},
   "source": [
    "##### Execução do algoritmo *TF-IDF*"
   ]
  },
  {
   "cell_type": "code",
   "execution_count": 61,
   "metadata": {},
   "outputs": [
    {
     "data": {
      "text/html": [
       "<div>\n",
       "<style scoped>\n",
       "    .dataframe tbody tr th:only-of-type {\n",
       "        vertical-align: middle;\n",
       "    }\n",
       "\n",
       "    .dataframe tbody tr th {\n",
       "        vertical-align: top;\n",
       "    }\n",
       "\n",
       "    .dataframe thead th {\n",
       "        text-align: right;\n",
       "    }\n",
       "</style>\n",
       "<table border=\"1\" class=\"dataframe\">\n",
       "  <thead>\n",
       "    <tr style=\"text-align: right;\">\n",
       "      <th></th>\n",
       "      <th>Ranking</th>\n",
       "      <th>ID documento</th>\n",
       "    </tr>\n",
       "  </thead>\n",
       "  <tbody>\n",
       "    <tr>\n",
       "      <th>0</th>\n",
       "      <td>1</td>\n",
       "      <td>247</td>\n",
       "    </tr>\n",
       "    <tr>\n",
       "      <th>1</th>\n",
       "      <td>2</td>\n",
       "      <td>28</td>\n",
       "    </tr>\n",
       "    <tr>\n",
       "      <th>2</th>\n",
       "      <td>3</td>\n",
       "      <td>202</td>\n",
       "    </tr>\n",
       "    <tr>\n",
       "      <th>3</th>\n",
       "      <td>4</td>\n",
       "      <td>92</td>\n",
       "    </tr>\n",
       "    <tr>\n",
       "      <th>4</th>\n",
       "      <td>5</td>\n",
       "      <td>151</td>\n",
       "    </tr>\n",
       "  </tbody>\n",
       "</table>\n",
       "</div>"
      ],
      "text/plain": [
       "   Ranking  ID documento\n",
       "0        1           247\n",
       "1        2            28\n",
       "2        3           202\n",
       "3        4            92\n",
       "4        5           151"
      ]
     },
     "execution_count": 61,
     "metadata": {},
     "output_type": "execute_result"
    }
   ],
   "source": [
    "ranking = range(1, 6)\n",
    "ids_documentos = get_documentos_ordem_TF_IDF(\"previdencial social\", indices_invertidos_com_frequencia, 5)\n",
    "\n",
    "tabela_jair_bolsonaro_TF_IDF = pd.DataFrame({\"Ranking\": ranking, \n",
    "                                 \"ID documento\": ids_documentos})\n",
    "\n",
    "# Reordenando as colunas para a apresentação\n",
    "colunas = [\"Ranking\", \"ID documento\"]\n",
    "tabela_jair_bolsonaro_TF_IDF = tabela_jair_bolsonaro_TF_IDF.reindex(columns=colunas)\n",
    "\n",
    "tabela_jair_bolsonaro_TF_IDF"
   ]
  },
  {
   "cell_type": "markdown",
   "metadata": {},
   "source": [
    "##### Execução do algoritmo *BM25*"
   ]
  },
  {
   "cell_type": "code",
   "execution_count": 62,
   "metadata": {},
   "outputs": [
    {
     "data": {
      "text/html": [
       "<div>\n",
       "<style scoped>\n",
       "    .dataframe tbody tr th:only-of-type {\n",
       "        vertical-align: middle;\n",
       "    }\n",
       "\n",
       "    .dataframe tbody tr th {\n",
       "        vertical-align: top;\n",
       "    }\n",
       "\n",
       "    .dataframe thead th {\n",
       "        text-align: right;\n",
       "    }\n",
       "</style>\n",
       "<table border=\"1\" class=\"dataframe\">\n",
       "  <thead>\n",
       "    <tr style=\"text-align: right;\">\n",
       "      <th></th>\n",
       "      <th>Ranking</th>\n",
       "      <th>ID documento</th>\n",
       "    </tr>\n",
       "  </thead>\n",
       "  <tbody>\n",
       "    <tr>\n",
       "      <th>0</th>\n",
       "      <td>1</td>\n",
       "      <td>247</td>\n",
       "    </tr>\n",
       "    <tr>\n",
       "      <th>1</th>\n",
       "      <td>2</td>\n",
       "      <td>36</td>\n",
       "    </tr>\n",
       "    <tr>\n",
       "      <th>2</th>\n",
       "      <td>3</td>\n",
       "      <td>165</td>\n",
       "    </tr>\n",
       "    <tr>\n",
       "      <th>3</th>\n",
       "      <td>4</td>\n",
       "      <td>212</td>\n",
       "    </tr>\n",
       "    <tr>\n",
       "      <th>4</th>\n",
       "      <td>5</td>\n",
       "      <td>137</td>\n",
       "    </tr>\n",
       "  </tbody>\n",
       "</table>\n",
       "</div>"
      ],
      "text/plain": [
       "   Ranking  ID documento\n",
       "0        1           247\n",
       "1        2            36\n",
       "2        3           165\n",
       "3        4           212\n",
       "4        5           137"
      ]
     },
     "execution_count": 62,
     "metadata": {},
     "output_type": "execute_result"
    }
   ],
   "source": [
    "ranking = range(1, 6)\n",
    "ids_documentos = get_documentos_ordem_bm25(\"previdencia social\", indices_invertidos_com_frequencia, 5)\n",
    "\n",
    "tabela_jair_bolsonaro_BM25 = pd.DataFrame({\"Ranking\": ranking, \n",
    "                                 \"ID documento\": ids_documentos})\n",
    "\n",
    "# Reordenando as colunas para a apresentação\n",
    "colunas = [\"Ranking\", \"ID documento\"]\n",
    "tabela_jair_bolsonaro_BM25 = tabela_jair_bolsonaro_BM25.reindex(columns=colunas)\n",
    "\n",
    "tabela_jair_bolsonaro_BM25"
   ]
  },
  {
   "cell_type": "markdown",
   "metadata": {},
   "source": [
    "### 5) Compare os resultados encontrados e responda."
   ]
  },
  {
   "cell_type": "markdown",
   "metadata": {},
   "source": [
    "### 5.1) Quais modelos você acha que trouxe os melhores resultados? Por que? Inspecione os documentos retornados para melhor embasar sua resposta."
   ]
  },
  {
   "cell_type": "code",
   "execution_count": null,
   "metadata": {},
   "outputs": [],
   "source": []
  },
  {
   "cell_type": "markdown",
   "metadata": {},
   "source": [
    "### 5.2) Calcule e reporte o overlap par-a-par entre os resultados de cada modelo (usando o índice de Jaccard)."
   ]
  },
  {
   "cell_type": "code",
   "execution_count": null,
   "metadata": {},
   "outputs": [],
   "source": []
  }
 ],
 "metadata": {
  "kernelspec": {
   "display_name": "Python 2",
   "language": "python",
   "name": "python2"
  },
  "language_info": {
   "codemirror_mode": {
    "name": "ipython",
    "version": 2
   },
   "file_extension": ".py",
   "mimetype": "text/x-python",
   "name": "python",
   "nbconvert_exporter": "python",
   "pygments_lexer": "ipython2",
   "version": "2.7.15rc1"
  }
 },
 "nbformat": 4,
 "nbformat_minor": 2
}
