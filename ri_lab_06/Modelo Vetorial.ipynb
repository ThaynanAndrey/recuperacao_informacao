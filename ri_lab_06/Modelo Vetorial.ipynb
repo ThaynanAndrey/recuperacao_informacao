{
 "cells": [
  {
   "cell_type": "markdown",
   "metadata": {},
   "source": [
    "## Modelo Vetorial"
   ]
  },
  {
   "cell_type": "markdown",
   "metadata": {},
   "source": [
    "### Importando-se os pacotes necessários para a atividade"
   ]
  },
  {
   "cell_type": "code",
   "execution_count": 1,
   "metadata": {},
   "outputs": [],
   "source": [
    "import pandas as pd\n",
    "import re\n",
    "import operator\n",
    "from math import log\n",
    "from collections import Counter\n",
    "from unicodedata import normalize"
   ]
  },
  {
   "cell_type": "markdown",
   "metadata": {},
   "source": [
    "### Obtendo-se a coleção"
   ]
  },
  {
   "cell_type": "code",
   "execution_count": 2,
   "metadata": {},
   "outputs": [],
   "source": [
    "data_frame = pd.read_csv(\"results.csv\")\n",
    "documentos = data_frame[\"text\"].tolist()"
   ]
  },
  {
   "cell_type": "markdown",
   "metadata": {},
   "source": [
    "### 1) Reconstruir o índice considerando o conjunto de dados que indicamos. Esses são os dados coletados por Bernardi e os estaremos usando para facilitar a correção da atividade. Se você já estiver usando esses dados não precisa reconstruir o índice"
   ]
  },
  {
   "cell_type": "markdown",
   "metadata": {},
   "source": [
    "#### Gerando-se os índices invertidos"
   ]
  },
  {
   "cell_type": "markdown",
   "metadata": {},
   "source": [
    "#### Algoritmo \"parse\" para obter os tokens de um determinado documento"
   ]
  },
  {
   "cell_type": "code",
   "execution_count": 3,
   "metadata": {},
   "outputs": [],
   "source": [
    "def is_pontuacao(token):\n",
    "    '''\n",
    "        Retorna-se um booleano indicando se o token passado por parâmetro é uma pontuação.\n",
    "    '''\n",
    "    lista_pontuacoes = [\",\", \".\", \"!\", \"?\", \":\", \"/\", \"#\", \"*\", \"(\", \")\", \";\", \"\"]\n",
    "    return token.strip() in lista_pontuacoes\n",
    "\n",
    "def remove_acentuacoes(token):\n",
    "    '''\n",
    "        Remove as acentuações de um token.\n",
    "    '''\n",
    "    token_unicode = unicode(token, \"utf-8\")\n",
    "    return normalize('NFKD', token_unicode).encode('ASCII','ignore')\n",
    "\n",
    "def parse(texto):\n",
    "    '''\n",
    "        Transforma o texto em uma lista de tokens, eliminando espaços vazios, acentuações e pontuações, e\n",
    "        tranforma todas as palavras em letras minúsculas.\n",
    "    '''\n",
    "    texto = re.sub(r'[,.!?:*();]', ' ', str(texto))\n",
    "    texto = re.sub(r'\\n', ' ', texto)\n",
    "    lista_texto = texto.split(' ')\n",
    "\n",
    "    tokens = []\n",
    "    for palavra in lista_texto:\n",
    "        token = palavra.lower()\n",
    "        token = token.strip()\n",
    "        token = remove_acentuacoes(token)\n",
    "\n",
    "        if(not is_pontuacao(token)):\n",
    "            tokens.append(token)\n",
    "    \n",
    "    return tokens"
   ]
  },
  {
   "cell_type": "markdown",
   "metadata": {},
   "source": [
    "#### Algoritmo para obtenção dos índices invertidos com frequência (IDF)"
   ]
  },
  {
   "cell_type": "code",
   "execution_count": 4,
   "metadata": {},
   "outputs": [],
   "source": [
    "def get_indices_invertidos_com_frequencia(documentos):\n",
    "    '''\n",
    "        Obtém uma lista de índices invertidos a partir de uma lista de documentos,\n",
    "        com a frequência do índice em cada um desses documentos.\n",
    "    '''\n",
    "    indices_invertidos = {}\n",
    "    for i in range(len(documentos)):\n",
    "        doc = parse(documentos[i])\n",
    "        documento_counter = Counter(doc)\n",
    "        \n",
    "        for indice in documento_counter.keys():\n",
    "            if(len(indice) > 3):\n",
    "                if(indice in indices_invertidos):\n",
    "                    indices_invertidos[indice][i] = documento_counter[indice]\n",
    "                else:\n",
    "                    indices_invertidos[indice] = { i: documento_counter[indice] }\n",
    "    \n",
    "    return indices_invertidos"
   ]
  },
  {
   "cell_type": "markdown",
   "metadata": {},
   "source": [
    "### 2) Refinar o índice invertido de forma a também incluir o IDF (inverse document frequency) de cada termo do dicionário."
   ]
  },
  {
   "cell_type": "markdown",
   "metadata": {},
   "source": [
    "#### Obtendo-se os índices com IDF"
   ]
  },
  {
   "cell_type": "code",
   "execution_count": 5,
   "metadata": {},
   "outputs": [],
   "source": [
    "indices_invertidos_com_frequencia = get_indices_invertidos_com_frequencia(documentos)"
   ]
  },
  {
   "cell_type": "markdown",
   "metadata": {},
   "source": [
    "### 3) Implementar as seguintes versões do modelo vetorial:\n",
    "\n",
    "    1. Representação binária;\n",
    "    2. TF (lembre-se que esse modelo já está implementado);\n",
    "    3. TF-IDF;\n",
    "    4. BM25* (não usaremos Okapi já que os documentos não tem grande variação de tamanho)"
   ]
  },
  {
   "cell_type": "markdown",
   "metadata": {},
   "source": [
    "#### Algoritmos úteis para as implementações"
   ]
  },
  {
   "cell_type": "code",
   "execution_count": 6,
   "metadata": {},
   "outputs": [],
   "source": [
    "def get_tuplas_documentos_ordenados_peso(dic_documentos):\n",
    "    '''\n",
    "        Obtém-se tuplas de documentos ordenados decrescentemente pelo peso, a partir de um dicionário\n",
    "        que tem como chave o documento, e valor o peso.\n",
    "    '''\n",
    "    documentos_tuplas = dic_documentos.items()\n",
    "    indice_peso = 1\n",
    "    documentos_tuplas.sort(key = operator.itemgetter(indice_peso), reverse=True)\n",
    "    \n",
    "    return documentos_tuplas\n",
    "\n",
    "def get_K_primeiros_ids_documentos(documentos_tuplas, k):\n",
    "    '''\n",
    "        Obtendo-se a lista de id dos k primeiros documentos, a partir de uma lista de tuplas, as quais\n",
    "        o primeiro índice é o id do documento e o segundo é o seu peso.\n",
    "    '''\n",
    "    id_documentos_ordenados = [id_documento for id_documento, peso in documentos_tuplas]\n",
    "    k_primeiros_id_documentos = id_documentos_ordenados[:k]\n",
    "    \n",
    "    return k_primeiros_id_documentos\n",
    "\n",
    "def idf(quantidade_documentos_colecao, quantidade_documentos_com_palavra):\n",
    "    '''\n",
    "        Calcula o Inverse Document Frequency (IDF).\n",
    "    '''\n",
    "    return log((quantidade_documentos_colecao + 1) / quantidade_documentos_com_palavra)"
   ]
  },
  {
   "cell_type": "markdown",
   "metadata": {},
   "source": [
    "#### Implementação do algoritmo para a *Representação Binária*"
   ]
  },
  {
   "cell_type": "code",
   "execution_count": 7,
   "metadata": {},
   "outputs": [],
   "source": [
    "def get_documentos_ordem_representacao_binaria(consulta, indices_invertidos, k_primeiros_elementos):\n",
    "    '''\n",
    "        Obtém os documentos ordenados segundo a ideia de \"Representação Binária\",\n",
    "        na qual, os documentos que possuem a maior quantidade de termos da consultas\n",
    "        são os mais representativos.\n",
    "    '''\n",
    "    consulta = consulta.split(\" \")\n",
    "    # Separando-se os termos da pesquisa, de forma a evitar a contagem de palavras repetidas. Por exemplo,\n",
    "    # uma consulta por \"thaynan andrey thaynan\", evitaria que eu calculasse \"thaynan\" duas vezes.\n",
    "    termos_counter = Counter(consulta)\n",
    "    \n",
    "    # Obtendo-se os documentos e seus respectivos pesos para a consulta\n",
    "    documentos_com_peso = {}\n",
    "    for termo in termos_counter.keys():\n",
    "        \n",
    "        if(termo in indices_invertidos):\n",
    "            for id_doc in indices_invertidos[termo].keys():\n",
    "                if(id_doc in documentos_com_peso):\n",
    "                    documentos_com_peso[id_doc] = documentos_com_peso[id_doc] + 1\n",
    "                else:\n",
    "                    documentos_com_peso[id_doc] = 1\n",
    "    \n",
    "    documentos_tuplas = get_tuplas_documentos_ordenados_peso(documentos_com_peso)\n",
    "    k_primeiros_id_documentos = get_K_primeiros_ids_documentos(documentos_tuplas, k_primeiros_elementos)\n",
    "    \n",
    "    return k_primeiros_id_documentos"
   ]
  },
  {
   "cell_type": "markdown",
   "metadata": {},
   "source": [
    "#### Implementação do algoritmo para a *TF*"
   ]
  },
  {
   "cell_type": "code",
   "execution_count": 8,
   "metadata": {},
   "outputs": [],
   "source": [
    "def get_documentos_ordem_TF(consulta, indices_invertidos, k_primeiros_elementos):\n",
    "    '''\n",
    "        Obtém os documentos ordenados segundo a ideia de \"Term Frequency Weighting\",\n",
    "        na qual, quanto mais o termo se repete na consulta ou no documento, mais pesos\n",
    "        ele tem.\n",
    "    '''\n",
    "    consulta = consulta.split(\" \")\n",
    "    # Separando-se os termos da pesquisa, de forma a contar a repetição de cada termo,\n",
    "    # para assim utilizá-lo no cálculo do peso.\n",
    "    termos_counter = Counter(consulta)\n",
    "    \n",
    "    # Obtendo-se os documentos e seus respectivos pesos para a consulta\n",
    "    documentos_com_peso = {}\n",
    "    for termo in termos_counter.keys():\n",
    "        \n",
    "        if(termo in indices_invertidos):\n",
    "            peso_consulta_termo = termos_counter[termo]\n",
    "            \n",
    "            for id_doc in indices_invertidos[termo].keys():\n",
    "                peso_doc_termo = indices_invertidos[termo][id_doc]\n",
    "                peso_termo = peso_consulta_termo * peso_doc_termo\n",
    "                \n",
    "                if(id_doc in documentos_com_peso):\n",
    "                    documentos_com_peso[id_doc] = documentos_com_peso[id_doc] + peso_termo\n",
    "                else:\n",
    "                    documentos_com_peso[id_doc] = peso_termo\n",
    "    \n",
    "    documentos_tuplas = get_tuplas_documentos_ordenados_peso(documentos_com_peso)\n",
    "    k_primeiros_id_documentos = get_K_primeiros_ids_documentos(documentos_tuplas, k_primeiros_elementos)\n",
    "    \n",
    "    return k_primeiros_id_documentos"
   ]
  },
  {
   "cell_type": "markdown",
   "metadata": {},
   "source": [
    "#### Implementação do algoritmo para a *TF-IDF*"
   ]
  },
  {
   "cell_type": "code",
   "execution_count": 9,
   "metadata": {},
   "outputs": [],
   "source": [
    "def get_documentos_ordem_TF_IDF(consulta, indices_invertidos, k_primeiros_elementos):\n",
    "    '''\n",
    "        Obtém os documentos ordenados segundo a ideia de \"Term Frequency Weighting\" acrescentado do IDF,\n",
    "        no qual, termos muito populares no documento são penalizados e termos pouco populares são valorizados,\n",
    "        o que evita que stop words se sobreponham a outras palavras.\n",
    "    '''\n",
    "    consulta = consulta.split(\" \")\n",
    "    quantidade_documentos_colecao = len(documentos)\n",
    "    \n",
    "    # Separando-se os termos da pesquisa, de forma a contar a repetição de cada termo,\n",
    "    # para assim utilizá-lo no cálculo do peso.\n",
    "    termos_counter = Counter(consulta)\n",
    "    \n",
    "    # Obtendo-se os documentos e seus respectivos pesos para a consulta\n",
    "    documentos_com_peso = {}\n",
    "    for termo in termos_counter.keys():\n",
    "        \n",
    "        if(termo in indices_invertidos):\n",
    "            peso_consulta_termo = termos_counter[termo]\n",
    "            quantidade_documentos_com_termo = len(indices_invertidos[termo].keys())\n",
    "            \n",
    "            for id_doc in indices_invertidos[termo].keys():\n",
    "                peso_doc_termo = indices_invertidos[termo][id_doc] * idf(quantidade_documentos_colecao, quantidade_documentos_com_termo)\n",
    "                peso_termo = peso_consulta_termo * peso_doc_termo\n",
    "                \n",
    "                if(id_doc in documentos_com_peso):\n",
    "                    documentos_com_peso[id_doc] = documentos_com_peso[id_doc] + peso_termo\n",
    "                else:\n",
    "                    documentos_com_peso[id_doc] = peso_termo\n",
    "    \n",
    "    documentos_tuplas = get_tuplas_documentos_ordenados_peso(documentos_com_peso)\n",
    "    k_primeiros_id_documentos = get_K_primeiros_ids_documentos(documentos_tuplas, k_primeiros_elementos)\n",
    "    \n",
    "    return k_primeiros_id_documentos"
   ]
  },
  {
   "cell_type": "markdown",
   "metadata": {},
   "source": [
    "#### Implementação do algoritmo para a *BM25*"
   ]
  },
  {
   "cell_type": "code",
   "execution_count": 10,
   "metadata": {},
   "outputs": [],
   "source": [
    "def get_documentos_ordem_bm25(consulta, indices_invertidos, k):\n",
    "    '''\n",
    "        Obtém os documentos ordenados segundo a ideia do BM25.\n",
    "    '''\n",
    "    consulta = consulta.split(\" \")\n",
    "    quantidade_documentos_colecao = len(documentos)\n",
    "    \n",
    "    # Separando-se os termos da pesquisa, de forma a contar a repetição de cada termo,\n",
    "    # para assim utilizá-lo no cálculo do peso.\n",
    "    termos_counter = Counter(consulta)\n",
    "    \n",
    "    # Obtendo-se os documentos e seus respectivos pesos para a consulta\n",
    "    documentos_com_peso = {}\n",
    "    for termo in termos_counter.keys():\n",
    "        \n",
    "        if(termo in indices_invertidos):\n",
    "            peso_consulta_termo = termos_counter[termo]\n",
    "            quantidade_documentos_com_termo = len(indices_invertidos[termo].keys())\n",
    "            \n",
    "            for id_doc in indices_invertidos[termo].keys():\n",
    "                numerador_peso_doc_termo = (k + 1) * indices_invertidos[termo][id_doc] * idf(quantidade_documentos_colecao, quantidade_documentos_com_termo)\n",
    "                denominador_peso_doc_termo = indices_invertidos[termo][id_doc] + k\n",
    "                peso_doc_termo = numerador_peso_doc_termo / denominador_peso_doc_termo\n",
    "                peso_termo = peso_consulta_termo * peso_doc_termo\n",
    "                \n",
    "                if(id_doc in documentos_com_peso):\n",
    "                    documentos_com_peso[id_doc] = documentos_com_peso[id_doc] + peso_termo\n",
    "                else:\n",
    "                    documentos_com_peso[id_doc] = peso_termo\n",
    "    \n",
    "    documentos_tuplas = get_tuplas_documentos_ordenados_peso(documentos_com_peso)\n",
    "    k_primeiros_id_documentos = get_K_primeiros_ids_documentos(documentos_tuplas, k)\n",
    "    \n",
    "    return k_primeiros_id_documentos"
   ]
  },
  {
   "cell_type": "markdown",
   "metadata": {},
   "source": [
    "### 4) Execute os algoritmos separadamente em 3 consultas de sua escolha e retorne os top-5 documentos mais similares à cada consulta"
   ]
  },
  {
   "cell_type": "markdown",
   "metadata": {},
   "source": [
    "### Consultas a serem realizadas\n",
    "\n",
    "    1. \"jair bolsonaro\"\n",
    "    2. \"governo do brasil\"\n",
    "    3. \"previdencia social\""
   ]
  },
  {
   "cell_type": "markdown",
   "metadata": {},
   "source": [
    "### Consulta por \"jair bolsonaro\""
   ]
  },
  {
   "cell_type": "markdown",
   "metadata": {},
   "source": [
    "##### Execução do algoritmo *Representação Binária* e apresentação da tabela com o id dos documentos do TOP 5"
   ]
  },
  {
   "cell_type": "code",
   "execution_count": 11,
   "metadata": {},
   "outputs": [
    {
     "data": {
      "text/html": [
       "<div>\n",
       "<style scoped>\n",
       "    .dataframe tbody tr th:only-of-type {\n",
       "        vertical-align: middle;\n",
       "    }\n",
       "\n",
       "    .dataframe tbody tr th {\n",
       "        vertical-align: top;\n",
       "    }\n",
       "\n",
       "    .dataframe thead th {\n",
       "        text-align: right;\n",
       "    }\n",
       "</style>\n",
       "<table border=\"1\" class=\"dataframe\">\n",
       "  <thead>\n",
       "    <tr style=\"text-align: right;\">\n",
       "      <th></th>\n",
       "      <th>Ranking</th>\n",
       "      <th>ID documento</th>\n",
       "    </tr>\n",
       "  </thead>\n",
       "  <tbody>\n",
       "    <tr>\n",
       "      <th>0</th>\n",
       "      <td>1</td>\n",
       "      <td>0</td>\n",
       "    </tr>\n",
       "    <tr>\n",
       "      <th>1</th>\n",
       "      <td>2</td>\n",
       "      <td>1</td>\n",
       "    </tr>\n",
       "    <tr>\n",
       "      <th>2</th>\n",
       "      <td>3</td>\n",
       "      <td>145</td>\n",
       "    </tr>\n",
       "    <tr>\n",
       "      <th>3</th>\n",
       "      <td>4</td>\n",
       "      <td>150</td>\n",
       "    </tr>\n",
       "    <tr>\n",
       "      <th>4</th>\n",
       "      <td>5</td>\n",
       "      <td>24</td>\n",
       "    </tr>\n",
       "  </tbody>\n",
       "</table>\n",
       "</div>"
      ],
      "text/plain": [
       "   Ranking  ID documento\n",
       "0        1             0\n",
       "1        2             1\n",
       "2        3           145\n",
       "3        4           150\n",
       "4        5            24"
      ]
     },
     "execution_count": 11,
     "metadata": {},
     "output_type": "execute_result"
    }
   ],
   "source": [
    "ranking = range(1, 6)\n",
    "ids_documentos = get_documentos_ordem_representacao_binaria(\"jair bolsonaro\", indices_invertidos_com_frequencia, 5)\n",
    "\n",
    "tabela_jair_bolsonaro_representacao_binaria = pd.DataFrame({\"Ranking\": ranking, \n",
    "                                 \"ID documento\": ids_documentos})\n",
    "\n",
    "# Reordenando as colunas para a apresentação\n",
    "colunas = [\"Ranking\", \"ID documento\"]\n",
    "tabela_jair_bolsonaro_representacao_binaria = tabela_jair_bolsonaro_representacao_binaria.reindex(columns=colunas)\n",
    "\n",
    "tabela_jair_bolsonaro_representacao_binaria"
   ]
  },
  {
   "cell_type": "markdown",
   "metadata": {},
   "source": [
    "##### Execução do algoritmo *TF* e apresentação da tabela com o id dos documentos do TOP 5"
   ]
  },
  {
   "cell_type": "code",
   "execution_count": 12,
   "metadata": {},
   "outputs": [
    {
     "data": {
      "text/html": [
       "<div>\n",
       "<style scoped>\n",
       "    .dataframe tbody tr th:only-of-type {\n",
       "        vertical-align: middle;\n",
       "    }\n",
       "\n",
       "    .dataframe tbody tr th {\n",
       "        vertical-align: top;\n",
       "    }\n",
       "\n",
       "    .dataframe thead th {\n",
       "        text-align: right;\n",
       "    }\n",
       "</style>\n",
       "<table border=\"1\" class=\"dataframe\">\n",
       "  <thead>\n",
       "    <tr style=\"text-align: right;\">\n",
       "      <th></th>\n",
       "      <th>Ranking</th>\n",
       "      <th>ID documento</th>\n",
       "    </tr>\n",
       "  </thead>\n",
       "  <tbody>\n",
       "    <tr>\n",
       "      <th>0</th>\n",
       "      <td>1</td>\n",
       "      <td>150</td>\n",
       "    </tr>\n",
       "    <tr>\n",
       "      <th>1</th>\n",
       "      <td>2</td>\n",
       "      <td>206</td>\n",
       "    </tr>\n",
       "    <tr>\n",
       "      <th>2</th>\n",
       "      <td>3</td>\n",
       "      <td>165</td>\n",
       "    </tr>\n",
       "    <tr>\n",
       "      <th>3</th>\n",
       "      <td>4</td>\n",
       "      <td>18</td>\n",
       "    </tr>\n",
       "    <tr>\n",
       "      <th>4</th>\n",
       "      <td>5</td>\n",
       "      <td>41</td>\n",
       "    </tr>\n",
       "  </tbody>\n",
       "</table>\n",
       "</div>"
      ],
      "text/plain": [
       "   Ranking  ID documento\n",
       "0        1           150\n",
       "1        2           206\n",
       "2        3           165\n",
       "3        4            18\n",
       "4        5            41"
      ]
     },
     "execution_count": 12,
     "metadata": {},
     "output_type": "execute_result"
    }
   ],
   "source": [
    "ranking = range(1, 6)\n",
    "ids_documentos = get_documentos_ordem_TF(\"jair bolsonaro\", indices_invertidos_com_frequencia, 5)\n",
    "\n",
    "tabela_jair_bolsonaro_TF = pd.DataFrame({\"Ranking\": ranking, \n",
    "                                 \"ID documento\": ids_documentos})\n",
    "\n",
    "# Reordenando as colunas para a apresentação\n",
    "colunas = [\"Ranking\", \"ID documento\"]\n",
    "tabela_jair_bolsonaro_TF = tabela_jair_bolsonaro_TF.reindex(columns=colunas)\n",
    "\n",
    "tabela_jair_bolsonaro_TF"
   ]
  },
  {
   "cell_type": "markdown",
   "metadata": {},
   "source": [
    "##### Execução do algoritmo *TF-IDF* e apresentação da tabela com o id dos documentos do TOP 5"
   ]
  },
  {
   "cell_type": "code",
   "execution_count": 13,
   "metadata": {},
   "outputs": [
    {
     "data": {
      "text/html": [
       "<div>\n",
       "<style scoped>\n",
       "    .dataframe tbody tr th:only-of-type {\n",
       "        vertical-align: middle;\n",
       "    }\n",
       "\n",
       "    .dataframe tbody tr th {\n",
       "        vertical-align: top;\n",
       "    }\n",
       "\n",
       "    .dataframe thead th {\n",
       "        text-align: right;\n",
       "    }\n",
       "</style>\n",
       "<table border=\"1\" class=\"dataframe\">\n",
       "  <thead>\n",
       "    <tr style=\"text-align: right;\">\n",
       "      <th></th>\n",
       "      <th>Ranking</th>\n",
       "      <th>ID documento</th>\n",
       "    </tr>\n",
       "  </thead>\n",
       "  <tbody>\n",
       "    <tr>\n",
       "      <th>0</th>\n",
       "      <td>1</td>\n",
       "      <td>206</td>\n",
       "    </tr>\n",
       "    <tr>\n",
       "      <th>1</th>\n",
       "      <td>2</td>\n",
       "      <td>150</td>\n",
       "    </tr>\n",
       "    <tr>\n",
       "      <th>2</th>\n",
       "      <td>3</td>\n",
       "      <td>165</td>\n",
       "    </tr>\n",
       "    <tr>\n",
       "      <th>3</th>\n",
       "      <td>4</td>\n",
       "      <td>18</td>\n",
       "    </tr>\n",
       "    <tr>\n",
       "      <th>4</th>\n",
       "      <td>5</td>\n",
       "      <td>215</td>\n",
       "    </tr>\n",
       "  </tbody>\n",
       "</table>\n",
       "</div>"
      ],
      "text/plain": [
       "   Ranking  ID documento\n",
       "0        1           206\n",
       "1        2           150\n",
       "2        3           165\n",
       "3        4            18\n",
       "4        5           215"
      ]
     },
     "execution_count": 13,
     "metadata": {},
     "output_type": "execute_result"
    }
   ],
   "source": [
    "ranking = range(1, 6)\n",
    "ids_documentos = get_documentos_ordem_TF_IDF(\"jair bolsonaro\", indices_invertidos_com_frequencia, 5)\n",
    "\n",
    "tabela_jair_bolsonaro_TF_IDF = pd.DataFrame({\"Ranking\": ranking, \n",
    "                                 \"ID documento\": ids_documentos})\n",
    "\n",
    "# Reordenando as colunas para a apresentação\n",
    "colunas = [\"Ranking\", \"ID documento\"]\n",
    "tabela_jair_bolsonaro_TF_IDF = tabela_jair_bolsonaro_TF_IDF.reindex(columns=colunas)\n",
    "\n",
    "tabela_jair_bolsonaro_TF_IDF"
   ]
  },
  {
   "cell_type": "markdown",
   "metadata": {},
   "source": [
    "##### Execução do algoritmo *BM25* e apresentação da tabela com o id dos documentos do TOP 5"
   ]
  },
  {
   "cell_type": "code",
   "execution_count": 14,
   "metadata": {},
   "outputs": [
    {
     "data": {
      "text/html": [
       "<div>\n",
       "<style scoped>\n",
       "    .dataframe tbody tr th:only-of-type {\n",
       "        vertical-align: middle;\n",
       "    }\n",
       "\n",
       "    .dataframe tbody tr th {\n",
       "        vertical-align: top;\n",
       "    }\n",
       "\n",
       "    .dataframe thead th {\n",
       "        text-align: right;\n",
       "    }\n",
       "</style>\n",
       "<table border=\"1\" class=\"dataframe\">\n",
       "  <thead>\n",
       "    <tr style=\"text-align: right;\">\n",
       "      <th></th>\n",
       "      <th>Ranking</th>\n",
       "      <th>ID documento</th>\n",
       "    </tr>\n",
       "  </thead>\n",
       "  <tbody>\n",
       "    <tr>\n",
       "      <th>0</th>\n",
       "      <td>1</td>\n",
       "      <td>206</td>\n",
       "    </tr>\n",
       "    <tr>\n",
       "      <th>1</th>\n",
       "      <td>2</td>\n",
       "      <td>150</td>\n",
       "    </tr>\n",
       "    <tr>\n",
       "      <th>2</th>\n",
       "      <td>3</td>\n",
       "      <td>165</td>\n",
       "    </tr>\n",
       "    <tr>\n",
       "      <th>3</th>\n",
       "      <td>4</td>\n",
       "      <td>215</td>\n",
       "    </tr>\n",
       "    <tr>\n",
       "      <th>4</th>\n",
       "      <td>5</td>\n",
       "      <td>236</td>\n",
       "    </tr>\n",
       "  </tbody>\n",
       "</table>\n",
       "</div>"
      ],
      "text/plain": [
       "   Ranking  ID documento\n",
       "0        1           206\n",
       "1        2           150\n",
       "2        3           165\n",
       "3        4           215\n",
       "4        5           236"
      ]
     },
     "execution_count": 14,
     "metadata": {},
     "output_type": "execute_result"
    }
   ],
   "source": [
    "ranking = range(1, 6)\n",
    "ids_documentos = get_documentos_ordem_bm25(\"jair bolsonaro\", indices_invertidos_com_frequencia, 5)\n",
    "\n",
    "tabela_jair_bolsonaro_BM25 = pd.DataFrame({\"Ranking\": ranking, \n",
    "                                 \"ID documento\": ids_documentos})\n",
    "\n",
    "# Reordenando as colunas para a apresentação\n",
    "colunas = [\"Ranking\", \"ID documento\"]\n",
    "tabela_jair_bolsonaro_BM25 = tabela_jair_bolsonaro_BM25.reindex(columns=colunas)\n",
    "\n",
    "tabela_jair_bolsonaro_BM25"
   ]
  },
  {
   "cell_type": "markdown",
   "metadata": {},
   "source": [
    "### Consulta por \"governo do brasil\""
   ]
  },
  {
   "cell_type": "markdown",
   "metadata": {},
   "source": [
    "##### Execução do algoritmo *Representação Binária*"
   ]
  },
  {
   "cell_type": "code",
   "execution_count": 15,
   "metadata": {},
   "outputs": [
    {
     "data": {
      "text/html": [
       "<div>\n",
       "<style scoped>\n",
       "    .dataframe tbody tr th:only-of-type {\n",
       "        vertical-align: middle;\n",
       "    }\n",
       "\n",
       "    .dataframe tbody tr th {\n",
       "        vertical-align: top;\n",
       "    }\n",
       "\n",
       "    .dataframe thead th {\n",
       "        text-align: right;\n",
       "    }\n",
       "</style>\n",
       "<table border=\"1\" class=\"dataframe\">\n",
       "  <thead>\n",
       "    <tr style=\"text-align: right;\">\n",
       "      <th></th>\n",
       "      <th>Ranking</th>\n",
       "      <th>ID documento</th>\n",
       "    </tr>\n",
       "  </thead>\n",
       "  <tbody>\n",
       "    <tr>\n",
       "      <th>0</th>\n",
       "      <td>1</td>\n",
       "      <td>2</td>\n",
       "    </tr>\n",
       "    <tr>\n",
       "      <th>1</th>\n",
       "      <td>2</td>\n",
       "      <td>7</td>\n",
       "    </tr>\n",
       "    <tr>\n",
       "      <th>2</th>\n",
       "      <td>3</td>\n",
       "      <td>17</td>\n",
       "    </tr>\n",
       "    <tr>\n",
       "      <th>3</th>\n",
       "      <td>4</td>\n",
       "      <td>18</td>\n",
       "    </tr>\n",
       "    <tr>\n",
       "      <th>4</th>\n",
       "      <td>5</td>\n",
       "      <td>20</td>\n",
       "    </tr>\n",
       "  </tbody>\n",
       "</table>\n",
       "</div>"
      ],
      "text/plain": [
       "   Ranking  ID documento\n",
       "0        1             2\n",
       "1        2             7\n",
       "2        3            17\n",
       "3        4            18\n",
       "4        5            20"
      ]
     },
     "execution_count": 15,
     "metadata": {},
     "output_type": "execute_result"
    }
   ],
   "source": [
    "ranking = range(1, 6)\n",
    "ids_documentos = get_documentos_ordem_representacao_binaria(\"governo do brasil\", indices_invertidos_com_frequencia, 5)\n",
    "\n",
    "tabela_jair_bolsonaro_representacao_binaria = pd.DataFrame({\"Ranking\": ranking, \n",
    "                                 \"ID documento\": ids_documentos})\n",
    "\n",
    "# Reordenando as colunas para a apresentação\n",
    "colunas = [\"Ranking\", \"ID documento\"]\n",
    "tabela_jair_bolsonaro_representacao_binaria = tabela_jair_bolsonaro_representacao_binaria.reindex(columns=colunas)\n",
    "\n",
    "tabela_jair_bolsonaro_representacao_binaria"
   ]
  },
  {
   "cell_type": "markdown",
   "metadata": {},
   "source": [
    "##### Execução do algoritmo *TF*"
   ]
  },
  {
   "cell_type": "code",
   "execution_count": 16,
   "metadata": {},
   "outputs": [
    {
     "data": {
      "text/html": [
       "<div>\n",
       "<style scoped>\n",
       "    .dataframe tbody tr th:only-of-type {\n",
       "        vertical-align: middle;\n",
       "    }\n",
       "\n",
       "    .dataframe tbody tr th {\n",
       "        vertical-align: top;\n",
       "    }\n",
       "\n",
       "    .dataframe thead th {\n",
       "        text-align: right;\n",
       "    }\n",
       "</style>\n",
       "<table border=\"1\" class=\"dataframe\">\n",
       "  <thead>\n",
       "    <tr style=\"text-align: right;\">\n",
       "      <th></th>\n",
       "      <th>Ranking</th>\n",
       "      <th>ID documento</th>\n",
       "    </tr>\n",
       "  </thead>\n",
       "  <tbody>\n",
       "    <tr>\n",
       "      <th>0</th>\n",
       "      <td>1</td>\n",
       "      <td>150</td>\n",
       "    </tr>\n",
       "    <tr>\n",
       "      <th>1</th>\n",
       "      <td>2</td>\n",
       "      <td>165</td>\n",
       "    </tr>\n",
       "    <tr>\n",
       "      <th>2</th>\n",
       "      <td>3</td>\n",
       "      <td>172</td>\n",
       "    </tr>\n",
       "    <tr>\n",
       "      <th>3</th>\n",
       "      <td>4</td>\n",
       "      <td>18</td>\n",
       "    </tr>\n",
       "    <tr>\n",
       "      <th>4</th>\n",
       "      <td>5</td>\n",
       "      <td>247</td>\n",
       "    </tr>\n",
       "  </tbody>\n",
       "</table>\n",
       "</div>"
      ],
      "text/plain": [
       "   Ranking  ID documento\n",
       "0        1           150\n",
       "1        2           165\n",
       "2        3           172\n",
       "3        4            18\n",
       "4        5           247"
      ]
     },
     "execution_count": 16,
     "metadata": {},
     "output_type": "execute_result"
    }
   ],
   "source": [
    "ranking = range(1, 6)\n",
    "ids_documentos = get_documentos_ordem_TF(\"governo do brasil\", indices_invertidos_com_frequencia, 5)\n",
    "\n",
    "tabela_jair_bolsonaro_TF = pd.DataFrame({\"Ranking\": ranking, \n",
    "                                 \"ID documento\": ids_documentos})\n",
    "\n",
    "# Reordenando as colunas para a apresentação\n",
    "colunas = [\"Ranking\", \"ID documento\"]\n",
    "tabela_jair_bolsonaro_TF = tabela_jair_bolsonaro_TF.reindex(columns=colunas)\n",
    "\n",
    "tabela_jair_bolsonaro_TF"
   ]
  },
  {
   "cell_type": "markdown",
   "metadata": {},
   "source": [
    "##### Execução do algoritmo *TF-IDF*"
   ]
  },
  {
   "cell_type": "code",
   "execution_count": 17,
   "metadata": {},
   "outputs": [
    {
     "data": {
      "text/html": [
       "<div>\n",
       "<style scoped>\n",
       "    .dataframe tbody tr th:only-of-type {\n",
       "        vertical-align: middle;\n",
       "    }\n",
       "\n",
       "    .dataframe tbody tr th {\n",
       "        vertical-align: top;\n",
       "    }\n",
       "\n",
       "    .dataframe thead th {\n",
       "        text-align: right;\n",
       "    }\n",
       "</style>\n",
       "<table border=\"1\" class=\"dataframe\">\n",
       "  <thead>\n",
       "    <tr style=\"text-align: right;\">\n",
       "      <th></th>\n",
       "      <th>Ranking</th>\n",
       "      <th>ID documento</th>\n",
       "    </tr>\n",
       "  </thead>\n",
       "  <tbody>\n",
       "    <tr>\n",
       "      <th>0</th>\n",
       "      <td>1</td>\n",
       "      <td>150</td>\n",
       "    </tr>\n",
       "    <tr>\n",
       "      <th>1</th>\n",
       "      <td>2</td>\n",
       "      <td>165</td>\n",
       "    </tr>\n",
       "    <tr>\n",
       "      <th>2</th>\n",
       "      <td>3</td>\n",
       "      <td>172</td>\n",
       "    </tr>\n",
       "    <tr>\n",
       "      <th>3</th>\n",
       "      <td>4</td>\n",
       "      <td>18</td>\n",
       "    </tr>\n",
       "    <tr>\n",
       "      <th>4</th>\n",
       "      <td>5</td>\n",
       "      <td>247</td>\n",
       "    </tr>\n",
       "  </tbody>\n",
       "</table>\n",
       "</div>"
      ],
      "text/plain": [
       "   Ranking  ID documento\n",
       "0        1           150\n",
       "1        2           165\n",
       "2        3           172\n",
       "3        4            18\n",
       "4        5           247"
      ]
     },
     "execution_count": 17,
     "metadata": {},
     "output_type": "execute_result"
    }
   ],
   "source": [
    "ranking = range(1, 6)\n",
    "ids_documentos = get_documentos_ordem_TF_IDF(\"governo do brasil\", indices_invertidos_com_frequencia, 5)\n",
    "\n",
    "tabela_jair_bolsonaro_TF_IDF = pd.DataFrame({\"Ranking\": ranking, \n",
    "                                 \"ID documento\": ids_documentos})\n",
    "\n",
    "# Reordenando as colunas para a apresentação\n",
    "colunas = [\"Ranking\", \"ID documento\"]\n",
    "tabela_jair_bolsonaro_TF_IDF = tabela_jair_bolsonaro_TF_IDF.reindex(columns=colunas)\n",
    "\n",
    "tabela_jair_bolsonaro_TF_IDF"
   ]
  },
  {
   "cell_type": "markdown",
   "metadata": {},
   "source": [
    "##### Execução do algoritmo *BM25*"
   ]
  },
  {
   "cell_type": "code",
   "execution_count": 18,
   "metadata": {},
   "outputs": [
    {
     "data": {
      "text/html": [
       "<div>\n",
       "<style scoped>\n",
       "    .dataframe tbody tr th:only-of-type {\n",
       "        vertical-align: middle;\n",
       "    }\n",
       "\n",
       "    .dataframe tbody tr th {\n",
       "        vertical-align: top;\n",
       "    }\n",
       "\n",
       "    .dataframe thead th {\n",
       "        text-align: right;\n",
       "    }\n",
       "</style>\n",
       "<table border=\"1\" class=\"dataframe\">\n",
       "  <thead>\n",
       "    <tr style=\"text-align: right;\">\n",
       "      <th></th>\n",
       "      <th>Ranking</th>\n",
       "      <th>ID documento</th>\n",
       "    </tr>\n",
       "  </thead>\n",
       "  <tbody>\n",
       "    <tr>\n",
       "      <th>0</th>\n",
       "      <td>1</td>\n",
       "      <td>165</td>\n",
       "    </tr>\n",
       "    <tr>\n",
       "      <th>1</th>\n",
       "      <td>2</td>\n",
       "      <td>172</td>\n",
       "    </tr>\n",
       "    <tr>\n",
       "      <th>2</th>\n",
       "      <td>3</td>\n",
       "      <td>247</td>\n",
       "    </tr>\n",
       "    <tr>\n",
       "      <th>3</th>\n",
       "      <td>4</td>\n",
       "      <td>18</td>\n",
       "    </tr>\n",
       "    <tr>\n",
       "      <th>4</th>\n",
       "      <td>5</td>\n",
       "      <td>114</td>\n",
       "    </tr>\n",
       "  </tbody>\n",
       "</table>\n",
       "</div>"
      ],
      "text/plain": [
       "   Ranking  ID documento\n",
       "0        1           165\n",
       "1        2           172\n",
       "2        3           247\n",
       "3        4            18\n",
       "4        5           114"
      ]
     },
     "execution_count": 18,
     "metadata": {},
     "output_type": "execute_result"
    }
   ],
   "source": [
    "ranking = range(1, 6)\n",
    "ids_documentos = get_documentos_ordem_bm25(\"governo do brasil\", indices_invertidos_com_frequencia, 5)\n",
    "\n",
    "tabela_jair_bolsonaro_BM25 = pd.DataFrame({\"Ranking\": ranking, \n",
    "                                 \"ID documento\": ids_documentos})\n",
    "\n",
    "# Reordenando as colunas para a apresentação\n",
    "colunas = [\"Ranking\", \"ID documento\"]\n",
    "tabela_jair_bolsonaro_BM25 = tabela_jair_bolsonaro_BM25.reindex(columns=colunas)\n",
    "\n",
    "tabela_jair_bolsonaro_BM25"
   ]
  },
  {
   "cell_type": "markdown",
   "metadata": {},
   "source": [
    "### Consulta por \"previdencia social\""
   ]
  },
  {
   "cell_type": "markdown",
   "metadata": {},
   "source": [
    "##### Execução do algoritmo *Representação Binária*"
   ]
  },
  {
   "cell_type": "code",
   "execution_count": 19,
   "metadata": {},
   "outputs": [
    {
     "data": {
      "text/html": [
       "<div>\n",
       "<style scoped>\n",
       "    .dataframe tbody tr th:only-of-type {\n",
       "        vertical-align: middle;\n",
       "    }\n",
       "\n",
       "    .dataframe tbody tr th {\n",
       "        vertical-align: top;\n",
       "    }\n",
       "\n",
       "    .dataframe thead th {\n",
       "        text-align: right;\n",
       "    }\n",
       "</style>\n",
       "<table border=\"1\" class=\"dataframe\">\n",
       "  <thead>\n",
       "    <tr style=\"text-align: right;\">\n",
       "      <th></th>\n",
       "      <th>Ranking</th>\n",
       "      <th>ID documento</th>\n",
       "    </tr>\n",
       "  </thead>\n",
       "  <tbody>\n",
       "    <tr>\n",
       "      <th>0</th>\n",
       "      <td>1</td>\n",
       "      <td>139</td>\n",
       "    </tr>\n",
       "    <tr>\n",
       "      <th>1</th>\n",
       "      <td>2</td>\n",
       "      <td>35</td>\n",
       "    </tr>\n",
       "    <tr>\n",
       "      <th>2</th>\n",
       "      <td>3</td>\n",
       "      <td>165</td>\n",
       "    </tr>\n",
       "    <tr>\n",
       "      <th>3</th>\n",
       "      <td>4</td>\n",
       "      <td>172</td>\n",
       "    </tr>\n",
       "    <tr>\n",
       "      <th>4</th>\n",
       "      <td>5</td>\n",
       "      <td>212</td>\n",
       "    </tr>\n",
       "  </tbody>\n",
       "</table>\n",
       "</div>"
      ],
      "text/plain": [
       "   Ranking  ID documento\n",
       "0        1           139\n",
       "1        2            35\n",
       "2        3           165\n",
       "3        4           172\n",
       "4        5           212"
      ]
     },
     "execution_count": 19,
     "metadata": {},
     "output_type": "execute_result"
    }
   ],
   "source": [
    "ranking = range(1, 6)\n",
    "ids_documentos = get_documentos_ordem_representacao_binaria(\"previdencia social\", indices_invertidos_com_frequencia, 5)\n",
    "\n",
    "tabela_jair_bolsonaro_representacao_binaria = pd.DataFrame({\"Ranking\": ranking, \n",
    "                                 \"ID documento\": ids_documentos})\n",
    "\n",
    "# Reordenando as colunas para a apresentação\n",
    "colunas = [\"Ranking\", \"ID documento\"]\n",
    "tabela_jair_bolsonaro_representacao_binaria = tabela_jair_bolsonaro_representacao_binaria.reindex(columns=colunas)\n",
    "\n",
    "tabela_jair_bolsonaro_representacao_binaria"
   ]
  },
  {
   "cell_type": "markdown",
   "metadata": {},
   "source": [
    "##### Execução do algoritmo *TF*"
   ]
  },
  {
   "cell_type": "code",
   "execution_count": 20,
   "metadata": {},
   "outputs": [
    {
     "data": {
      "text/html": [
       "<div>\n",
       "<style scoped>\n",
       "    .dataframe tbody tr th:only-of-type {\n",
       "        vertical-align: middle;\n",
       "    }\n",
       "\n",
       "    .dataframe tbody tr th {\n",
       "        vertical-align: top;\n",
       "    }\n",
       "\n",
       "    .dataframe thead th {\n",
       "        text-align: right;\n",
       "    }\n",
       "</style>\n",
       "<table border=\"1\" class=\"dataframe\">\n",
       "  <thead>\n",
       "    <tr style=\"text-align: right;\">\n",
       "      <th></th>\n",
       "      <th>Ranking</th>\n",
       "      <th>ID documento</th>\n",
       "    </tr>\n",
       "  </thead>\n",
       "  <tbody>\n",
       "    <tr>\n",
       "      <th>0</th>\n",
       "      <td>1</td>\n",
       "      <td>36</td>\n",
       "    </tr>\n",
       "    <tr>\n",
       "      <th>1</th>\n",
       "      <td>2</td>\n",
       "      <td>247</td>\n",
       "    </tr>\n",
       "    <tr>\n",
       "      <th>2</th>\n",
       "      <td>3</td>\n",
       "      <td>137</td>\n",
       "    </tr>\n",
       "    <tr>\n",
       "      <th>3</th>\n",
       "      <td>4</td>\n",
       "      <td>165</td>\n",
       "    </tr>\n",
       "    <tr>\n",
       "      <th>4</th>\n",
       "      <td>5</td>\n",
       "      <td>212</td>\n",
       "    </tr>\n",
       "  </tbody>\n",
       "</table>\n",
       "</div>"
      ],
      "text/plain": [
       "   Ranking  ID documento\n",
       "0        1            36\n",
       "1        2           247\n",
       "2        3           137\n",
       "3        4           165\n",
       "4        5           212"
      ]
     },
     "execution_count": 20,
     "metadata": {},
     "output_type": "execute_result"
    }
   ],
   "source": [
    "ranking = range(1, 6)\n",
    "ids_documentos = get_documentos_ordem_TF(\"previdencia social\", indices_invertidos_com_frequencia, 5)\n",
    "\n",
    "tabela_jair_bolsonaro_TF = pd.DataFrame({\"Ranking\": ranking, \n",
    "                                 \"ID documento\": ids_documentos})\n",
    "\n",
    "# Reordenando as colunas para a apresentação\n",
    "colunas = [\"Ranking\", \"ID documento\"]\n",
    "tabela_jair_bolsonaro_TF = tabela_jair_bolsonaro_TF.reindex(columns=colunas)\n",
    "\n",
    "tabela_jair_bolsonaro_TF"
   ]
  },
  {
   "cell_type": "markdown",
   "metadata": {},
   "source": [
    "##### Execução do algoritmo *TF-IDF*"
   ]
  },
  {
   "cell_type": "code",
   "execution_count": 21,
   "metadata": {},
   "outputs": [
    {
     "data": {
      "text/html": [
       "<div>\n",
       "<style scoped>\n",
       "    .dataframe tbody tr th:only-of-type {\n",
       "        vertical-align: middle;\n",
       "    }\n",
       "\n",
       "    .dataframe tbody tr th {\n",
       "        vertical-align: top;\n",
       "    }\n",
       "\n",
       "    .dataframe thead th {\n",
       "        text-align: right;\n",
       "    }\n",
       "</style>\n",
       "<table border=\"1\" class=\"dataframe\">\n",
       "  <thead>\n",
       "    <tr style=\"text-align: right;\">\n",
       "      <th></th>\n",
       "      <th>Ranking</th>\n",
       "      <th>ID documento</th>\n",
       "    </tr>\n",
       "  </thead>\n",
       "  <tbody>\n",
       "    <tr>\n",
       "      <th>0</th>\n",
       "      <td>1</td>\n",
       "      <td>36</td>\n",
       "    </tr>\n",
       "    <tr>\n",
       "      <th>1</th>\n",
       "      <td>2</td>\n",
       "      <td>247</td>\n",
       "    </tr>\n",
       "    <tr>\n",
       "      <th>2</th>\n",
       "      <td>3</td>\n",
       "      <td>137</td>\n",
       "    </tr>\n",
       "    <tr>\n",
       "      <th>3</th>\n",
       "      <td>4</td>\n",
       "      <td>165</td>\n",
       "    </tr>\n",
       "    <tr>\n",
       "      <th>4</th>\n",
       "      <td>5</td>\n",
       "      <td>212</td>\n",
       "    </tr>\n",
       "  </tbody>\n",
       "</table>\n",
       "</div>"
      ],
      "text/plain": [
       "   Ranking  ID documento\n",
       "0        1            36\n",
       "1        2           247\n",
       "2        3           137\n",
       "3        4           165\n",
       "4        5           212"
      ]
     },
     "execution_count": 21,
     "metadata": {},
     "output_type": "execute_result"
    }
   ],
   "source": [
    "ranking = range(1, 6)\n",
    "ids_documentos = get_documentos_ordem_TF_IDF(\"previdencia social\", indices_invertidos_com_frequencia, 5)\n",
    "\n",
    "tabela_jair_bolsonaro_TF_IDF = pd.DataFrame({\"Ranking\": ranking, \n",
    "                                 \"ID documento\": ids_documentos})\n",
    "\n",
    "# Reordenando as colunas para a apresentação\n",
    "colunas = [\"Ranking\", \"ID documento\"]\n",
    "tabela_jair_bolsonaro_TF_IDF = tabela_jair_bolsonaro_TF_IDF.reindex(columns=colunas)\n",
    "\n",
    "tabela_jair_bolsonaro_TF_IDF"
   ]
  },
  {
   "cell_type": "markdown",
   "metadata": {},
   "source": [
    "##### Execução do algoritmo *BM25*"
   ]
  },
  {
   "cell_type": "code",
   "execution_count": 22,
   "metadata": {},
   "outputs": [
    {
     "data": {
      "text/html": [
       "<div>\n",
       "<style scoped>\n",
       "    .dataframe tbody tr th:only-of-type {\n",
       "        vertical-align: middle;\n",
       "    }\n",
       "\n",
       "    .dataframe tbody tr th {\n",
       "        vertical-align: top;\n",
       "    }\n",
       "\n",
       "    .dataframe thead th {\n",
       "        text-align: right;\n",
       "    }\n",
       "</style>\n",
       "<table border=\"1\" class=\"dataframe\">\n",
       "  <thead>\n",
       "    <tr style=\"text-align: right;\">\n",
       "      <th></th>\n",
       "      <th>Ranking</th>\n",
       "      <th>ID documento</th>\n",
       "    </tr>\n",
       "  </thead>\n",
       "  <tbody>\n",
       "    <tr>\n",
       "      <th>0</th>\n",
       "      <td>1</td>\n",
       "      <td>247</td>\n",
       "    </tr>\n",
       "    <tr>\n",
       "      <th>1</th>\n",
       "      <td>2</td>\n",
       "      <td>36</td>\n",
       "    </tr>\n",
       "    <tr>\n",
       "      <th>2</th>\n",
       "      <td>3</td>\n",
       "      <td>165</td>\n",
       "    </tr>\n",
       "    <tr>\n",
       "      <th>3</th>\n",
       "      <td>4</td>\n",
       "      <td>212</td>\n",
       "    </tr>\n",
       "    <tr>\n",
       "      <th>4</th>\n",
       "      <td>5</td>\n",
       "      <td>137</td>\n",
       "    </tr>\n",
       "  </tbody>\n",
       "</table>\n",
       "</div>"
      ],
      "text/plain": [
       "   Ranking  ID documento\n",
       "0        1           247\n",
       "1        2            36\n",
       "2        3           165\n",
       "3        4           212\n",
       "4        5           137"
      ]
     },
     "execution_count": 22,
     "metadata": {},
     "output_type": "execute_result"
    }
   ],
   "source": [
    "ranking = range(1, 6)\n",
    "ids_documentos = get_documentos_ordem_bm25(\"previdencia social\", indices_invertidos_com_frequencia, 5)\n",
    "\n",
    "tabela_jair_bolsonaro_BM25 = pd.DataFrame({\"Ranking\": ranking, \n",
    "                                 \"ID documento\": ids_documentos})\n",
    "\n",
    "# Reordenando as colunas para a apresentação\n",
    "colunas = [\"Ranking\", \"ID documento\"]\n",
    "tabela_jair_bolsonaro_BM25 = tabela_jair_bolsonaro_BM25.reindex(columns=colunas)\n",
    "\n",
    "tabela_jair_bolsonaro_BM25"
   ]
  },
  {
   "cell_type": "markdown",
   "metadata": {},
   "source": [
    "### 5) Compare os resultados encontrados e responda."
   ]
  },
  {
   "cell_type": "markdown",
   "metadata": {},
   "source": [
    "### 5.1) Quais modelos você acha que trouxe os melhores resultados? Por que? Inspecione os documentos retornados para melhor embasar sua resposta."
   ]
  },
  {
   "cell_type": "markdown",
   "metadata": {},
   "source": [
    "Fazendo-se uma busca por \"previdencial social\", espero encontrar documentos que retratem a previdencia social, seja pela situação atual da mesma ou pela reforma, pois o assunto está em foco.  \n",
    "\n",
    "Nesta perspectiva, observei o top 5 retornado por cada algoritmo, e tornou-se perceptível que o algoritmo por \"representação binária\" é o que mais se distoa em relação aos resultados, tendo apenas os documentos de identificação \"165\" e \"212\" como equivalentes aos demais resultados. Os demais algoritmos retornam o mesmo resultado, tendo a diferença que os algoritmos TF e TF-IDF tem o mesmo ranking e o algoritmo BM25 possui uma ordem diferente para os documentos.  \n",
    "\n",
    "Para a avaliação, observei o conteúdo de cada artigo para tentar me embasar e ver o quão são uteis para minha busca, fomentando meu próprio ranking dos aritgos. Logo, de todos os resultados, vi que os documentos com id **36**, **247** e **137** falam muito sobre previdência, destacando-se pontos ruins e bons sobre a mesma, tendo-se **destaque o 36** por discutir durante todo o artigo sobre a previdência, contexto históricos e a reforma. Logo, **estão no topo do meu ranking**. Os demais documentos retornados possuem conteúdo sobre a previdência, mas não são o foco principal do tema, pois os mesmos visam mais criticar o governo de Bolsonaro e apresentar problemas do mesmo, dentre eles, eles citam a previdência, mas o foco são apresentar problemas e não discutir sobre a previdência ou sobre a reforma dela. \n",
    "\n",
    "Meu Ranking fica:\n",
    "    1. 36\n",
    "    2. 247\n",
    "    3. 137\n",
    "    4. 139\n",
    "    5. 165\n",
    "    \n",
    "Sendo assim, levando-se em consideração o conteúdo desses artigos e que meu foco nos resultados é falar sobre a previdência, dando total foco a ela, acredito que os artigos **36**, **247** e **137** foram os mais contudentes, por isso estaõ no topo do ranking, o **139** fala bem sobre a previdência, e o **165** fala sobre a mesma, mas a utiliza mais em crítcas. Desses artigos apenas o 139 foi obtido pelo algoritmo de \"Representação Binária\" o que o desqualifica como o que possui os melhores resultados. Os demais algoritmos retornaram 4 desses documentos, dos quais o TF e o TF-IDF possuem o mesmo top 3 que o meu ranking. O BM25, coloca o **247 a frente do 36**, o que no meu ranking não se configura, ademais, ele considera o **137** menos importante que os documentos **165** e **212**, os quais apesar de falarem da previdência, utilizam-na mais para críticas do que para discutir sobre ela. Logo, se baseando no meu ranking de artigos, acredito que o **TF** e o **TF-IDF** obtiveram os melhores resultados para a minha pesquisa."
   ]
  },
  {
   "cell_type": "markdown",
   "metadata": {},
   "source": [
    "### 5.2) Calcule e reporte o overlap par-a-par entre os resultados de cada modelo (usando o índice de Jaccard)."
   ]
  },
  {
   "cell_type": "markdown",
   "metadata": {},
   "source": [
    "Utilizando como exemplo a consulta \"jair bolsonaro\" faço os cálculos par a par entre os algoritmos em busca de obter os que possuem maior similaridade e os que possuem menor. Logo, segue-se abaixo, os cálculos."
   ]
  },
  {
   "cell_type": "markdown",
   "metadata": {},
   "source": [
    "#### Algortimos úteis para os cálculos do índice de Jaccard."
   ]
  },
  {
   "cell_type": "code",
   "execution_count": 23,
   "metadata": {},
   "outputs": [],
   "source": [
    "def getIntersecao(lista1, lista2):\n",
    "    '''\n",
    "        Retorna a interseção de duas listas\n",
    "    '''\n",
    "    return list(set(lista1) & set(lista2)) \n",
    "\n",
    "def getUniao(lista1, lista2):\n",
    "    '''\n",
    "        Retorna a união de duas listas\n",
    "    '''\n",
    "    return list(set(lista1) | set(lista2)) \n",
    "    \n",
    "def getIndiceJaccard(conjunto1, conjunto2):\n",
    "    '''\n",
    "        Retorna o índice de Jaccard para os dois conjuntos passados.\n",
    "    '''\n",
    "    cardinalidade_intersecao_conjuntos = float(len(getIntersecao(conjunto1, conjunto2)))\n",
    "    cardinalidade_uniao_conjuntos = float(len(getUniao(conjunto1, conjunto2)))\n",
    "    \n",
    "    return cardinalidade_intersecao_conjuntos / cardinalidade_uniao_conjuntos"
   ]
  },
  {
   "cell_type": "markdown",
   "metadata": {},
   "source": [
    "#### Calculando-se os índices de Jaccard"
   ]
  },
  {
   "cell_type": "code",
   "execution_count": 24,
   "metadata": {},
   "outputs": [],
   "source": [
    "ids_documentos_representcao_binaria = get_documentos_ordem_representacao_binaria(\"jair bolsonaro\", indices_invertidos_com_frequencia, 5)\n",
    "ids_documentos_tf = get_documentos_ordem_TF(\"jair bolsonaro\", indices_invertidos_com_frequencia, 5)\n",
    "ids_documentos_tf_idf = get_documentos_ordem_TF_IDF(\"jair bolsonaro\", indices_invertidos_com_frequencia, 5)\n",
    "ids_documentos_bm25 = get_documentos_ordem_bm25(\"jair bolsonaro\", indices_invertidos_com_frequencia, 5)\n",
    "\n",
    "# índice de jaccard entre os algoritmos de representação binária e TF\n",
    "indice_jaccard_rep_binaria_e_tf = getIndiceJaccard(ids_documentos_representcao_binaria, ids_documentos_tf)\n",
    "\n",
    "# índice de jaccard entre os algoritmos de representação binária e TF-IDF\n",
    "indice_jaccard_rep_binaria_e_tf_idf = getIndiceJaccard(ids_documentos_representcao_binaria, ids_documentos_tf_idf)\n",
    "\n",
    "# índice de jaccard entre os algoritmos de representação binária e BM25\n",
    "indice_jaccard_rep_binaria_e_bm25 = getIndiceJaccard(ids_documentos_representcao_binaria, ids_documentos_bm25)\n",
    "\n",
    "# índice de jaccard entre os algoritmos de TF e TF-IDF\n",
    "indice_jaccard_tf_e_tf_idf = getIndiceJaccard(ids_documentos_tf, ids_documentos_tf_idf)\n",
    "\n",
    "# índice de jaccard entre os algoritmos de TF e BM25\n",
    "indice_jaccard_tf_e_bm25 = getIndiceJaccard(ids_documentos_tf, ids_documentos_bm25)\n",
    "\n",
    "# índice de jaccard entre os algoritmos de TF-IDF e BM25\n",
    "indice_jaccard_tf_idf_e_bm25 = getIndiceJaccard(ids_documentos_tf_idf, ids_documentos_bm25)"
   ]
  },
  {
   "cell_type": "markdown",
   "metadata": {},
   "source": [
    "#### Tabela para apresentar as similaridades entres os resultados dos algoritmos"
   ]
  },
  {
   "cell_type": "code",
   "execution_count": 25,
   "metadata": {},
   "outputs": [
    {
     "data": {
      "text/html": [
       "<div>\n",
       "<style scoped>\n",
       "    .dataframe tbody tr th:only-of-type {\n",
       "        vertical-align: middle;\n",
       "    }\n",
       "\n",
       "    .dataframe tbody tr th {\n",
       "        vertical-align: top;\n",
       "    }\n",
       "\n",
       "    .dataframe thead th {\n",
       "        text-align: right;\n",
       "    }\n",
       "</style>\n",
       "<table border=\"1\" class=\"dataframe\">\n",
       "  <thead>\n",
       "    <tr style=\"text-align: right;\">\n",
       "      <th></th>\n",
       "      <th>Algoritmo 1</th>\n",
       "      <th>Algoritmo 2</th>\n",
       "      <th>Similaridade</th>\n",
       "    </tr>\n",
       "  </thead>\n",
       "  <tbody>\n",
       "    <tr>\n",
       "      <th>0</th>\n",
       "      <td>Representação Binária</td>\n",
       "      <td>TF</td>\n",
       "      <td>0.111111</td>\n",
       "    </tr>\n",
       "    <tr>\n",
       "      <th>1</th>\n",
       "      <td>Representação Binária</td>\n",
       "      <td>TF-IDF</td>\n",
       "      <td>0.111111</td>\n",
       "    </tr>\n",
       "    <tr>\n",
       "      <th>2</th>\n",
       "      <td>Representação Binária</td>\n",
       "      <td>BM25</td>\n",
       "      <td>0.111111</td>\n",
       "    </tr>\n",
       "    <tr>\n",
       "      <th>3</th>\n",
       "      <td>TF</td>\n",
       "      <td>TF-IDF</td>\n",
       "      <td>0.666667</td>\n",
       "    </tr>\n",
       "    <tr>\n",
       "      <th>4</th>\n",
       "      <td>TF</td>\n",
       "      <td>BM25</td>\n",
       "      <td>0.428571</td>\n",
       "    </tr>\n",
       "    <tr>\n",
       "      <th>5</th>\n",
       "      <td>TF-IDF</td>\n",
       "      <td>BM25</td>\n",
       "      <td>0.666667</td>\n",
       "    </tr>\n",
       "  </tbody>\n",
       "</table>\n",
       "</div>"
      ],
      "text/plain": [
       "             Algoritmo 1 Algoritmo 2  Similaridade\n",
       "0  Representação Binária          TF      0.111111\n",
       "1  Representação Binária      TF-IDF      0.111111\n",
       "2  Representação Binária        BM25      0.111111\n",
       "3                     TF      TF-IDF      0.666667\n",
       "4                     TF        BM25      0.428571\n",
       "5                 TF-IDF        BM25      0.666667"
      ]
     },
     "execution_count": 25,
     "metadata": {},
     "output_type": "execute_result"
    }
   ],
   "source": [
    "algoritmos1 = [\"Representação Binária\", \"Representação Binária\", \"Representação Binária\", \"TF\", \"TF\", \"TF-IDF\"]\n",
    "algoritmos2 = [\"TF\", \"TF-IDF\", \"BM25\", \"TF-IDF\", \"BM25\", \"BM25\"]\n",
    "similaridades = [indice_jaccard_rep_binaria_e_tf, indice_jaccard_rep_binaria_e_tf_idf, indice_jaccard_rep_binaria_e_bm25,\n",
    "                indice_jaccard_tf_e_tf_idf, indice_jaccard_tf_e_bm25, indice_jaccard_tf_idf_e_bm25]\n",
    "\n",
    "tabela_similaridade = pd.DataFrame({\"Algoritmo 1\": algoritmos1, \"Algoritmo 2\": algoritmos2, \"Similaridade\": similaridades})\n",
    "\n",
    "# Reordenando as colunas para a apresentação\n",
    "colunas = [\"Algoritmo 1\", \"Algoritmo 2\", \"Similaridade\"]\n",
    "tabela_similaridade = tabela_similaridade.reindex(columns=colunas)\n",
    "\n",
    "tabela_similaridade"
   ]
  },
  {
   "cell_type": "markdown",
   "metadata": {},
   "source": [
    "Observa-se que o algoritmo de Representação Binária é o que possui os resultados mais distoantes, sendo, portanto, o que possui a menor similaridade. Enquanto que se apresentam bem similares os resultados dos algoritmos TF com os do TF-IDF, assi como, os resultados do TF-IDF como o BM25. Logo, pode-se ver que o TF-IDF tem um maior indício de similaridade para com os demais algoritmos."
   ]
  }
 ],
 "metadata": {
  "kernelspec": {
   "display_name": "Python 2",
   "language": "python",
   "name": "python2"
  },
  "language_info": {
   "codemirror_mode": {
    "name": "ipython",
    "version": 2
   },
   "file_extension": ".py",
   "mimetype": "text/x-python",
   "name": "python",
   "nbconvert_exporter": "python",
   "pygments_lexer": "ipython2",
   "version": "2.7.15rc1"
  }
 },
 "nbformat": 4,
 "nbformat_minor": 2
}
